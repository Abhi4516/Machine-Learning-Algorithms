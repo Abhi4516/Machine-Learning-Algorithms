{
 "cells": [
  {
   "cell_type": "code",
   "execution_count": 15,
   "id": "75be3d9a",
   "metadata": {},
   "outputs": [],
   "source": [
    "import optuna\n",
    "import xgboost as xgb\n",
    "import pandas as pd\n",
    "import  numpy as np\n",
    "from sklearn.model_selection import train_test_split\n",
    "from xgboost import XGBRegressor\n",
    "from xgboost import XGBClassifier "
   ]
  },
  {
   "cell_type": "code",
   "execution_count": 2,
   "id": "df9929dc",
   "metadata": {},
   "outputs": [],
   "source": [
    "dff=pd.read_csv(r'D:\\360DIGITMG\\Machine Learning\\DataSet\\Admission_Prediction.csv')"
   ]
  },
  {
   "cell_type": "code",
   "execution_count": 3,
   "id": "81184c03",
   "metadata": {},
   "outputs": [
    {
     "data": {
      "text/html": [
       "<div>\n",
       "<style scoped>\n",
       "    .dataframe tbody tr th:only-of-type {\n",
       "        vertical-align: middle;\n",
       "    }\n",
       "\n",
       "    .dataframe tbody tr th {\n",
       "        vertical-align: top;\n",
       "    }\n",
       "\n",
       "    .dataframe thead th {\n",
       "        text-align: right;\n",
       "    }\n",
       "</style>\n",
       "<table border=\"1\" class=\"dataframe\">\n",
       "  <thead>\n",
       "    <tr style=\"text-align: right;\">\n",
       "      <th></th>\n",
       "      <th>Serial No.</th>\n",
       "      <th>GRE Score</th>\n",
       "      <th>TOEFL Score</th>\n",
       "      <th>University Rating</th>\n",
       "      <th>SOP</th>\n",
       "      <th>LOR</th>\n",
       "      <th>CGPA</th>\n",
       "      <th>Research</th>\n",
       "      <th>Chance of Admit</th>\n",
       "    </tr>\n",
       "  </thead>\n",
       "  <tbody>\n",
       "    <tr>\n",
       "      <th>0</th>\n",
       "      <td>1</td>\n",
       "      <td>337.0</td>\n",
       "      <td>118.0</td>\n",
       "      <td>4.0</td>\n",
       "      <td>4.5</td>\n",
       "      <td>4.5</td>\n",
       "      <td>9.65</td>\n",
       "      <td>1</td>\n",
       "      <td>0.92</td>\n",
       "    </tr>\n",
       "    <tr>\n",
       "      <th>1</th>\n",
       "      <td>2</td>\n",
       "      <td>324.0</td>\n",
       "      <td>107.0</td>\n",
       "      <td>4.0</td>\n",
       "      <td>4.0</td>\n",
       "      <td>4.5</td>\n",
       "      <td>8.87</td>\n",
       "      <td>1</td>\n",
       "      <td>0.76</td>\n",
       "    </tr>\n",
       "    <tr>\n",
       "      <th>2</th>\n",
       "      <td>3</td>\n",
       "      <td>NaN</td>\n",
       "      <td>104.0</td>\n",
       "      <td>3.0</td>\n",
       "      <td>3.0</td>\n",
       "      <td>3.5</td>\n",
       "      <td>8.00</td>\n",
       "      <td>1</td>\n",
       "      <td>0.72</td>\n",
       "    </tr>\n",
       "    <tr>\n",
       "      <th>3</th>\n",
       "      <td>4</td>\n",
       "      <td>322.0</td>\n",
       "      <td>110.0</td>\n",
       "      <td>3.0</td>\n",
       "      <td>3.5</td>\n",
       "      <td>2.5</td>\n",
       "      <td>8.67</td>\n",
       "      <td>1</td>\n",
       "      <td>0.80</td>\n",
       "    </tr>\n",
       "    <tr>\n",
       "      <th>4</th>\n",
       "      <td>5</td>\n",
       "      <td>314.0</td>\n",
       "      <td>103.0</td>\n",
       "      <td>2.0</td>\n",
       "      <td>2.0</td>\n",
       "      <td>3.0</td>\n",
       "      <td>8.21</td>\n",
       "      <td>0</td>\n",
       "      <td>0.65</td>\n",
       "    </tr>\n",
       "  </tbody>\n",
       "</table>\n",
       "</div>"
      ],
      "text/plain": [
       "   Serial No.  GRE Score  TOEFL Score  University Rating  SOP  LOR  CGPA  \\\n",
       "0           1      337.0        118.0                4.0  4.5  4.5  9.65   \n",
       "1           2      324.0        107.0                4.0  4.0  4.5  8.87   \n",
       "2           3        NaN        104.0                3.0  3.0  3.5  8.00   \n",
       "3           4      322.0        110.0                3.0  3.5  2.5  8.67   \n",
       "4           5      314.0        103.0                2.0  2.0  3.0  8.21   \n",
       "\n",
       "   Research  Chance of Admit  \n",
       "0         1             0.92  \n",
       "1         1             0.76  \n",
       "2         1             0.72  \n",
       "3         1             0.80  \n",
       "4         0             0.65  "
      ]
     },
     "execution_count": 3,
     "metadata": {},
     "output_type": "execute_result"
    }
   ],
   "source": [
    "dff.head()"
   ]
  },
  {
   "cell_type": "code",
   "execution_count": 4,
   "id": "071ad6e3",
   "metadata": {},
   "outputs": [
    {
     "data": {
      "text/html": [
       "<div>\n",
       "<style scoped>\n",
       "    .dataframe tbody tr th:only-of-type {\n",
       "        vertical-align: middle;\n",
       "    }\n",
       "\n",
       "    .dataframe tbody tr th {\n",
       "        vertical-align: top;\n",
       "    }\n",
       "\n",
       "    .dataframe thead th {\n",
       "        text-align: right;\n",
       "    }\n",
       "</style>\n",
       "<table border=\"1\" class=\"dataframe\">\n",
       "  <thead>\n",
       "    <tr style=\"text-align: right;\">\n",
       "      <th></th>\n",
       "      <th>Serial No.</th>\n",
       "      <th>GRE Score</th>\n",
       "      <th>TOEFL Score</th>\n",
       "      <th>University Rating</th>\n",
       "      <th>SOP</th>\n",
       "      <th>LOR</th>\n",
       "      <th>CGPA</th>\n",
       "      <th>Research</th>\n",
       "      <th>Chance of Admit</th>\n",
       "    </tr>\n",
       "  </thead>\n",
       "  <tbody>\n",
       "    <tr>\n",
       "      <th>count</th>\n",
       "      <td>500.000000</td>\n",
       "      <td>485.000000</td>\n",
       "      <td>490.000000</td>\n",
       "      <td>485.000000</td>\n",
       "      <td>500.000000</td>\n",
       "      <td>500.00000</td>\n",
       "      <td>500.000000</td>\n",
       "      <td>500.000000</td>\n",
       "      <td>500.00000</td>\n",
       "    </tr>\n",
       "    <tr>\n",
       "      <th>mean</th>\n",
       "      <td>250.500000</td>\n",
       "      <td>316.558763</td>\n",
       "      <td>107.187755</td>\n",
       "      <td>3.121649</td>\n",
       "      <td>3.374000</td>\n",
       "      <td>3.48400</td>\n",
       "      <td>8.576440</td>\n",
       "      <td>0.560000</td>\n",
       "      <td>0.72174</td>\n",
       "    </tr>\n",
       "    <tr>\n",
       "      <th>std</th>\n",
       "      <td>144.481833</td>\n",
       "      <td>11.274704</td>\n",
       "      <td>6.112899</td>\n",
       "      <td>1.146160</td>\n",
       "      <td>0.991004</td>\n",
       "      <td>0.92545</td>\n",
       "      <td>0.604813</td>\n",
       "      <td>0.496884</td>\n",
       "      <td>0.14114</td>\n",
       "    </tr>\n",
       "    <tr>\n",
       "      <th>min</th>\n",
       "      <td>1.000000</td>\n",
       "      <td>290.000000</td>\n",
       "      <td>92.000000</td>\n",
       "      <td>1.000000</td>\n",
       "      <td>1.000000</td>\n",
       "      <td>1.00000</td>\n",
       "      <td>6.800000</td>\n",
       "      <td>0.000000</td>\n",
       "      <td>0.34000</td>\n",
       "    </tr>\n",
       "    <tr>\n",
       "      <th>25%</th>\n",
       "      <td>125.750000</td>\n",
       "      <td>308.000000</td>\n",
       "      <td>103.000000</td>\n",
       "      <td>2.000000</td>\n",
       "      <td>2.500000</td>\n",
       "      <td>3.00000</td>\n",
       "      <td>8.127500</td>\n",
       "      <td>0.000000</td>\n",
       "      <td>0.63000</td>\n",
       "    </tr>\n",
       "    <tr>\n",
       "      <th>50%</th>\n",
       "      <td>250.500000</td>\n",
       "      <td>317.000000</td>\n",
       "      <td>107.000000</td>\n",
       "      <td>3.000000</td>\n",
       "      <td>3.500000</td>\n",
       "      <td>3.50000</td>\n",
       "      <td>8.560000</td>\n",
       "      <td>1.000000</td>\n",
       "      <td>0.72000</td>\n",
       "    </tr>\n",
       "    <tr>\n",
       "      <th>75%</th>\n",
       "      <td>375.250000</td>\n",
       "      <td>325.000000</td>\n",
       "      <td>112.000000</td>\n",
       "      <td>4.000000</td>\n",
       "      <td>4.000000</td>\n",
       "      <td>4.00000</td>\n",
       "      <td>9.040000</td>\n",
       "      <td>1.000000</td>\n",
       "      <td>0.82000</td>\n",
       "    </tr>\n",
       "    <tr>\n",
       "      <th>max</th>\n",
       "      <td>500.000000</td>\n",
       "      <td>340.000000</td>\n",
       "      <td>120.000000</td>\n",
       "      <td>5.000000</td>\n",
       "      <td>5.000000</td>\n",
       "      <td>5.00000</td>\n",
       "      <td>9.920000</td>\n",
       "      <td>1.000000</td>\n",
       "      <td>0.97000</td>\n",
       "    </tr>\n",
       "  </tbody>\n",
       "</table>\n",
       "</div>"
      ],
      "text/plain": [
       "       Serial No.   GRE Score  TOEFL Score  University Rating         SOP  \\\n",
       "count  500.000000  485.000000   490.000000         485.000000  500.000000   \n",
       "mean   250.500000  316.558763   107.187755           3.121649    3.374000   \n",
       "std    144.481833   11.274704     6.112899           1.146160    0.991004   \n",
       "min      1.000000  290.000000    92.000000           1.000000    1.000000   \n",
       "25%    125.750000  308.000000   103.000000           2.000000    2.500000   \n",
       "50%    250.500000  317.000000   107.000000           3.000000    3.500000   \n",
       "75%    375.250000  325.000000   112.000000           4.000000    4.000000   \n",
       "max    500.000000  340.000000   120.000000           5.000000    5.000000   \n",
       "\n",
       "             LOR        CGPA    Research  Chance of Admit  \n",
       "count  500.00000  500.000000  500.000000        500.00000  \n",
       "mean     3.48400    8.576440    0.560000          0.72174  \n",
       "std      0.92545    0.604813    0.496884          0.14114  \n",
       "min      1.00000    6.800000    0.000000          0.34000  \n",
       "25%      3.00000    8.127500    0.000000          0.63000  \n",
       "50%      3.50000    8.560000    1.000000          0.72000  \n",
       "75%      4.00000    9.040000    1.000000          0.82000  \n",
       "max      5.00000    9.920000    1.000000          0.97000  "
      ]
     },
     "execution_count": 4,
     "metadata": {},
     "output_type": "execute_result"
    }
   ],
   "source": [
    "dff.describe()"
   ]
  },
  {
   "cell_type": "code",
   "execution_count": 5,
   "id": "f61bc53a",
   "metadata": {},
   "outputs": [],
   "source": [
    "dff['GRE Score'] = dff['GRE Score'].fillna(dff['GRE Score'].mean())\n",
    "dff['TOEFL Score'] = dff['TOEFL Score'].fillna(dff['TOEFL Score'].mean())\n",
    "dff['University Rating'] = dff['University Rating'].fillna(dff['University Rating'].mean())"
   ]
  },
  {
   "cell_type": "code",
   "execution_count": 11,
   "id": "1eba6673",
   "metadata": {},
   "outputs": [],
   "source": [
    "from sklearn.preprocessing import StandardScaler\n",
    "std_sca = StandardScaler()\n",
    "x   = std_sca.fit_transform(x)"
   ]
  },
  {
   "cell_type": "code",
   "execution_count": 10,
   "id": "75edf7fc",
   "metadata": {},
   "outputs": [
    {
     "data": {
      "text/plain": [
       "Serial No.           0\n",
       "GRE Score            0\n",
       "TOEFL Score          0\n",
       "University Rating    0\n",
       "SOP                  0\n",
       "LOR                  0\n",
       "CGPA                 0\n",
       "Research             0\n",
       "Chance of Admit      0\n",
       "dtype: int64"
      ]
     },
     "execution_count": 10,
     "metadata": {},
     "output_type": "execute_result"
    }
   ],
   "source": [
    "dff.isna().sum()"
   ]
  },
  {
   "cell_type": "code",
   "execution_count": 8,
   "id": "014fb929",
   "metadata": {},
   "outputs": [],
   "source": [
    "x=dff.drop(columns='Chance of Admit')"
   ]
  },
  {
   "cell_type": "code",
   "execution_count": 9,
   "id": "571b17c1",
   "metadata": {},
   "outputs": [],
   "source": [
    "y=dff['Chance of Admit']"
   ]
  },
  {
   "cell_type": "code",
   "execution_count": 12,
   "id": "9784969f",
   "metadata": {},
   "outputs": [],
   "source": []
  },
  {
   "cell_type": "code",
   "execution_count": null,
   "id": "c888c95a",
   "metadata": {},
   "outputs": [],
   "source": []
  },
  {
   "cell_type": "code",
   "execution_count": null,
   "id": "b188b40c",
   "metadata": {},
   "outputs": [],
   "source": []
  },
  {
   "cell_type": "code",
   "execution_count": 91,
   "id": "126b775b",
   "metadata": {},
   "outputs": [],
   "source": [
    "from sklearn.metrics import mean_squared_error\n",
    "def objective(trail , data = x , target = y ):\n",
    "    train_x , test_x ,train_y , test_y = train_test_split(data , target , test_size = .10,random_state = 30  )\n",
    "    param = {\n",
    "        \n",
    "        'lambda':trail.suggest_loguniform('lambda' , 1e-4,10.0),\n",
    "        'alpha' :trail.suggest_loguniform('alpha' , 1e-4 , 10.0),\n",
    "        'colsample_bytree' :trail.suggest_categorical('colsample_bytree' , [.1,.2,.3,.4,.5,.6,.7,.8,.9,1]),\n",
    "        'subsample' :trail.suggest_categorical('subsample' , [.1,.2,.3,.4,.5,.6,.7,.8,.9,1]),\n",
    "        'learning_rate' : trail.suggest_categorical('learning_rate' , [.00001,.0003,.008,.02,.01,1,8]),\n",
    "        'n_estimator' :30000,\n",
    "        'max_depth' :trail.suggest_categorical('max_depth', [3,4,5,6,7,8,9,10,11,12]),\n",
    "        'random_state' :trail.suggest_categorical('random_state' , [10,20,30 ,2000 , 3454,243123]),\n",
    "        'min_child_weight' :trail.suggest_int('min_child_weight' ,1,200)\n",
    "    }\n",
    "    # Fit the model\n",
    "    optuna_model = XGBRegressor(**param)\n",
    "    optuna_model.fit(x_train, y_train)\n",
    "\n",
    "    # Make predictions\n",
    "    y_pred = optuna_model.predict(x_test)\n",
    "\n",
    "    # Evaluate predictions\n",
    "    rmse = mean_squared_error(test_y,y_pred)\n",
    "    return rmse"
   ]
  },
  {
   "cell_type": "code",
   "execution_count": 92,
   "id": "f24d1c8e",
   "metadata": {},
   "outputs": [
    {
     "name": "stderr",
     "output_type": "stream",
     "text": [
      "[I 2023-12-10 23:42:33,007] A new study created in memory with name: no-name-2eca066a-f591-439c-88a8-221bf0e3ff77\n",
      "C:\\Users\\ASUS ZenBook\\AppData\\Local\\Temp\\ipykernel_12572\\3017389289.py:6: FutureWarning: suggest_loguniform has been deprecated in v3.0.0. This feature will be removed in v6.0.0. See https://github.com/optuna/optuna/releases/tag/v3.0.0. Use suggest_float(..., log=True) instead.\n",
      "  'lambda':trail.suggest_loguniform('lambda' , 1e-4,10.0),\n",
      "C:\\Users\\ASUS ZenBook\\AppData\\Local\\Temp\\ipykernel_12572\\3017389289.py:7: FutureWarning: suggest_loguniform has been deprecated in v3.0.0. This feature will be removed in v6.0.0. See https://github.com/optuna/optuna/releases/tag/v3.0.0. Use suggest_float(..., log=True) instead.\n",
      "  'alpha' :trail.suggest_loguniform('alpha' , 1e-4 , 10.0),\n",
      "C:\\Users\\ASUS ZenBook\\AppData\\Roaming\\Python\\Python311\\site-packages\\xgboost\\core.py:160: UserWarning: [23:42:33] WARNING: C:\\buildkite-agent\\builds\\buildkite-windows-cpu-autoscaling-group-i-0cec3277c4d9d0165-1\\xgboost\\xgboost-ci-windows\\src\\learner.cc:742: \n",
      "Parameters: { \"n_estimator\" } are not used.\n",
      "\n",
      "  warnings.warn(smsg, UserWarning)\n",
      "[I 2023-12-10 23:42:33,101] Trial 0 finished with value: 0.01820538422628482 and parameters: {'lambda': 0.001297465048142707, 'alpha': 0.08405833479973429, 'colsample_bytree': 0.7, 'subsample': 0.6, 'learning_rate': 0.0003, 'max_depth': 11, 'random_state': 2000, 'min_child_weight': 55}. Best is trial 0 with value: 0.01820538422628482.\n",
      "C:\\Users\\ASUS ZenBook\\AppData\\Local\\Temp\\ipykernel_12572\\3017389289.py:6: FutureWarning: suggest_loguniform has been deprecated in v3.0.0. This feature will be removed in v6.0.0. See https://github.com/optuna/optuna/releases/tag/v3.0.0. Use suggest_float(..., log=True) instead.\n",
      "  'lambda':trail.suggest_loguniform('lambda' , 1e-4,10.0),\n",
      "C:\\Users\\ASUS ZenBook\\AppData\\Local\\Temp\\ipykernel_12572\\3017389289.py:7: FutureWarning: suggest_loguniform has been deprecated in v3.0.0. This feature will be removed in v6.0.0. See https://github.com/optuna/optuna/releases/tag/v3.0.0. Use suggest_float(..., log=True) instead.\n",
      "  'alpha' :trail.suggest_loguniform('alpha' , 1e-4 , 10.0),\n",
      "C:\\Users\\ASUS ZenBook\\AppData\\Roaming\\Python\\Python311\\site-packages\\xgboost\\core.py:160: UserWarning: [23:42:33] WARNING: C:\\buildkite-agent\\builds\\buildkite-windows-cpu-autoscaling-group-i-0cec3277c4d9d0165-1\\xgboost\\xgboost-ci-windows\\src\\learner.cc:742: \n",
      "Parameters: { \"n_estimator\" } are not used.\n",
      "\n",
      "  warnings.warn(smsg, UserWarning)\n",
      "[I 2023-12-10 23:42:33,189] Trial 1 finished with value: 0.010473366614050954 and parameters: {'lambda': 0.00029573847224035054, 'alpha': 4.332588604983342, 'colsample_bytree': 1, 'subsample': 0.9, 'learning_rate': 0.008, 'max_depth': 11, 'random_state': 30, 'min_child_weight': 38}. Best is trial 1 with value: 0.010473366614050954.\n",
      "C:\\Users\\ASUS ZenBook\\AppData\\Local\\Temp\\ipykernel_12572\\3017389289.py:6: FutureWarning: suggest_loguniform has been deprecated in v3.0.0. This feature will be removed in v6.0.0. See https://github.com/optuna/optuna/releases/tag/v3.0.0. Use suggest_float(..., log=True) instead.\n",
      "  'lambda':trail.suggest_loguniform('lambda' , 1e-4,10.0),\n",
      "C:\\Users\\ASUS ZenBook\\AppData\\Local\\Temp\\ipykernel_12572\\3017389289.py:7: FutureWarning: suggest_loguniform has been deprecated in v3.0.0. This feature will be removed in v6.0.0. See https://github.com/optuna/optuna/releases/tag/v3.0.0. Use suggest_float(..., log=True) instead.\n",
      "  'alpha' :trail.suggest_loguniform('alpha' , 1e-4 , 10.0),\n",
      "C:\\Users\\ASUS ZenBook\\AppData\\Roaming\\Python\\Python311\\site-packages\\xgboost\\core.py:160: UserWarning: [23:42:33] WARNING: C:\\buildkite-agent\\builds\\buildkite-windows-cpu-autoscaling-group-i-0cec3277c4d9d0165-1\\xgboost\\xgboost-ci-windows\\src\\learner.cc:742: \n",
      "Parameters: { \"n_estimator\" } are not used.\n",
      "\n",
      "  warnings.warn(smsg, UserWarning)\n",
      "[I 2023-12-10 23:42:33,254] Trial 2 finished with value: 0.01861991588919582 and parameters: {'lambda': 0.05626022926061807, 'alpha': 0.0003557835576041276, 'colsample_bytree': 0.4, 'subsample': 0.5, 'learning_rate': 0.0003, 'max_depth': 5, 'random_state': 3454, 'min_child_weight': 111}. Best is trial 1 with value: 0.010473366614050954.\n",
      "C:\\Users\\ASUS ZenBook\\AppData\\Local\\Temp\\ipykernel_12572\\3017389289.py:6: FutureWarning: suggest_loguniform has been deprecated in v3.0.0. This feature will be removed in v6.0.0. See https://github.com/optuna/optuna/releases/tag/v3.0.0. Use suggest_float(..., log=True) instead.\n",
      "  'lambda':trail.suggest_loguniform('lambda' , 1e-4,10.0),\n",
      "C:\\Users\\ASUS ZenBook\\AppData\\Local\\Temp\\ipykernel_12572\\3017389289.py:7: FutureWarning: suggest_loguniform has been deprecated in v3.0.0. This feature will be removed in v6.0.0. See https://github.com/optuna/optuna/releases/tag/v3.0.0. Use suggest_float(..., log=True) instead.\n",
      "  'alpha' :trail.suggest_loguniform('alpha' , 1e-4 , 10.0),\n",
      "C:\\Users\\ASUS ZenBook\\AppData\\Roaming\\Python\\Python311\\site-packages\\xgboost\\core.py:160: UserWarning: [23:42:33] WARNING: C:\\buildkite-agent\\builds\\buildkite-windows-cpu-autoscaling-group-i-0cec3277c4d9d0165-1\\xgboost\\xgboost-ci-windows\\src\\learner.cc:742: \n",
      "Parameters: { \"n_estimator\" } are not used.\n",
      "\n",
      "  warnings.warn(smsg, UserWarning)\n",
      "[I 2023-12-10 23:42:33,325] Trial 3 finished with value: 0.018889269137595695 and parameters: {'lambda': 0.00016390858057559204, 'alpha': 1.8132972531678682, 'colsample_bytree': 0.1, 'subsample': 0.9, 'learning_rate': 1e-05, 'max_depth': 7, 'random_state': 10, 'min_child_weight': 151}. Best is trial 1 with value: 0.010473366614050954.\n",
      "C:\\Users\\ASUS ZenBook\\AppData\\Local\\Temp\\ipykernel_12572\\3017389289.py:6: FutureWarning: suggest_loguniform has been deprecated in v3.0.0. This feature will be removed in v6.0.0. See https://github.com/optuna/optuna/releases/tag/v3.0.0. Use suggest_float(..., log=True) instead.\n",
      "  'lambda':trail.suggest_loguniform('lambda' , 1e-4,10.0),\n",
      "C:\\Users\\ASUS ZenBook\\AppData\\Local\\Temp\\ipykernel_12572\\3017389289.py:7: FutureWarning: suggest_loguniform has been deprecated in v3.0.0. This feature will be removed in v6.0.0. See https://github.com/optuna/optuna/releases/tag/v3.0.0. Use suggest_float(..., log=True) instead.\n",
      "  'alpha' :trail.suggest_loguniform('alpha' , 1e-4 , 10.0),\n",
      "C:\\Users\\ASUS ZenBook\\AppData\\Roaming\\Python\\Python311\\site-packages\\xgboost\\core.py:160: UserWarning: [23:42:33] WARNING: C:\\buildkite-agent\\builds\\buildkite-windows-cpu-autoscaling-group-i-0cec3277c4d9d0165-1\\xgboost\\xgboost-ci-windows\\src\\learner.cc:742: \n",
      "Parameters: { \"n_estimator\" } are not used.\n",
      "\n",
      "  warnings.warn(smsg, UserWarning)\n",
      "[I 2023-12-10 23:42:33,379] Trial 4 finished with value: 0.018899353464401927 and parameters: {'lambda': 0.2495143283223459, 'alpha': 0.008299729580501848, 'colsample_bytree': 0.9, 'subsample': 0.1, 'learning_rate': 1e-05, 'max_depth': 10, 'random_state': 3454, 'min_child_weight': 160}. Best is trial 1 with value: 0.010473366614050954.\n",
      "C:\\Users\\ASUS ZenBook\\AppData\\Local\\Temp\\ipykernel_12572\\3017389289.py:6: FutureWarning: suggest_loguniform has been deprecated in v3.0.0. This feature will be removed in v6.0.0. See https://github.com/optuna/optuna/releases/tag/v3.0.0. Use suggest_float(..., log=True) instead.\n",
      "  'lambda':trail.suggest_loguniform('lambda' , 1e-4,10.0),\n",
      "C:\\Users\\ASUS ZenBook\\AppData\\Local\\Temp\\ipykernel_12572\\3017389289.py:7: FutureWarning: suggest_loguniform has been deprecated in v3.0.0. This feature will be removed in v6.0.0. See https://github.com/optuna/optuna/releases/tag/v3.0.0. Use suggest_float(..., log=True) instead.\n",
      "  'alpha' :trail.suggest_loguniform('alpha' , 1e-4 , 10.0),\n",
      "C:\\Users\\ASUS ZenBook\\AppData\\Roaming\\Python\\Python311\\site-packages\\xgboost\\core.py:160: UserWarning: [23:42:33] WARNING: C:\\buildkite-agent\\builds\\buildkite-windows-cpu-autoscaling-group-i-0cec3277c4d9d0165-1\\xgboost\\xgboost-ci-windows\\src\\learner.cc:742: \n",
      "Parameters: { \"n_estimator\" } are not used.\n",
      "\n",
      "  warnings.warn(smsg, UserWarning)\n",
      "[I 2023-12-10 23:42:33,459] Trial 5 finished with value: 0.006877304593659195 and parameters: {'lambda': 0.166067230776482, 'alpha': 0.43318974789776127, 'colsample_bytree': 0.2, 'subsample': 0.4, 'learning_rate': 0.02, 'max_depth': 4, 'random_state': 243123, 'min_child_weight': 51}. Best is trial 5 with value: 0.006877304593659195.\n"
     ]
    },
    {
     "name": "stderr",
     "output_type": "stream",
     "text": [
      "C:\\Users\\ASUS ZenBook\\AppData\\Local\\Temp\\ipykernel_12572\\3017389289.py:6: FutureWarning: suggest_loguniform has been deprecated in v3.0.0. This feature will be removed in v6.0.0. See https://github.com/optuna/optuna/releases/tag/v3.0.0. Use suggest_float(..., log=True) instead.\n",
      "  'lambda':trail.suggest_loguniform('lambda' , 1e-4,10.0),\n",
      "C:\\Users\\ASUS ZenBook\\AppData\\Local\\Temp\\ipykernel_12572\\3017389289.py:7: FutureWarning: suggest_loguniform has been deprecated in v3.0.0. This feature will be removed in v6.0.0. See https://github.com/optuna/optuna/releases/tag/v3.0.0. Use suggest_float(..., log=True) instead.\n",
      "  'alpha' :trail.suggest_loguniform('alpha' , 1e-4 , 10.0),\n",
      "C:\\Users\\ASUS ZenBook\\AppData\\Roaming\\Python\\Python311\\site-packages\\xgboost\\core.py:160: UserWarning: [23:42:33] WARNING: C:\\buildkite-agent\\builds\\buildkite-windows-cpu-autoscaling-group-i-0cec3277c4d9d0165-1\\xgboost\\xgboost-ci-windows\\src\\learner.cc:742: \n",
      "Parameters: { \"n_estimator\" } are not used.\n",
      "\n",
      "  warnings.warn(smsg, UserWarning)\n",
      "[I 2023-12-10 23:42:33,514] Trial 6 finished with value: 0.018902777506705052 and parameters: {'lambda': 0.00031690404481516337, 'alpha': 0.013155108953697052, 'colsample_bytree': 0.4, 'subsample': 0.3, 'learning_rate': 0.0003, 'max_depth': 12, 'random_state': 10, 'min_child_weight': 100}. Best is trial 5 with value: 0.006877304593659195.\n",
      "C:\\Users\\ASUS ZenBook\\AppData\\Local\\Temp\\ipykernel_12572\\3017389289.py:6: FutureWarning: suggest_loguniform has been deprecated in v3.0.0. This feature will be removed in v6.0.0. See https://github.com/optuna/optuna/releases/tag/v3.0.0. Use suggest_float(..., log=True) instead.\n",
      "  'lambda':trail.suggest_loguniform('lambda' , 1e-4,10.0),\n",
      "C:\\Users\\ASUS ZenBook\\AppData\\Local\\Temp\\ipykernel_12572\\3017389289.py:7: FutureWarning: suggest_loguniform has been deprecated in v3.0.0. This feature will be removed in v6.0.0. See https://github.com/optuna/optuna/releases/tag/v3.0.0. Use suggest_float(..., log=True) instead.\n",
      "  'alpha' :trail.suggest_loguniform('alpha' , 1e-4 , 10.0),\n",
      "C:\\Users\\ASUS ZenBook\\AppData\\Roaming\\Python\\Python311\\site-packages\\xgboost\\core.py:160: UserWarning: [23:42:33] WARNING: C:\\buildkite-agent\\builds\\buildkite-windows-cpu-autoscaling-group-i-0cec3277c4d9d0165-1\\xgboost\\xgboost-ci-windows\\src\\learner.cc:742: \n",
      "Parameters: { \"n_estimator\" } are not used.\n",
      "\n",
      "  warnings.warn(smsg, UserWarning)\n",
      "[I 2023-12-10 23:42:33,585] Trial 7 finished with value: 0.018889836682073925 and parameters: {'lambda': 2.914662029011142, 'alpha': 0.01905389167816211, 'colsample_bytree': 0.6, 'subsample': 0.4, 'learning_rate': 1e-05, 'max_depth': 7, 'random_state': 3454, 'min_child_weight': 89}. Best is trial 5 with value: 0.006877304593659195.\n",
      "C:\\Users\\ASUS ZenBook\\AppData\\Local\\Temp\\ipykernel_12572\\3017389289.py:6: FutureWarning: suggest_loguniform has been deprecated in v3.0.0. This feature will be removed in v6.0.0. See https://github.com/optuna/optuna/releases/tag/v3.0.0. Use suggest_float(..., log=True) instead.\n",
      "  'lambda':trail.suggest_loguniform('lambda' , 1e-4,10.0),\n",
      "C:\\Users\\ASUS ZenBook\\AppData\\Local\\Temp\\ipykernel_12572\\3017389289.py:7: FutureWarning: suggest_loguniform has been deprecated in v3.0.0. This feature will be removed in v6.0.0. See https://github.com/optuna/optuna/releases/tag/v3.0.0. Use suggest_float(..., log=True) instead.\n",
      "  'alpha' :trail.suggest_loguniform('alpha' , 1e-4 , 10.0),\n",
      "C:\\Users\\ASUS ZenBook\\AppData\\Roaming\\Python\\Python311\\site-packages\\xgboost\\core.py:160: UserWarning: [23:42:33] WARNING: C:\\buildkite-agent\\builds\\buildkite-windows-cpu-autoscaling-group-i-0cec3277c4d9d0165-1\\xgboost\\xgboost-ci-windows\\src\\learner.cc:742: \n",
      "Parameters: { \"n_estimator\" } are not used.\n",
      "\n",
      "  warnings.warn(smsg, UserWarning)\n",
      "[I 2023-12-10 23:42:33,659] Trial 8 finished with value: 0.018873999180252933 and parameters: {'lambda': 0.03230247232977201, 'alpha': 0.0018478776323309443, 'colsample_bytree': 0.9, 'subsample': 0.9, 'learning_rate': 1e-05, 'max_depth': 6, 'random_state': 243123, 'min_child_weight': 75}. Best is trial 5 with value: 0.006877304593659195.\n",
      "C:\\Users\\ASUS ZenBook\\AppData\\Local\\Temp\\ipykernel_12572\\3017389289.py:6: FutureWarning: suggest_loguniform has been deprecated in v3.0.0. This feature will be removed in v6.0.0. See https://github.com/optuna/optuna/releases/tag/v3.0.0. Use suggest_float(..., log=True) instead.\n",
      "  'lambda':trail.suggest_loguniform('lambda' , 1e-4,10.0),\n",
      "C:\\Users\\ASUS ZenBook\\AppData\\Local\\Temp\\ipykernel_12572\\3017389289.py:7: FutureWarning: suggest_loguniform has been deprecated in v3.0.0. This feature will be removed in v6.0.0. See https://github.com/optuna/optuna/releases/tag/v3.0.0. Use suggest_float(..., log=True) instead.\n",
      "  'alpha' :trail.suggest_loguniform('alpha' , 1e-4 , 10.0),\n",
      "C:\\Users\\ASUS ZenBook\\AppData\\Roaming\\Python\\Python311\\site-packages\\xgboost\\core.py:160: UserWarning: [23:42:33] WARNING: C:\\buildkite-agent\\builds\\buildkite-windows-cpu-autoscaling-group-i-0cec3277c4d9d0165-1\\xgboost\\xgboost-ci-windows\\src\\learner.cc:742: \n",
      "Parameters: { \"n_estimator\" } are not used.\n",
      "\n",
      "  warnings.warn(smsg, UserWarning)\n",
      "[I 2023-12-10 23:42:33,739] Trial 9 finished with value: 0.005061777788086771 and parameters: {'lambda': 5.691222842147497, 'alpha': 0.09996441259458765, 'colsample_bytree': 0.8, 'subsample': 0.8, 'learning_rate': 0.02, 'max_depth': 9, 'random_state': 10, 'min_child_weight': 82}. Best is trial 9 with value: 0.005061777788086771.\n"
     ]
    }
   ],
   "source": [
    "find_param=optuna.create_study(direction='minimize')\n",
    "find_param.optimize(objective,n_trials=10)\n"
   ]
  },
  {
   "cell_type": "code",
   "execution_count": 94,
   "id": "f21d8eb4",
   "metadata": {},
   "outputs": [
    {
     "data": {
      "text/html": [
       "<div>\n",
       "<style scoped>\n",
       "    .dataframe tbody tr th:only-of-type {\n",
       "        vertical-align: middle;\n",
       "    }\n",
       "\n",
       "    .dataframe tbody tr th {\n",
       "        vertical-align: top;\n",
       "    }\n",
       "\n",
       "    .dataframe thead th {\n",
       "        text-align: right;\n",
       "    }\n",
       "</style>\n",
       "<table border=\"1\" class=\"dataframe\">\n",
       "  <thead>\n",
       "    <tr style=\"text-align: right;\">\n",
       "      <th></th>\n",
       "      <th>number</th>\n",
       "      <th>value</th>\n",
       "      <th>datetime_start</th>\n",
       "      <th>datetime_complete</th>\n",
       "      <th>duration</th>\n",
       "      <th>params_alpha</th>\n",
       "      <th>params_colsample_bytree</th>\n",
       "      <th>params_lambda</th>\n",
       "      <th>params_learning_rate</th>\n",
       "      <th>params_max_depth</th>\n",
       "      <th>params_min_child_weight</th>\n",
       "      <th>params_random_state</th>\n",
       "      <th>params_subsample</th>\n",
       "      <th>state</th>\n",
       "    </tr>\n",
       "  </thead>\n",
       "  <tbody>\n",
       "    <tr>\n",
       "      <th>0</th>\n",
       "      <td>0</td>\n",
       "      <td>0.018205</td>\n",
       "      <td>2023-12-10 23:42:33.015705</td>\n",
       "      <td>2023-12-10 23:42:33.099645</td>\n",
       "      <td>0 days 00:00:00.083940</td>\n",
       "      <td>0.084058</td>\n",
       "      <td>0.7</td>\n",
       "      <td>0.001297</td>\n",
       "      <td>0.00030</td>\n",
       "      <td>11</td>\n",
       "      <td>55</td>\n",
       "      <td>2000</td>\n",
       "      <td>0.6</td>\n",
       "      <td>COMPLETE</td>\n",
       "    </tr>\n",
       "    <tr>\n",
       "      <th>1</th>\n",
       "      <td>1</td>\n",
       "      <td>0.010473</td>\n",
       "      <td>2023-12-10 23:42:33.103716</td>\n",
       "      <td>2023-12-10 23:42:33.189913</td>\n",
       "      <td>0 days 00:00:00.086197</td>\n",
       "      <td>4.332589</td>\n",
       "      <td>1.0</td>\n",
       "      <td>0.000296</td>\n",
       "      <td>0.00800</td>\n",
       "      <td>11</td>\n",
       "      <td>38</td>\n",
       "      <td>30</td>\n",
       "      <td>0.9</td>\n",
       "      <td>COMPLETE</td>\n",
       "    </tr>\n",
       "    <tr>\n",
       "      <th>2</th>\n",
       "      <td>2</td>\n",
       "      <td>0.018620</td>\n",
       "      <td>2023-12-10 23:42:33.189913</td>\n",
       "      <td>2023-12-10 23:42:33.254711</td>\n",
       "      <td>0 days 00:00:00.064798</td>\n",
       "      <td>0.000356</td>\n",
       "      <td>0.4</td>\n",
       "      <td>0.056260</td>\n",
       "      <td>0.00030</td>\n",
       "      <td>5</td>\n",
       "      <td>111</td>\n",
       "      <td>3454</td>\n",
       "      <td>0.5</td>\n",
       "      <td>COMPLETE</td>\n",
       "    </tr>\n",
       "    <tr>\n",
       "      <th>3</th>\n",
       "      <td>3</td>\n",
       "      <td>0.018889</td>\n",
       "      <td>2023-12-10 23:42:33.254711</td>\n",
       "      <td>2023-12-10 23:42:33.323635</td>\n",
       "      <td>0 days 00:00:00.068924</td>\n",
       "      <td>1.813297</td>\n",
       "      <td>0.1</td>\n",
       "      <td>0.000164</td>\n",
       "      <td>0.00001</td>\n",
       "      <td>7</td>\n",
       "      <td>151</td>\n",
       "      <td>10</td>\n",
       "      <td>0.9</td>\n",
       "      <td>COMPLETE</td>\n",
       "    </tr>\n",
       "    <tr>\n",
       "      <th>4</th>\n",
       "      <td>4</td>\n",
       "      <td>0.018899</td>\n",
       "      <td>2023-12-10 23:42:33.325650</td>\n",
       "      <td>2023-12-10 23:42:33.379659</td>\n",
       "      <td>0 days 00:00:00.054009</td>\n",
       "      <td>0.008300</td>\n",
       "      <td>0.9</td>\n",
       "      <td>0.249514</td>\n",
       "      <td>0.00001</td>\n",
       "      <td>10</td>\n",
       "      <td>160</td>\n",
       "      <td>3454</td>\n",
       "      <td>0.1</td>\n",
       "      <td>COMPLETE</td>\n",
       "    </tr>\n",
       "    <tr>\n",
       "      <th>5</th>\n",
       "      <td>5</td>\n",
       "      <td>0.006877</td>\n",
       "      <td>2023-12-10 23:42:33.383699</td>\n",
       "      <td>2023-12-10 23:42:33.459898</td>\n",
       "      <td>0 days 00:00:00.076199</td>\n",
       "      <td>0.433190</td>\n",
       "      <td>0.2</td>\n",
       "      <td>0.166067</td>\n",
       "      <td>0.02000</td>\n",
       "      <td>4</td>\n",
       "      <td>51</td>\n",
       "      <td>243123</td>\n",
       "      <td>0.4</td>\n",
       "      <td>COMPLETE</td>\n",
       "    </tr>\n",
       "    <tr>\n",
       "      <th>6</th>\n",
       "      <td>6</td>\n",
       "      <td>0.018903</td>\n",
       "      <td>2023-12-10 23:42:33.459898</td>\n",
       "      <td>2023-12-10 23:42:33.514443</td>\n",
       "      <td>0 days 00:00:00.054545</td>\n",
       "      <td>0.013155</td>\n",
       "      <td>0.4</td>\n",
       "      <td>0.000317</td>\n",
       "      <td>0.00030</td>\n",
       "      <td>12</td>\n",
       "      <td>100</td>\n",
       "      <td>10</td>\n",
       "      <td>0.3</td>\n",
       "      <td>COMPLETE</td>\n",
       "    </tr>\n",
       "    <tr>\n",
       "      <th>7</th>\n",
       "      <td>7</td>\n",
       "      <td>0.018890</td>\n",
       "      <td>2023-12-10 23:42:33.514443</td>\n",
       "      <td>2023-12-10 23:42:33.580145</td>\n",
       "      <td>0 days 00:00:00.065702</td>\n",
       "      <td>0.019054</td>\n",
       "      <td>0.6</td>\n",
       "      <td>2.914662</td>\n",
       "      <td>0.00001</td>\n",
       "      <td>7</td>\n",
       "      <td>89</td>\n",
       "      <td>3454</td>\n",
       "      <td>0.4</td>\n",
       "      <td>COMPLETE</td>\n",
       "    </tr>\n",
       "    <tr>\n",
       "      <th>8</th>\n",
       "      <td>8</td>\n",
       "      <td>0.018874</td>\n",
       "      <td>2023-12-10 23:42:33.585200</td>\n",
       "      <td>2023-12-10 23:42:33.659602</td>\n",
       "      <td>0 days 00:00:00.074402</td>\n",
       "      <td>0.001848</td>\n",
       "      <td>0.9</td>\n",
       "      <td>0.032302</td>\n",
       "      <td>0.00001</td>\n",
       "      <td>6</td>\n",
       "      <td>75</td>\n",
       "      <td>243123</td>\n",
       "      <td>0.9</td>\n",
       "      <td>COMPLETE</td>\n",
       "    </tr>\n",
       "    <tr>\n",
       "      <th>9</th>\n",
       "      <td>9</td>\n",
       "      <td>0.005062</td>\n",
       "      <td>2023-12-10 23:42:33.666140</td>\n",
       "      <td>2023-12-10 23:42:33.738570</td>\n",
       "      <td>0 days 00:00:00.072430</td>\n",
       "      <td>0.099964</td>\n",
       "      <td>0.8</td>\n",
       "      <td>5.691223</td>\n",
       "      <td>0.02000</td>\n",
       "      <td>9</td>\n",
       "      <td>82</td>\n",
       "      <td>10</td>\n",
       "      <td>0.8</td>\n",
       "      <td>COMPLETE</td>\n",
       "    </tr>\n",
       "  </tbody>\n",
       "</table>\n",
       "</div>"
      ],
      "text/plain": [
       "   number     value             datetime_start          datetime_complete  \\\n",
       "0       0  0.018205 2023-12-10 23:42:33.015705 2023-12-10 23:42:33.099645   \n",
       "1       1  0.010473 2023-12-10 23:42:33.103716 2023-12-10 23:42:33.189913   \n",
       "2       2  0.018620 2023-12-10 23:42:33.189913 2023-12-10 23:42:33.254711   \n",
       "3       3  0.018889 2023-12-10 23:42:33.254711 2023-12-10 23:42:33.323635   \n",
       "4       4  0.018899 2023-12-10 23:42:33.325650 2023-12-10 23:42:33.379659   \n",
       "5       5  0.006877 2023-12-10 23:42:33.383699 2023-12-10 23:42:33.459898   \n",
       "6       6  0.018903 2023-12-10 23:42:33.459898 2023-12-10 23:42:33.514443   \n",
       "7       7  0.018890 2023-12-10 23:42:33.514443 2023-12-10 23:42:33.580145   \n",
       "8       8  0.018874 2023-12-10 23:42:33.585200 2023-12-10 23:42:33.659602   \n",
       "9       9  0.005062 2023-12-10 23:42:33.666140 2023-12-10 23:42:33.738570   \n",
       "\n",
       "                duration  params_alpha  params_colsample_bytree  \\\n",
       "0 0 days 00:00:00.083940      0.084058                      0.7   \n",
       "1 0 days 00:00:00.086197      4.332589                      1.0   \n",
       "2 0 days 00:00:00.064798      0.000356                      0.4   \n",
       "3 0 days 00:00:00.068924      1.813297                      0.1   \n",
       "4 0 days 00:00:00.054009      0.008300                      0.9   \n",
       "5 0 days 00:00:00.076199      0.433190                      0.2   \n",
       "6 0 days 00:00:00.054545      0.013155                      0.4   \n",
       "7 0 days 00:00:00.065702      0.019054                      0.6   \n",
       "8 0 days 00:00:00.074402      0.001848                      0.9   \n",
       "9 0 days 00:00:00.072430      0.099964                      0.8   \n",
       "\n",
       "   params_lambda  params_learning_rate  params_max_depth  \\\n",
       "0       0.001297               0.00030                11   \n",
       "1       0.000296               0.00800                11   \n",
       "2       0.056260               0.00030                 5   \n",
       "3       0.000164               0.00001                 7   \n",
       "4       0.249514               0.00001                10   \n",
       "5       0.166067               0.02000                 4   \n",
       "6       0.000317               0.00030                12   \n",
       "7       2.914662               0.00001                 7   \n",
       "8       0.032302               0.00001                 6   \n",
       "9       5.691223               0.02000                 9   \n",
       "\n",
       "   params_min_child_weight  params_random_state  params_subsample     state  \n",
       "0                       55                 2000               0.6  COMPLETE  \n",
       "1                       38                   30               0.9  COMPLETE  \n",
       "2                      111                 3454               0.5  COMPLETE  \n",
       "3                      151                   10               0.9  COMPLETE  \n",
       "4                      160                 3454               0.1  COMPLETE  \n",
       "5                       51               243123               0.4  COMPLETE  \n",
       "6                      100                   10               0.3  COMPLETE  \n",
       "7                       89                 3454               0.4  COMPLETE  \n",
       "8                       75               243123               0.9  COMPLETE  \n",
       "9                       82                   10               0.8  COMPLETE  "
      ]
     },
     "execution_count": 94,
     "metadata": {},
     "output_type": "execute_result"
    }
   ],
   "source": [
    "find_param.trials_dataframe()"
   ]
  },
  {
   "cell_type": "code",
   "execution_count": 95,
   "id": "399dd706",
   "metadata": {},
   "outputs": [
    {
     "data": {
      "application/vnd.plotly.v1+json": {
       "config": {
        "plotlyServerURL": "https://plot.ly"
       },
       "data": [
        {
         "mode": "markers",
         "name": "Objective Value",
         "type": "scatter",
         "x": [
          0,
          1,
          2,
          3,
          4,
          5,
          6,
          7,
          8,
          9
         ],
         "y": [
          0.01820538422628482,
          0.010473366614050954,
          0.01861991588919582,
          0.018889269137595695,
          0.018899353464401927,
          0.006877304593659195,
          0.018902777506705052,
          0.018889836682073925,
          0.018873999180252933,
          0.005061777788086771
         ]
        },
        {
         "mode": "lines",
         "name": "Best Value",
         "type": "scatter",
         "x": [
          0,
          1,
          2,
          3,
          4,
          5,
          6,
          7,
          8,
          9
         ],
         "y": [
          0.01820538422628482,
          0.010473366614050954,
          0.010473366614050954,
          0.010473366614050954,
          0.010473366614050954,
          0.006877304593659195,
          0.006877304593659195,
          0.006877304593659195,
          0.006877304593659195,
          0.005061777788086771
         ]
        },
        {
         "marker": {
          "color": "#cccccc"
         },
         "mode": "markers",
         "name": "Infeasible Trial",
         "showlegend": false,
         "type": "scatter",
         "x": [],
         "y": []
        }
       ],
       "layout": {
        "template": {
         "data": {
          "bar": [
           {
            "error_x": {
             "color": "#2a3f5f"
            },
            "error_y": {
             "color": "#2a3f5f"
            },
            "marker": {
             "line": {
              "color": "#E5ECF6",
              "width": 0.5
             },
             "pattern": {
              "fillmode": "overlay",
              "size": 10,
              "solidity": 0.2
             }
            },
            "type": "bar"
           }
          ],
          "barpolar": [
           {
            "marker": {
             "line": {
              "color": "#E5ECF6",
              "width": 0.5
             },
             "pattern": {
              "fillmode": "overlay",
              "size": 10,
              "solidity": 0.2
             }
            },
            "type": "barpolar"
           }
          ],
          "carpet": [
           {
            "aaxis": {
             "endlinecolor": "#2a3f5f",
             "gridcolor": "white",
             "linecolor": "white",
             "minorgridcolor": "white",
             "startlinecolor": "#2a3f5f"
            },
            "baxis": {
             "endlinecolor": "#2a3f5f",
             "gridcolor": "white",
             "linecolor": "white",
             "minorgridcolor": "white",
             "startlinecolor": "#2a3f5f"
            },
            "type": "carpet"
           }
          ],
          "choropleth": [
           {
            "colorbar": {
             "outlinewidth": 0,
             "ticks": ""
            },
            "type": "choropleth"
           }
          ],
          "contour": [
           {
            "colorbar": {
             "outlinewidth": 0,
             "ticks": ""
            },
            "colorscale": [
             [
              0,
              "#0d0887"
             ],
             [
              0.1111111111111111,
              "#46039f"
             ],
             [
              0.2222222222222222,
              "#7201a8"
             ],
             [
              0.3333333333333333,
              "#9c179e"
             ],
             [
              0.4444444444444444,
              "#bd3786"
             ],
             [
              0.5555555555555556,
              "#d8576b"
             ],
             [
              0.6666666666666666,
              "#ed7953"
             ],
             [
              0.7777777777777778,
              "#fb9f3a"
             ],
             [
              0.8888888888888888,
              "#fdca26"
             ],
             [
              1,
              "#f0f921"
             ]
            ],
            "type": "contour"
           }
          ],
          "contourcarpet": [
           {
            "colorbar": {
             "outlinewidth": 0,
             "ticks": ""
            },
            "type": "contourcarpet"
           }
          ],
          "heatmap": [
           {
            "colorbar": {
             "outlinewidth": 0,
             "ticks": ""
            },
            "colorscale": [
             [
              0,
              "#0d0887"
             ],
             [
              0.1111111111111111,
              "#46039f"
             ],
             [
              0.2222222222222222,
              "#7201a8"
             ],
             [
              0.3333333333333333,
              "#9c179e"
             ],
             [
              0.4444444444444444,
              "#bd3786"
             ],
             [
              0.5555555555555556,
              "#d8576b"
             ],
             [
              0.6666666666666666,
              "#ed7953"
             ],
             [
              0.7777777777777778,
              "#fb9f3a"
             ],
             [
              0.8888888888888888,
              "#fdca26"
             ],
             [
              1,
              "#f0f921"
             ]
            ],
            "type": "heatmap"
           }
          ],
          "heatmapgl": [
           {
            "colorbar": {
             "outlinewidth": 0,
             "ticks": ""
            },
            "colorscale": [
             [
              0,
              "#0d0887"
             ],
             [
              0.1111111111111111,
              "#46039f"
             ],
             [
              0.2222222222222222,
              "#7201a8"
             ],
             [
              0.3333333333333333,
              "#9c179e"
             ],
             [
              0.4444444444444444,
              "#bd3786"
             ],
             [
              0.5555555555555556,
              "#d8576b"
             ],
             [
              0.6666666666666666,
              "#ed7953"
             ],
             [
              0.7777777777777778,
              "#fb9f3a"
             ],
             [
              0.8888888888888888,
              "#fdca26"
             ],
             [
              1,
              "#f0f921"
             ]
            ],
            "type": "heatmapgl"
           }
          ],
          "histogram": [
           {
            "marker": {
             "pattern": {
              "fillmode": "overlay",
              "size": 10,
              "solidity": 0.2
             }
            },
            "type": "histogram"
           }
          ],
          "histogram2d": [
           {
            "colorbar": {
             "outlinewidth": 0,
             "ticks": ""
            },
            "colorscale": [
             [
              0,
              "#0d0887"
             ],
             [
              0.1111111111111111,
              "#46039f"
             ],
             [
              0.2222222222222222,
              "#7201a8"
             ],
             [
              0.3333333333333333,
              "#9c179e"
             ],
             [
              0.4444444444444444,
              "#bd3786"
             ],
             [
              0.5555555555555556,
              "#d8576b"
             ],
             [
              0.6666666666666666,
              "#ed7953"
             ],
             [
              0.7777777777777778,
              "#fb9f3a"
             ],
             [
              0.8888888888888888,
              "#fdca26"
             ],
             [
              1,
              "#f0f921"
             ]
            ],
            "type": "histogram2d"
           }
          ],
          "histogram2dcontour": [
           {
            "colorbar": {
             "outlinewidth": 0,
             "ticks": ""
            },
            "colorscale": [
             [
              0,
              "#0d0887"
             ],
             [
              0.1111111111111111,
              "#46039f"
             ],
             [
              0.2222222222222222,
              "#7201a8"
             ],
             [
              0.3333333333333333,
              "#9c179e"
             ],
             [
              0.4444444444444444,
              "#bd3786"
             ],
             [
              0.5555555555555556,
              "#d8576b"
             ],
             [
              0.6666666666666666,
              "#ed7953"
             ],
             [
              0.7777777777777778,
              "#fb9f3a"
             ],
             [
              0.8888888888888888,
              "#fdca26"
             ],
             [
              1,
              "#f0f921"
             ]
            ],
            "type": "histogram2dcontour"
           }
          ],
          "mesh3d": [
           {
            "colorbar": {
             "outlinewidth": 0,
             "ticks": ""
            },
            "type": "mesh3d"
           }
          ],
          "parcoords": [
           {
            "line": {
             "colorbar": {
              "outlinewidth": 0,
              "ticks": ""
             }
            },
            "type": "parcoords"
           }
          ],
          "pie": [
           {
            "automargin": true,
            "type": "pie"
           }
          ],
          "scatter": [
           {
            "fillpattern": {
             "fillmode": "overlay",
             "size": 10,
             "solidity": 0.2
            },
            "type": "scatter"
           }
          ],
          "scatter3d": [
           {
            "line": {
             "colorbar": {
              "outlinewidth": 0,
              "ticks": ""
             }
            },
            "marker": {
             "colorbar": {
              "outlinewidth": 0,
              "ticks": ""
             }
            },
            "type": "scatter3d"
           }
          ],
          "scattercarpet": [
           {
            "marker": {
             "colorbar": {
              "outlinewidth": 0,
              "ticks": ""
             }
            },
            "type": "scattercarpet"
           }
          ],
          "scattergeo": [
           {
            "marker": {
             "colorbar": {
              "outlinewidth": 0,
              "ticks": ""
             }
            },
            "type": "scattergeo"
           }
          ],
          "scattergl": [
           {
            "marker": {
             "colorbar": {
              "outlinewidth": 0,
              "ticks": ""
             }
            },
            "type": "scattergl"
           }
          ],
          "scattermapbox": [
           {
            "marker": {
             "colorbar": {
              "outlinewidth": 0,
              "ticks": ""
             }
            },
            "type": "scattermapbox"
           }
          ],
          "scatterpolar": [
           {
            "marker": {
             "colorbar": {
              "outlinewidth": 0,
              "ticks": ""
             }
            },
            "type": "scatterpolar"
           }
          ],
          "scatterpolargl": [
           {
            "marker": {
             "colorbar": {
              "outlinewidth": 0,
              "ticks": ""
             }
            },
            "type": "scatterpolargl"
           }
          ],
          "scatterternary": [
           {
            "marker": {
             "colorbar": {
              "outlinewidth": 0,
              "ticks": ""
             }
            },
            "type": "scatterternary"
           }
          ],
          "surface": [
           {
            "colorbar": {
             "outlinewidth": 0,
             "ticks": ""
            },
            "colorscale": [
             [
              0,
              "#0d0887"
             ],
             [
              0.1111111111111111,
              "#46039f"
             ],
             [
              0.2222222222222222,
              "#7201a8"
             ],
             [
              0.3333333333333333,
              "#9c179e"
             ],
             [
              0.4444444444444444,
              "#bd3786"
             ],
             [
              0.5555555555555556,
              "#d8576b"
             ],
             [
              0.6666666666666666,
              "#ed7953"
             ],
             [
              0.7777777777777778,
              "#fb9f3a"
             ],
             [
              0.8888888888888888,
              "#fdca26"
             ],
             [
              1,
              "#f0f921"
             ]
            ],
            "type": "surface"
           }
          ],
          "table": [
           {
            "cells": {
             "fill": {
              "color": "#EBF0F8"
             },
             "line": {
              "color": "white"
             }
            },
            "header": {
             "fill": {
              "color": "#C8D4E3"
             },
             "line": {
              "color": "white"
             }
            },
            "type": "table"
           }
          ]
         },
         "layout": {
          "annotationdefaults": {
           "arrowcolor": "#2a3f5f",
           "arrowhead": 0,
           "arrowwidth": 1
          },
          "autotypenumbers": "strict",
          "coloraxis": {
           "colorbar": {
            "outlinewidth": 0,
            "ticks": ""
           }
          },
          "colorscale": {
           "diverging": [
            [
             0,
             "#8e0152"
            ],
            [
             0.1,
             "#c51b7d"
            ],
            [
             0.2,
             "#de77ae"
            ],
            [
             0.3,
             "#f1b6da"
            ],
            [
             0.4,
             "#fde0ef"
            ],
            [
             0.5,
             "#f7f7f7"
            ],
            [
             0.6,
             "#e6f5d0"
            ],
            [
             0.7,
             "#b8e186"
            ],
            [
             0.8,
             "#7fbc41"
            ],
            [
             0.9,
             "#4d9221"
            ],
            [
             1,
             "#276419"
            ]
           ],
           "sequential": [
            [
             0,
             "#0d0887"
            ],
            [
             0.1111111111111111,
             "#46039f"
            ],
            [
             0.2222222222222222,
             "#7201a8"
            ],
            [
             0.3333333333333333,
             "#9c179e"
            ],
            [
             0.4444444444444444,
             "#bd3786"
            ],
            [
             0.5555555555555556,
             "#d8576b"
            ],
            [
             0.6666666666666666,
             "#ed7953"
            ],
            [
             0.7777777777777778,
             "#fb9f3a"
            ],
            [
             0.8888888888888888,
             "#fdca26"
            ],
            [
             1,
             "#f0f921"
            ]
           ],
           "sequentialminus": [
            [
             0,
             "#0d0887"
            ],
            [
             0.1111111111111111,
             "#46039f"
            ],
            [
             0.2222222222222222,
             "#7201a8"
            ],
            [
             0.3333333333333333,
             "#9c179e"
            ],
            [
             0.4444444444444444,
             "#bd3786"
            ],
            [
             0.5555555555555556,
             "#d8576b"
            ],
            [
             0.6666666666666666,
             "#ed7953"
            ],
            [
             0.7777777777777778,
             "#fb9f3a"
            ],
            [
             0.8888888888888888,
             "#fdca26"
            ],
            [
             1,
             "#f0f921"
            ]
           ]
          },
          "colorway": [
           "#636efa",
           "#EF553B",
           "#00cc96",
           "#ab63fa",
           "#FFA15A",
           "#19d3f3",
           "#FF6692",
           "#B6E880",
           "#FF97FF",
           "#FECB52"
          ],
          "font": {
           "color": "#2a3f5f"
          },
          "geo": {
           "bgcolor": "white",
           "lakecolor": "white",
           "landcolor": "#E5ECF6",
           "showlakes": true,
           "showland": true,
           "subunitcolor": "white"
          },
          "hoverlabel": {
           "align": "left"
          },
          "hovermode": "closest",
          "mapbox": {
           "style": "light"
          },
          "paper_bgcolor": "white",
          "plot_bgcolor": "#E5ECF6",
          "polar": {
           "angularaxis": {
            "gridcolor": "white",
            "linecolor": "white",
            "ticks": ""
           },
           "bgcolor": "#E5ECF6",
           "radialaxis": {
            "gridcolor": "white",
            "linecolor": "white",
            "ticks": ""
           }
          },
          "scene": {
           "xaxis": {
            "backgroundcolor": "#E5ECF6",
            "gridcolor": "white",
            "gridwidth": 2,
            "linecolor": "white",
            "showbackground": true,
            "ticks": "",
            "zerolinecolor": "white"
           },
           "yaxis": {
            "backgroundcolor": "#E5ECF6",
            "gridcolor": "white",
            "gridwidth": 2,
            "linecolor": "white",
            "showbackground": true,
            "ticks": "",
            "zerolinecolor": "white"
           },
           "zaxis": {
            "backgroundcolor": "#E5ECF6",
            "gridcolor": "white",
            "gridwidth": 2,
            "linecolor": "white",
            "showbackground": true,
            "ticks": "",
            "zerolinecolor": "white"
           }
          },
          "shapedefaults": {
           "line": {
            "color": "#2a3f5f"
           }
          },
          "ternary": {
           "aaxis": {
            "gridcolor": "white",
            "linecolor": "white",
            "ticks": ""
           },
           "baxis": {
            "gridcolor": "white",
            "linecolor": "white",
            "ticks": ""
           },
           "bgcolor": "#E5ECF6",
           "caxis": {
            "gridcolor": "white",
            "linecolor": "white",
            "ticks": ""
           }
          },
          "title": {
           "x": 0.05
          },
          "xaxis": {
           "automargin": true,
           "gridcolor": "white",
           "linecolor": "white",
           "ticks": "",
           "title": {
            "standoff": 15
           },
           "zerolinecolor": "white",
           "zerolinewidth": 2
          },
          "yaxis": {
           "automargin": true,
           "gridcolor": "white",
           "linecolor": "white",
           "ticks": "",
           "title": {
            "standoff": 15
           },
           "zerolinecolor": "white",
           "zerolinewidth": 2
          }
         }
        },
        "title": {
         "text": "Optimization History Plot"
        },
        "xaxis": {
         "title": {
          "text": "Trial"
         }
        },
        "yaxis": {
         "title": {
          "text": "Objective Value"
         }
        }
       }
      },
      "text/html": [
       "<div>                            <div id=\"2d25a8a3-c9b4-46f2-b0ba-20fff8f8b975\" class=\"plotly-graph-div\" style=\"height:525px; width:100%;\"></div>            <script type=\"text/javascript\">                require([\"plotly\"], function(Plotly) {                    window.PLOTLYENV=window.PLOTLYENV || {};                                    if (document.getElementById(\"2d25a8a3-c9b4-46f2-b0ba-20fff8f8b975\")) {                    Plotly.newPlot(                        \"2d25a8a3-c9b4-46f2-b0ba-20fff8f8b975\",                        [{\"mode\":\"markers\",\"name\":\"Objective Value\",\"x\":[0,1,2,3,4,5,6,7,8,9],\"y\":[0.01820538422628482,0.010473366614050954,0.01861991588919582,0.018889269137595695,0.018899353464401927,0.006877304593659195,0.018902777506705052,0.018889836682073925,0.018873999180252933,0.005061777788086771],\"type\":\"scatter\"},{\"mode\":\"lines\",\"name\":\"Best Value\",\"x\":[0,1,2,3,4,5,6,7,8,9],\"y\":[0.01820538422628482,0.010473366614050954,0.010473366614050954,0.010473366614050954,0.010473366614050954,0.006877304593659195,0.006877304593659195,0.006877304593659195,0.006877304593659195,0.005061777788086771],\"type\":\"scatter\"},{\"marker\":{\"color\":\"#cccccc\"},\"mode\":\"markers\",\"name\":\"Infeasible Trial\",\"showlegend\":false,\"x\":[],\"y\":[],\"type\":\"scatter\"}],                        {\"title\":{\"text\":\"Optimization History Plot\"},\"xaxis\":{\"title\":{\"text\":\"Trial\"}},\"yaxis\":{\"title\":{\"text\":\"Objective Value\"}},\"template\":{\"data\":{\"histogram2dcontour\":[{\"type\":\"histogram2dcontour\",\"colorbar\":{\"outlinewidth\":0,\"ticks\":\"\"},\"colorscale\":[[0.0,\"#0d0887\"],[0.1111111111111111,\"#46039f\"],[0.2222222222222222,\"#7201a8\"],[0.3333333333333333,\"#9c179e\"],[0.4444444444444444,\"#bd3786\"],[0.5555555555555556,\"#d8576b\"],[0.6666666666666666,\"#ed7953\"],[0.7777777777777778,\"#fb9f3a\"],[0.8888888888888888,\"#fdca26\"],[1.0,\"#f0f921\"]]}],\"choropleth\":[{\"type\":\"choropleth\",\"colorbar\":{\"outlinewidth\":0,\"ticks\":\"\"}}],\"histogram2d\":[{\"type\":\"histogram2d\",\"colorbar\":{\"outlinewidth\":0,\"ticks\":\"\"},\"colorscale\":[[0.0,\"#0d0887\"],[0.1111111111111111,\"#46039f\"],[0.2222222222222222,\"#7201a8\"],[0.3333333333333333,\"#9c179e\"],[0.4444444444444444,\"#bd3786\"],[0.5555555555555556,\"#d8576b\"],[0.6666666666666666,\"#ed7953\"],[0.7777777777777778,\"#fb9f3a\"],[0.8888888888888888,\"#fdca26\"],[1.0,\"#f0f921\"]]}],\"heatmap\":[{\"type\":\"heatmap\",\"colorbar\":{\"outlinewidth\":0,\"ticks\":\"\"},\"colorscale\":[[0.0,\"#0d0887\"],[0.1111111111111111,\"#46039f\"],[0.2222222222222222,\"#7201a8\"],[0.3333333333333333,\"#9c179e\"],[0.4444444444444444,\"#bd3786\"],[0.5555555555555556,\"#d8576b\"],[0.6666666666666666,\"#ed7953\"],[0.7777777777777778,\"#fb9f3a\"],[0.8888888888888888,\"#fdca26\"],[1.0,\"#f0f921\"]]}],\"heatmapgl\":[{\"type\":\"heatmapgl\",\"colorbar\":{\"outlinewidth\":0,\"ticks\":\"\"},\"colorscale\":[[0.0,\"#0d0887\"],[0.1111111111111111,\"#46039f\"],[0.2222222222222222,\"#7201a8\"],[0.3333333333333333,\"#9c179e\"],[0.4444444444444444,\"#bd3786\"],[0.5555555555555556,\"#d8576b\"],[0.6666666666666666,\"#ed7953\"],[0.7777777777777778,\"#fb9f3a\"],[0.8888888888888888,\"#fdca26\"],[1.0,\"#f0f921\"]]}],\"contourcarpet\":[{\"type\":\"contourcarpet\",\"colorbar\":{\"outlinewidth\":0,\"ticks\":\"\"}}],\"contour\":[{\"type\":\"contour\",\"colorbar\":{\"outlinewidth\":0,\"ticks\":\"\"},\"colorscale\":[[0.0,\"#0d0887\"],[0.1111111111111111,\"#46039f\"],[0.2222222222222222,\"#7201a8\"],[0.3333333333333333,\"#9c179e\"],[0.4444444444444444,\"#bd3786\"],[0.5555555555555556,\"#d8576b\"],[0.6666666666666666,\"#ed7953\"],[0.7777777777777778,\"#fb9f3a\"],[0.8888888888888888,\"#fdca26\"],[1.0,\"#f0f921\"]]}],\"surface\":[{\"type\":\"surface\",\"colorbar\":{\"outlinewidth\":0,\"ticks\":\"\"},\"colorscale\":[[0.0,\"#0d0887\"],[0.1111111111111111,\"#46039f\"],[0.2222222222222222,\"#7201a8\"],[0.3333333333333333,\"#9c179e\"],[0.4444444444444444,\"#bd3786\"],[0.5555555555555556,\"#d8576b\"],[0.6666666666666666,\"#ed7953\"],[0.7777777777777778,\"#fb9f3a\"],[0.8888888888888888,\"#fdca26\"],[1.0,\"#f0f921\"]]}],\"mesh3d\":[{\"type\":\"mesh3d\",\"colorbar\":{\"outlinewidth\":0,\"ticks\":\"\"}}],\"scatter\":[{\"fillpattern\":{\"fillmode\":\"overlay\",\"size\":10,\"solidity\":0.2},\"type\":\"scatter\"}],\"parcoords\":[{\"type\":\"parcoords\",\"line\":{\"colorbar\":{\"outlinewidth\":0,\"ticks\":\"\"}}}],\"scatterpolargl\":[{\"type\":\"scatterpolargl\",\"marker\":{\"colorbar\":{\"outlinewidth\":0,\"ticks\":\"\"}}}],\"bar\":[{\"error_x\":{\"color\":\"#2a3f5f\"},\"error_y\":{\"color\":\"#2a3f5f\"},\"marker\":{\"line\":{\"color\":\"#E5ECF6\",\"width\":0.5},\"pattern\":{\"fillmode\":\"overlay\",\"size\":10,\"solidity\":0.2}},\"type\":\"bar\"}],\"scattergeo\":[{\"type\":\"scattergeo\",\"marker\":{\"colorbar\":{\"outlinewidth\":0,\"ticks\":\"\"}}}],\"scatterpolar\":[{\"type\":\"scatterpolar\",\"marker\":{\"colorbar\":{\"outlinewidth\":0,\"ticks\":\"\"}}}],\"histogram\":[{\"marker\":{\"pattern\":{\"fillmode\":\"overlay\",\"size\":10,\"solidity\":0.2}},\"type\":\"histogram\"}],\"scattergl\":[{\"type\":\"scattergl\",\"marker\":{\"colorbar\":{\"outlinewidth\":0,\"ticks\":\"\"}}}],\"scatter3d\":[{\"type\":\"scatter3d\",\"line\":{\"colorbar\":{\"outlinewidth\":0,\"ticks\":\"\"}},\"marker\":{\"colorbar\":{\"outlinewidth\":0,\"ticks\":\"\"}}}],\"scattermapbox\":[{\"type\":\"scattermapbox\",\"marker\":{\"colorbar\":{\"outlinewidth\":0,\"ticks\":\"\"}}}],\"scatterternary\":[{\"type\":\"scatterternary\",\"marker\":{\"colorbar\":{\"outlinewidth\":0,\"ticks\":\"\"}}}],\"scattercarpet\":[{\"type\":\"scattercarpet\",\"marker\":{\"colorbar\":{\"outlinewidth\":0,\"ticks\":\"\"}}}],\"carpet\":[{\"aaxis\":{\"endlinecolor\":\"#2a3f5f\",\"gridcolor\":\"white\",\"linecolor\":\"white\",\"minorgridcolor\":\"white\",\"startlinecolor\":\"#2a3f5f\"},\"baxis\":{\"endlinecolor\":\"#2a3f5f\",\"gridcolor\":\"white\",\"linecolor\":\"white\",\"minorgridcolor\":\"white\",\"startlinecolor\":\"#2a3f5f\"},\"type\":\"carpet\"}],\"table\":[{\"cells\":{\"fill\":{\"color\":\"#EBF0F8\"},\"line\":{\"color\":\"white\"}},\"header\":{\"fill\":{\"color\":\"#C8D4E3\"},\"line\":{\"color\":\"white\"}},\"type\":\"table\"}],\"barpolar\":[{\"marker\":{\"line\":{\"color\":\"#E5ECF6\",\"width\":0.5},\"pattern\":{\"fillmode\":\"overlay\",\"size\":10,\"solidity\":0.2}},\"type\":\"barpolar\"}],\"pie\":[{\"automargin\":true,\"type\":\"pie\"}]},\"layout\":{\"autotypenumbers\":\"strict\",\"colorway\":[\"#636efa\",\"#EF553B\",\"#00cc96\",\"#ab63fa\",\"#FFA15A\",\"#19d3f3\",\"#FF6692\",\"#B6E880\",\"#FF97FF\",\"#FECB52\"],\"font\":{\"color\":\"#2a3f5f\"},\"hovermode\":\"closest\",\"hoverlabel\":{\"align\":\"left\"},\"paper_bgcolor\":\"white\",\"plot_bgcolor\":\"#E5ECF6\",\"polar\":{\"bgcolor\":\"#E5ECF6\",\"angularaxis\":{\"gridcolor\":\"white\",\"linecolor\":\"white\",\"ticks\":\"\"},\"radialaxis\":{\"gridcolor\":\"white\",\"linecolor\":\"white\",\"ticks\":\"\"}},\"ternary\":{\"bgcolor\":\"#E5ECF6\",\"aaxis\":{\"gridcolor\":\"white\",\"linecolor\":\"white\",\"ticks\":\"\"},\"baxis\":{\"gridcolor\":\"white\",\"linecolor\":\"white\",\"ticks\":\"\"},\"caxis\":{\"gridcolor\":\"white\",\"linecolor\":\"white\",\"ticks\":\"\"}},\"coloraxis\":{\"colorbar\":{\"outlinewidth\":0,\"ticks\":\"\"}},\"colorscale\":{\"sequential\":[[0.0,\"#0d0887\"],[0.1111111111111111,\"#46039f\"],[0.2222222222222222,\"#7201a8\"],[0.3333333333333333,\"#9c179e\"],[0.4444444444444444,\"#bd3786\"],[0.5555555555555556,\"#d8576b\"],[0.6666666666666666,\"#ed7953\"],[0.7777777777777778,\"#fb9f3a\"],[0.8888888888888888,\"#fdca26\"],[1.0,\"#f0f921\"]],\"sequentialminus\":[[0.0,\"#0d0887\"],[0.1111111111111111,\"#46039f\"],[0.2222222222222222,\"#7201a8\"],[0.3333333333333333,\"#9c179e\"],[0.4444444444444444,\"#bd3786\"],[0.5555555555555556,\"#d8576b\"],[0.6666666666666666,\"#ed7953\"],[0.7777777777777778,\"#fb9f3a\"],[0.8888888888888888,\"#fdca26\"],[1.0,\"#f0f921\"]],\"diverging\":[[0,\"#8e0152\"],[0.1,\"#c51b7d\"],[0.2,\"#de77ae\"],[0.3,\"#f1b6da\"],[0.4,\"#fde0ef\"],[0.5,\"#f7f7f7\"],[0.6,\"#e6f5d0\"],[0.7,\"#b8e186\"],[0.8,\"#7fbc41\"],[0.9,\"#4d9221\"],[1,\"#276419\"]]},\"xaxis\":{\"gridcolor\":\"white\",\"linecolor\":\"white\",\"ticks\":\"\",\"title\":{\"standoff\":15},\"zerolinecolor\":\"white\",\"automargin\":true,\"zerolinewidth\":2},\"yaxis\":{\"gridcolor\":\"white\",\"linecolor\":\"white\",\"ticks\":\"\",\"title\":{\"standoff\":15},\"zerolinecolor\":\"white\",\"automargin\":true,\"zerolinewidth\":2},\"scene\":{\"xaxis\":{\"backgroundcolor\":\"#E5ECF6\",\"gridcolor\":\"white\",\"linecolor\":\"white\",\"showbackground\":true,\"ticks\":\"\",\"zerolinecolor\":\"white\",\"gridwidth\":2},\"yaxis\":{\"backgroundcolor\":\"#E5ECF6\",\"gridcolor\":\"white\",\"linecolor\":\"white\",\"showbackground\":true,\"ticks\":\"\",\"zerolinecolor\":\"white\",\"gridwidth\":2},\"zaxis\":{\"backgroundcolor\":\"#E5ECF6\",\"gridcolor\":\"white\",\"linecolor\":\"white\",\"showbackground\":true,\"ticks\":\"\",\"zerolinecolor\":\"white\",\"gridwidth\":2}},\"shapedefaults\":{\"line\":{\"color\":\"#2a3f5f\"}},\"annotationdefaults\":{\"arrowcolor\":\"#2a3f5f\",\"arrowhead\":0,\"arrowwidth\":1},\"geo\":{\"bgcolor\":\"white\",\"landcolor\":\"#E5ECF6\",\"subunitcolor\":\"white\",\"showland\":true,\"showlakes\":true,\"lakecolor\":\"white\"},\"title\":{\"x\":0.05},\"mapbox\":{\"style\":\"light\"}}}},                        {\"responsive\": true}                    ).then(function(){\n",
       "                            \n",
       "var gd = document.getElementById('2d25a8a3-c9b4-46f2-b0ba-20fff8f8b975');\n",
       "var x = new MutationObserver(function (mutations, observer) {{\n",
       "        var display = window.getComputedStyle(gd).display;\n",
       "        if (!display || display === 'none') {{\n",
       "            console.log([gd, 'removed!']);\n",
       "            Plotly.purge(gd);\n",
       "            observer.disconnect();\n",
       "        }}\n",
       "}});\n",
       "\n",
       "// Listen for the removal of the full notebook cells\n",
       "var notebookContainer = gd.closest('#notebook-container');\n",
       "if (notebookContainer) {{\n",
       "    x.observe(notebookContainer, {childList: true});\n",
       "}}\n",
       "\n",
       "// Listen for the clearing of the current output cell\n",
       "var outputEl = gd.closest('.output');\n",
       "if (outputEl) {{\n",
       "    x.observe(outputEl, {childList: true});\n",
       "}}\n",
       "\n",
       "                        })                };                });            </script>        </div>"
      ]
     },
     "metadata": {},
     "output_type": "display_data"
    }
   ],
   "source": [
    "optuna.visualization.plot_optimization_history(find_param)"
   ]
  },
  {
   "cell_type": "code",
   "execution_count": 98,
   "id": "0e73d546",
   "metadata": {},
   "outputs": [
    {
     "data": {
      "application/vnd.plotly.v1+json": {
       "config": {
        "plotlyServerURL": "https://plot.ly"
       },
       "data": [
        {
         "marker": {
          "color": [
           0,
           1,
           2,
           3,
           4,
           5,
           6,
           7,
           8,
           9
          ],
          "colorbar": {
           "title": {
            "text": "Trial"
           },
           "x": 1,
           "xpad": 40
          },
          "colorscale": [
           [
            0,
            "rgb(247,251,255)"
           ],
           [
            0.125,
            "rgb(222,235,247)"
           ],
           [
            0.25,
            "rgb(198,219,239)"
           ],
           [
            0.375,
            "rgb(158,202,225)"
           ],
           [
            0.5,
            "rgb(107,174,214)"
           ],
           [
            0.625,
            "rgb(66,146,198)"
           ],
           [
            0.75,
            "rgb(33,113,181)"
           ],
           [
            0.875,
            "rgb(8,81,156)"
           ],
           [
            1,
            "rgb(8,48,107)"
           ]
          ],
          "line": {
           "color": "Grey",
           "width": 0.5
          },
          "showscale": true
         },
         "mode": "markers",
         "name": "Feasible Trial",
         "showlegend": false,
         "type": "scatter",
         "x": [
          0.08405833479973429,
          4.332588604983342,
          0.0003557835576041276,
          1.8132972531678682,
          0.008299729580501848,
          0.43318974789776127,
          0.013155108953697052,
          0.01905389167816211,
          0.0018478776323309443,
          0.09996441259458765
         ],
         "xaxis": "x",
         "y": [
          0.01820538422628482,
          0.010473366614050954,
          0.01861991588919582,
          0.018889269137595695,
          0.018899353464401927,
          0.006877304593659195,
          0.018902777506705052,
          0.018889836682073925,
          0.018873999180252933,
          0.005061777788086771
         ],
         "yaxis": "y"
        },
        {
         "marker": {
          "color": [
           0,
           1,
           2,
           3,
           4,
           5,
           6,
           7,
           8,
           9
          ],
          "colorbar": {
           "title": {
            "text": "Trial"
           },
           "x": 1,
           "xpad": 40
          },
          "colorscale": [
           [
            0,
            "rgb(247,251,255)"
           ],
           [
            0.125,
            "rgb(222,235,247)"
           ],
           [
            0.25,
            "rgb(198,219,239)"
           ],
           [
            0.375,
            "rgb(158,202,225)"
           ],
           [
            0.5,
            "rgb(107,174,214)"
           ],
           [
            0.625,
            "rgb(66,146,198)"
           ],
           [
            0.75,
            "rgb(33,113,181)"
           ],
           [
            0.875,
            "rgb(8,81,156)"
           ],
           [
            1,
            "rgb(8,48,107)"
           ]
          ],
          "line": {
           "color": "Grey",
           "width": 0.5
          },
          "showscale": false
         },
         "mode": "markers",
         "name": "Feasible Trial",
         "showlegend": false,
         "type": "scatter",
         "x": [
          0.7,
          1,
          0.4,
          0.1,
          0.9,
          0.2,
          0.4,
          0.6,
          0.9,
          0.8
         ],
         "xaxis": "x2",
         "y": [
          0.01820538422628482,
          0.010473366614050954,
          0.01861991588919582,
          0.018889269137595695,
          0.018899353464401927,
          0.006877304593659195,
          0.018902777506705052,
          0.018889836682073925,
          0.018873999180252933,
          0.005061777788086771
         ],
         "yaxis": "y2"
        },
        {
         "marker": {
          "color": [
           0,
           1,
           2,
           3,
           4,
           5,
           6,
           7,
           8,
           9
          ],
          "colorbar": {
           "title": {
            "text": "Trial"
           },
           "x": 1,
           "xpad": 40
          },
          "colorscale": [
           [
            0,
            "rgb(247,251,255)"
           ],
           [
            0.125,
            "rgb(222,235,247)"
           ],
           [
            0.25,
            "rgb(198,219,239)"
           ],
           [
            0.375,
            "rgb(158,202,225)"
           ],
           [
            0.5,
            "rgb(107,174,214)"
           ],
           [
            0.625,
            "rgb(66,146,198)"
           ],
           [
            0.75,
            "rgb(33,113,181)"
           ],
           [
            0.875,
            "rgb(8,81,156)"
           ],
           [
            1,
            "rgb(8,48,107)"
           ]
          ],
          "line": {
           "color": "Grey",
           "width": 0.5
          },
          "showscale": false
         },
         "mode": "markers",
         "name": "Feasible Trial",
         "showlegend": false,
         "type": "scatter",
         "x": [
          0.001297465048142707,
          0.00029573847224035054,
          0.05626022926061807,
          0.00016390858057559204,
          0.2495143283223459,
          0.166067230776482,
          0.00031690404481516337,
          2.914662029011142,
          0.03230247232977201,
          5.691222842147497
         ],
         "xaxis": "x3",
         "y": [
          0.01820538422628482,
          0.010473366614050954,
          0.01861991588919582,
          0.018889269137595695,
          0.018899353464401927,
          0.006877304593659195,
          0.018902777506705052,
          0.018889836682073925,
          0.018873999180252933,
          0.005061777788086771
         ],
         "yaxis": "y3"
        },
        {
         "marker": {
          "color": [
           0,
           1,
           2,
           3,
           4,
           5,
           6,
           7,
           8,
           9
          ],
          "colorbar": {
           "title": {
            "text": "Trial"
           },
           "x": 1,
           "xpad": 40
          },
          "colorscale": [
           [
            0,
            "rgb(247,251,255)"
           ],
           [
            0.125,
            "rgb(222,235,247)"
           ],
           [
            0.25,
            "rgb(198,219,239)"
           ],
           [
            0.375,
            "rgb(158,202,225)"
           ],
           [
            0.5,
            "rgb(107,174,214)"
           ],
           [
            0.625,
            "rgb(66,146,198)"
           ],
           [
            0.75,
            "rgb(33,113,181)"
           ],
           [
            0.875,
            "rgb(8,81,156)"
           ],
           [
            1,
            "rgb(8,48,107)"
           ]
          ],
          "line": {
           "color": "Grey",
           "width": 0.5
          },
          "showscale": false
         },
         "mode": "markers",
         "name": "Feasible Trial",
         "showlegend": false,
         "type": "scatter",
         "x": [
          0.0003,
          0.008,
          0.0003,
          1e-05,
          1e-05,
          0.02,
          0.0003,
          1e-05,
          1e-05,
          0.02
         ],
         "xaxis": "x4",
         "y": [
          0.01820538422628482,
          0.010473366614050954,
          0.01861991588919582,
          0.018889269137595695,
          0.018899353464401927,
          0.006877304593659195,
          0.018902777506705052,
          0.018889836682073925,
          0.018873999180252933,
          0.005061777788086771
         ],
         "yaxis": "y4"
        },
        {
         "marker": {
          "color": [
           0,
           1,
           2,
           3,
           4,
           5,
           6,
           7,
           8,
           9
          ],
          "colorbar": {
           "title": {
            "text": "Trial"
           },
           "x": 1,
           "xpad": 40
          },
          "colorscale": [
           [
            0,
            "rgb(247,251,255)"
           ],
           [
            0.125,
            "rgb(222,235,247)"
           ],
           [
            0.25,
            "rgb(198,219,239)"
           ],
           [
            0.375,
            "rgb(158,202,225)"
           ],
           [
            0.5,
            "rgb(107,174,214)"
           ],
           [
            0.625,
            "rgb(66,146,198)"
           ],
           [
            0.75,
            "rgb(33,113,181)"
           ],
           [
            0.875,
            "rgb(8,81,156)"
           ],
           [
            1,
            "rgb(8,48,107)"
           ]
          ],
          "line": {
           "color": "Grey",
           "width": 0.5
          },
          "showscale": false
         },
         "mode": "markers",
         "name": "Feasible Trial",
         "showlegend": false,
         "type": "scatter",
         "x": [
          11,
          11,
          5,
          7,
          10,
          4,
          12,
          7,
          6,
          9
         ],
         "xaxis": "x5",
         "y": [
          0.01820538422628482,
          0.010473366614050954,
          0.01861991588919582,
          0.018889269137595695,
          0.018899353464401927,
          0.006877304593659195,
          0.018902777506705052,
          0.018889836682073925,
          0.018873999180252933,
          0.005061777788086771
         ],
         "yaxis": "y5"
        },
        {
         "marker": {
          "color": [
           0,
           1,
           2,
           3,
           4,
           5,
           6,
           7,
           8,
           9
          ],
          "colorbar": {
           "title": {
            "text": "Trial"
           },
           "x": 1,
           "xpad": 40
          },
          "colorscale": [
           [
            0,
            "rgb(247,251,255)"
           ],
           [
            0.125,
            "rgb(222,235,247)"
           ],
           [
            0.25,
            "rgb(198,219,239)"
           ],
           [
            0.375,
            "rgb(158,202,225)"
           ],
           [
            0.5,
            "rgb(107,174,214)"
           ],
           [
            0.625,
            "rgb(66,146,198)"
           ],
           [
            0.75,
            "rgb(33,113,181)"
           ],
           [
            0.875,
            "rgb(8,81,156)"
           ],
           [
            1,
            "rgb(8,48,107)"
           ]
          ],
          "line": {
           "color": "Grey",
           "width": 0.5
          },
          "showscale": false
         },
         "mode": "markers",
         "name": "Feasible Trial",
         "showlegend": false,
         "type": "scatter",
         "x": [
          55,
          38,
          111,
          151,
          160,
          51,
          100,
          89,
          75,
          82
         ],
         "xaxis": "x6",
         "y": [
          0.01820538422628482,
          0.010473366614050954,
          0.01861991588919582,
          0.018889269137595695,
          0.018899353464401927,
          0.006877304593659195,
          0.018902777506705052,
          0.018889836682073925,
          0.018873999180252933,
          0.005061777788086771
         ],
         "yaxis": "y6"
        },
        {
         "marker": {
          "color": [
           0,
           1,
           2,
           3,
           4,
           5,
           6,
           7,
           8,
           9
          ],
          "colorbar": {
           "title": {
            "text": "Trial"
           },
           "x": 1,
           "xpad": 40
          },
          "colorscale": [
           [
            0,
            "rgb(247,251,255)"
           ],
           [
            0.125,
            "rgb(222,235,247)"
           ],
           [
            0.25,
            "rgb(198,219,239)"
           ],
           [
            0.375,
            "rgb(158,202,225)"
           ],
           [
            0.5,
            "rgb(107,174,214)"
           ],
           [
            0.625,
            "rgb(66,146,198)"
           ],
           [
            0.75,
            "rgb(33,113,181)"
           ],
           [
            0.875,
            "rgb(8,81,156)"
           ],
           [
            1,
            "rgb(8,48,107)"
           ]
          ],
          "line": {
           "color": "Grey",
           "width": 0.5
          },
          "showscale": false
         },
         "mode": "markers",
         "name": "Feasible Trial",
         "showlegend": false,
         "type": "scatter",
         "x": [
          2000,
          30,
          3454,
          10,
          3454,
          243123,
          10,
          3454,
          243123,
          10
         ],
         "xaxis": "x7",
         "y": [
          0.01820538422628482,
          0.010473366614050954,
          0.01861991588919582,
          0.018889269137595695,
          0.018899353464401927,
          0.006877304593659195,
          0.018902777506705052,
          0.018889836682073925,
          0.018873999180252933,
          0.005061777788086771
         ],
         "yaxis": "y7"
        },
        {
         "marker": {
          "color": [
           0,
           1,
           2,
           3,
           4,
           5,
           6,
           7,
           8,
           9
          ],
          "colorbar": {
           "title": {
            "text": "Trial"
           },
           "x": 1,
           "xpad": 40
          },
          "colorscale": [
           [
            0,
            "rgb(247,251,255)"
           ],
           [
            0.125,
            "rgb(222,235,247)"
           ],
           [
            0.25,
            "rgb(198,219,239)"
           ],
           [
            0.375,
            "rgb(158,202,225)"
           ],
           [
            0.5,
            "rgb(107,174,214)"
           ],
           [
            0.625,
            "rgb(66,146,198)"
           ],
           [
            0.75,
            "rgb(33,113,181)"
           ],
           [
            0.875,
            "rgb(8,81,156)"
           ],
           [
            1,
            "rgb(8,48,107)"
           ]
          ],
          "line": {
           "color": "Grey",
           "width": 0.5
          },
          "showscale": false
         },
         "mode": "markers",
         "name": "Feasible Trial",
         "showlegend": false,
         "type": "scatter",
         "x": [
          0.6,
          0.9,
          0.5,
          0.9,
          0.1,
          0.4,
          0.3,
          0.4,
          0.9,
          0.8
         ],
         "xaxis": "x8",
         "y": [
          0.01820538422628482,
          0.010473366614050954,
          0.01861991588919582,
          0.018889269137595695,
          0.018899353464401927,
          0.006877304593659195,
          0.018902777506705052,
          0.018889836682073925,
          0.018873999180252933,
          0.005061777788086771
         ],
         "yaxis": "y8"
        }
       ],
       "layout": {
        "template": {
         "data": {
          "bar": [
           {
            "error_x": {
             "color": "#2a3f5f"
            },
            "error_y": {
             "color": "#2a3f5f"
            },
            "marker": {
             "line": {
              "color": "#E5ECF6",
              "width": 0.5
             },
             "pattern": {
              "fillmode": "overlay",
              "size": 10,
              "solidity": 0.2
             }
            },
            "type": "bar"
           }
          ],
          "barpolar": [
           {
            "marker": {
             "line": {
              "color": "#E5ECF6",
              "width": 0.5
             },
             "pattern": {
              "fillmode": "overlay",
              "size": 10,
              "solidity": 0.2
             }
            },
            "type": "barpolar"
           }
          ],
          "carpet": [
           {
            "aaxis": {
             "endlinecolor": "#2a3f5f",
             "gridcolor": "white",
             "linecolor": "white",
             "minorgridcolor": "white",
             "startlinecolor": "#2a3f5f"
            },
            "baxis": {
             "endlinecolor": "#2a3f5f",
             "gridcolor": "white",
             "linecolor": "white",
             "minorgridcolor": "white",
             "startlinecolor": "#2a3f5f"
            },
            "type": "carpet"
           }
          ],
          "choropleth": [
           {
            "colorbar": {
             "outlinewidth": 0,
             "ticks": ""
            },
            "type": "choropleth"
           }
          ],
          "contour": [
           {
            "colorbar": {
             "outlinewidth": 0,
             "ticks": ""
            },
            "colorscale": [
             [
              0,
              "#0d0887"
             ],
             [
              0.1111111111111111,
              "#46039f"
             ],
             [
              0.2222222222222222,
              "#7201a8"
             ],
             [
              0.3333333333333333,
              "#9c179e"
             ],
             [
              0.4444444444444444,
              "#bd3786"
             ],
             [
              0.5555555555555556,
              "#d8576b"
             ],
             [
              0.6666666666666666,
              "#ed7953"
             ],
             [
              0.7777777777777778,
              "#fb9f3a"
             ],
             [
              0.8888888888888888,
              "#fdca26"
             ],
             [
              1,
              "#f0f921"
             ]
            ],
            "type": "contour"
           }
          ],
          "contourcarpet": [
           {
            "colorbar": {
             "outlinewidth": 0,
             "ticks": ""
            },
            "type": "contourcarpet"
           }
          ],
          "heatmap": [
           {
            "colorbar": {
             "outlinewidth": 0,
             "ticks": ""
            },
            "colorscale": [
             [
              0,
              "#0d0887"
             ],
             [
              0.1111111111111111,
              "#46039f"
             ],
             [
              0.2222222222222222,
              "#7201a8"
             ],
             [
              0.3333333333333333,
              "#9c179e"
             ],
             [
              0.4444444444444444,
              "#bd3786"
             ],
             [
              0.5555555555555556,
              "#d8576b"
             ],
             [
              0.6666666666666666,
              "#ed7953"
             ],
             [
              0.7777777777777778,
              "#fb9f3a"
             ],
             [
              0.8888888888888888,
              "#fdca26"
             ],
             [
              1,
              "#f0f921"
             ]
            ],
            "type": "heatmap"
           }
          ],
          "heatmapgl": [
           {
            "colorbar": {
             "outlinewidth": 0,
             "ticks": ""
            },
            "colorscale": [
             [
              0,
              "#0d0887"
             ],
             [
              0.1111111111111111,
              "#46039f"
             ],
             [
              0.2222222222222222,
              "#7201a8"
             ],
             [
              0.3333333333333333,
              "#9c179e"
             ],
             [
              0.4444444444444444,
              "#bd3786"
             ],
             [
              0.5555555555555556,
              "#d8576b"
             ],
             [
              0.6666666666666666,
              "#ed7953"
             ],
             [
              0.7777777777777778,
              "#fb9f3a"
             ],
             [
              0.8888888888888888,
              "#fdca26"
             ],
             [
              1,
              "#f0f921"
             ]
            ],
            "type": "heatmapgl"
           }
          ],
          "histogram": [
           {
            "marker": {
             "pattern": {
              "fillmode": "overlay",
              "size": 10,
              "solidity": 0.2
             }
            },
            "type": "histogram"
           }
          ],
          "histogram2d": [
           {
            "colorbar": {
             "outlinewidth": 0,
             "ticks": ""
            },
            "colorscale": [
             [
              0,
              "#0d0887"
             ],
             [
              0.1111111111111111,
              "#46039f"
             ],
             [
              0.2222222222222222,
              "#7201a8"
             ],
             [
              0.3333333333333333,
              "#9c179e"
             ],
             [
              0.4444444444444444,
              "#bd3786"
             ],
             [
              0.5555555555555556,
              "#d8576b"
             ],
             [
              0.6666666666666666,
              "#ed7953"
             ],
             [
              0.7777777777777778,
              "#fb9f3a"
             ],
             [
              0.8888888888888888,
              "#fdca26"
             ],
             [
              1,
              "#f0f921"
             ]
            ],
            "type": "histogram2d"
           }
          ],
          "histogram2dcontour": [
           {
            "colorbar": {
             "outlinewidth": 0,
             "ticks": ""
            },
            "colorscale": [
             [
              0,
              "#0d0887"
             ],
             [
              0.1111111111111111,
              "#46039f"
             ],
             [
              0.2222222222222222,
              "#7201a8"
             ],
             [
              0.3333333333333333,
              "#9c179e"
             ],
             [
              0.4444444444444444,
              "#bd3786"
             ],
             [
              0.5555555555555556,
              "#d8576b"
             ],
             [
              0.6666666666666666,
              "#ed7953"
             ],
             [
              0.7777777777777778,
              "#fb9f3a"
             ],
             [
              0.8888888888888888,
              "#fdca26"
             ],
             [
              1,
              "#f0f921"
             ]
            ],
            "type": "histogram2dcontour"
           }
          ],
          "mesh3d": [
           {
            "colorbar": {
             "outlinewidth": 0,
             "ticks": ""
            },
            "type": "mesh3d"
           }
          ],
          "parcoords": [
           {
            "line": {
             "colorbar": {
              "outlinewidth": 0,
              "ticks": ""
             }
            },
            "type": "parcoords"
           }
          ],
          "pie": [
           {
            "automargin": true,
            "type": "pie"
           }
          ],
          "scatter": [
           {
            "fillpattern": {
             "fillmode": "overlay",
             "size": 10,
             "solidity": 0.2
            },
            "type": "scatter"
           }
          ],
          "scatter3d": [
           {
            "line": {
             "colorbar": {
              "outlinewidth": 0,
              "ticks": ""
             }
            },
            "marker": {
             "colorbar": {
              "outlinewidth": 0,
              "ticks": ""
             }
            },
            "type": "scatter3d"
           }
          ],
          "scattercarpet": [
           {
            "marker": {
             "colorbar": {
              "outlinewidth": 0,
              "ticks": ""
             }
            },
            "type": "scattercarpet"
           }
          ],
          "scattergeo": [
           {
            "marker": {
             "colorbar": {
              "outlinewidth": 0,
              "ticks": ""
             }
            },
            "type": "scattergeo"
           }
          ],
          "scattergl": [
           {
            "marker": {
             "colorbar": {
              "outlinewidth": 0,
              "ticks": ""
             }
            },
            "type": "scattergl"
           }
          ],
          "scattermapbox": [
           {
            "marker": {
             "colorbar": {
              "outlinewidth": 0,
              "ticks": ""
             }
            },
            "type": "scattermapbox"
           }
          ],
          "scatterpolar": [
           {
            "marker": {
             "colorbar": {
              "outlinewidth": 0,
              "ticks": ""
             }
            },
            "type": "scatterpolar"
           }
          ],
          "scatterpolargl": [
           {
            "marker": {
             "colorbar": {
              "outlinewidth": 0,
              "ticks": ""
             }
            },
            "type": "scatterpolargl"
           }
          ],
          "scatterternary": [
           {
            "marker": {
             "colorbar": {
              "outlinewidth": 0,
              "ticks": ""
             }
            },
            "type": "scatterternary"
           }
          ],
          "surface": [
           {
            "colorbar": {
             "outlinewidth": 0,
             "ticks": ""
            },
            "colorscale": [
             [
              0,
              "#0d0887"
             ],
             [
              0.1111111111111111,
              "#46039f"
             ],
             [
              0.2222222222222222,
              "#7201a8"
             ],
             [
              0.3333333333333333,
              "#9c179e"
             ],
             [
              0.4444444444444444,
              "#bd3786"
             ],
             [
              0.5555555555555556,
              "#d8576b"
             ],
             [
              0.6666666666666666,
              "#ed7953"
             ],
             [
              0.7777777777777778,
              "#fb9f3a"
             ],
             [
              0.8888888888888888,
              "#fdca26"
             ],
             [
              1,
              "#f0f921"
             ]
            ],
            "type": "surface"
           }
          ],
          "table": [
           {
            "cells": {
             "fill": {
              "color": "#EBF0F8"
             },
             "line": {
              "color": "white"
             }
            },
            "header": {
             "fill": {
              "color": "#C8D4E3"
             },
             "line": {
              "color": "white"
             }
            },
            "type": "table"
           }
          ]
         },
         "layout": {
          "annotationdefaults": {
           "arrowcolor": "#2a3f5f",
           "arrowhead": 0,
           "arrowwidth": 1
          },
          "autotypenumbers": "strict",
          "coloraxis": {
           "colorbar": {
            "outlinewidth": 0,
            "ticks": ""
           }
          },
          "colorscale": {
           "diverging": [
            [
             0,
             "#8e0152"
            ],
            [
             0.1,
             "#c51b7d"
            ],
            [
             0.2,
             "#de77ae"
            ],
            [
             0.3,
             "#f1b6da"
            ],
            [
             0.4,
             "#fde0ef"
            ],
            [
             0.5,
             "#f7f7f7"
            ],
            [
             0.6,
             "#e6f5d0"
            ],
            [
             0.7,
             "#b8e186"
            ],
            [
             0.8,
             "#7fbc41"
            ],
            [
             0.9,
             "#4d9221"
            ],
            [
             1,
             "#276419"
            ]
           ],
           "sequential": [
            [
             0,
             "#0d0887"
            ],
            [
             0.1111111111111111,
             "#46039f"
            ],
            [
             0.2222222222222222,
             "#7201a8"
            ],
            [
             0.3333333333333333,
             "#9c179e"
            ],
            [
             0.4444444444444444,
             "#bd3786"
            ],
            [
             0.5555555555555556,
             "#d8576b"
            ],
            [
             0.6666666666666666,
             "#ed7953"
            ],
            [
             0.7777777777777778,
             "#fb9f3a"
            ],
            [
             0.8888888888888888,
             "#fdca26"
            ],
            [
             1,
             "#f0f921"
            ]
           ],
           "sequentialminus": [
            [
             0,
             "#0d0887"
            ],
            [
             0.1111111111111111,
             "#46039f"
            ],
            [
             0.2222222222222222,
             "#7201a8"
            ],
            [
             0.3333333333333333,
             "#9c179e"
            ],
            [
             0.4444444444444444,
             "#bd3786"
            ],
            [
             0.5555555555555556,
             "#d8576b"
            ],
            [
             0.6666666666666666,
             "#ed7953"
            ],
            [
             0.7777777777777778,
             "#fb9f3a"
            ],
            [
             0.8888888888888888,
             "#fdca26"
            ],
            [
             1,
             "#f0f921"
            ]
           ]
          },
          "colorway": [
           "#636efa",
           "#EF553B",
           "#00cc96",
           "#ab63fa",
           "#FFA15A",
           "#19d3f3",
           "#FF6692",
           "#B6E880",
           "#FF97FF",
           "#FECB52"
          ],
          "font": {
           "color": "#2a3f5f"
          },
          "geo": {
           "bgcolor": "white",
           "lakecolor": "white",
           "landcolor": "#E5ECF6",
           "showlakes": true,
           "showland": true,
           "subunitcolor": "white"
          },
          "hoverlabel": {
           "align": "left"
          },
          "hovermode": "closest",
          "mapbox": {
           "style": "light"
          },
          "paper_bgcolor": "white",
          "plot_bgcolor": "#E5ECF6",
          "polar": {
           "angularaxis": {
            "gridcolor": "white",
            "linecolor": "white",
            "ticks": ""
           },
           "bgcolor": "#E5ECF6",
           "radialaxis": {
            "gridcolor": "white",
            "linecolor": "white",
            "ticks": ""
           }
          },
          "scene": {
           "xaxis": {
            "backgroundcolor": "#E5ECF6",
            "gridcolor": "white",
            "gridwidth": 2,
            "linecolor": "white",
            "showbackground": true,
            "ticks": "",
            "zerolinecolor": "white"
           },
           "yaxis": {
            "backgroundcolor": "#E5ECF6",
            "gridcolor": "white",
            "gridwidth": 2,
            "linecolor": "white",
            "showbackground": true,
            "ticks": "",
            "zerolinecolor": "white"
           },
           "zaxis": {
            "backgroundcolor": "#E5ECF6",
            "gridcolor": "white",
            "gridwidth": 2,
            "linecolor": "white",
            "showbackground": true,
            "ticks": "",
            "zerolinecolor": "white"
           }
          },
          "shapedefaults": {
           "line": {
            "color": "#2a3f5f"
           }
          },
          "ternary": {
           "aaxis": {
            "gridcolor": "white",
            "linecolor": "white",
            "ticks": ""
           },
           "baxis": {
            "gridcolor": "white",
            "linecolor": "white",
            "ticks": ""
           },
           "bgcolor": "#E5ECF6",
           "caxis": {
            "gridcolor": "white",
            "linecolor": "white",
            "ticks": ""
           }
          },
          "title": {
           "x": 0.05
          },
          "xaxis": {
           "automargin": true,
           "gridcolor": "white",
           "linecolor": "white",
           "ticks": "",
           "title": {
            "standoff": 15
           },
           "zerolinecolor": "white",
           "zerolinewidth": 2
          },
          "yaxis": {
           "automargin": true,
           "gridcolor": "white",
           "linecolor": "white",
           "ticks": "",
           "title": {
            "standoff": 15
           },
           "zerolinecolor": "white",
           "zerolinewidth": 2
          }
         }
        },
        "title": {
         "text": "Slice Plot"
        },
        "width": 2400,
        "xaxis": {
         "anchor": "y",
         "domain": [
          0,
          0.103125
         ],
         "title": {
          "text": "alpha"
         },
         "type": "log"
        },
        "xaxis2": {
         "anchor": "y2",
         "categoryarray": [
          0.1,
          0.2,
          0.3,
          0.4,
          0.5,
          0.6,
          0.7,
          0.8,
          0.9,
          1
         ],
         "categoryorder": "array",
         "domain": [
          0.128125,
          0.23124999999999998
         ],
         "title": {
          "text": "colsample_bytree"
         },
         "type": "category"
        },
        "xaxis3": {
         "anchor": "y3",
         "domain": [
          0.25625,
          0.359375
         ],
         "title": {
          "text": "lambda"
         },
         "type": "log"
        },
        "xaxis4": {
         "anchor": "y4",
         "categoryarray": [
          1e-05,
          0.0003,
          0.008,
          0.02,
          0.01,
          1,
          8
         ],
         "categoryorder": "array",
         "domain": [
          0.38437499999999997,
          0.48749999999999993
         ],
         "title": {
          "text": "learning_rate"
         },
         "type": "category"
        },
        "xaxis5": {
         "anchor": "y5",
         "categoryarray": [
          3,
          4,
          5,
          6,
          7,
          8,
          9,
          10,
          11,
          12
         ],
         "categoryorder": "array",
         "domain": [
          0.5125,
          0.615625
         ],
         "title": {
          "text": "max_depth"
         },
         "type": "category"
        },
        "xaxis6": {
         "anchor": "y6",
         "domain": [
          0.640625,
          0.74375
         ],
         "title": {
          "text": "min_child_weight"
         }
        },
        "xaxis7": {
         "anchor": "y7",
         "categoryarray": [
          10,
          20,
          30,
          2000,
          3454,
          243123
         ],
         "categoryorder": "array",
         "domain": [
          0.76875,
          0.8718750000000001
         ],
         "title": {
          "text": "random_state"
         },
         "type": "category"
        },
        "xaxis8": {
         "anchor": "y8",
         "categoryarray": [
          0.1,
          0.2,
          0.3,
          0.4,
          0.5,
          0.6,
          0.7,
          0.8,
          0.9,
          1
         ],
         "categoryorder": "array",
         "domain": [
          0.8968750000000001,
          1
         ],
         "title": {
          "text": "subsample"
         },
         "type": "category"
        },
        "yaxis": {
         "anchor": "x",
         "domain": [
          0,
          1
         ],
         "title": {
          "text": "Objective Value"
         }
        },
        "yaxis2": {
         "anchor": "x2",
         "domain": [
          0,
          1
         ],
         "matches": "y",
         "showticklabels": false
        },
        "yaxis3": {
         "anchor": "x3",
         "domain": [
          0,
          1
         ],
         "matches": "y",
         "showticklabels": false
        },
        "yaxis4": {
         "anchor": "x4",
         "domain": [
          0,
          1
         ],
         "matches": "y",
         "showticklabels": false
        },
        "yaxis5": {
         "anchor": "x5",
         "domain": [
          0,
          1
         ],
         "matches": "y",
         "showticklabels": false
        },
        "yaxis6": {
         "anchor": "x6",
         "domain": [
          0,
          1
         ],
         "matches": "y",
         "showticklabels": false
        },
        "yaxis7": {
         "anchor": "x7",
         "domain": [
          0,
          1
         ],
         "matches": "y",
         "showticklabels": false
        },
        "yaxis8": {
         "anchor": "x8",
         "domain": [
          0,
          1
         ],
         "matches": "y",
         "showticklabels": false
        }
       }
      },
      "text/html": [
       "<div>                            <div id=\"4052e8fa-2390-4efb-a311-31f90478f010\" class=\"plotly-graph-div\" style=\"height:525px; width:2400px;\"></div>            <script type=\"text/javascript\">                require([\"plotly\"], function(Plotly) {                    window.PLOTLYENV=window.PLOTLYENV || {};                                    if (document.getElementById(\"4052e8fa-2390-4efb-a311-31f90478f010\")) {                    Plotly.newPlot(                        \"4052e8fa-2390-4efb-a311-31f90478f010\",                        [{\"marker\":{\"color\":[0,1,2,3,4,5,6,7,8,9],\"colorbar\":{\"title\":{\"text\":\"Trial\"},\"x\":1.0,\"xpad\":40},\"colorscale\":[[0.0,\"rgb(247,251,255)\"],[0.125,\"rgb(222,235,247)\"],[0.25,\"rgb(198,219,239)\"],[0.375,\"rgb(158,202,225)\"],[0.5,\"rgb(107,174,214)\"],[0.625,\"rgb(66,146,198)\"],[0.75,\"rgb(33,113,181)\"],[0.875,\"rgb(8,81,156)\"],[1.0,\"rgb(8,48,107)\"]],\"line\":{\"color\":\"Grey\",\"width\":0.5},\"showscale\":true},\"mode\":\"markers\",\"name\":\"Feasible Trial\",\"showlegend\":false,\"x\":[0.08405833479973429,4.332588604983342,0.0003557835576041276,1.8132972531678682,0.008299729580501848,0.43318974789776127,0.013155108953697052,0.01905389167816211,0.0018478776323309443,0.09996441259458765],\"y\":[0.01820538422628482,0.010473366614050954,0.01861991588919582,0.018889269137595695,0.018899353464401927,0.006877304593659195,0.018902777506705052,0.018889836682073925,0.018873999180252933,0.005061777788086771],\"type\":\"scatter\",\"xaxis\":\"x\",\"yaxis\":\"y\"},{\"marker\":{\"color\":[0,1,2,3,4,5,6,7,8,9],\"colorbar\":{\"title\":{\"text\":\"Trial\"},\"x\":1.0,\"xpad\":40},\"colorscale\":[[0.0,\"rgb(247,251,255)\"],[0.125,\"rgb(222,235,247)\"],[0.25,\"rgb(198,219,239)\"],[0.375,\"rgb(158,202,225)\"],[0.5,\"rgb(107,174,214)\"],[0.625,\"rgb(66,146,198)\"],[0.75,\"rgb(33,113,181)\"],[0.875,\"rgb(8,81,156)\"],[1.0,\"rgb(8,48,107)\"]],\"line\":{\"color\":\"Grey\",\"width\":0.5},\"showscale\":false},\"mode\":\"markers\",\"name\":\"Feasible Trial\",\"showlegend\":false,\"x\":[0.7,1,0.4,0.1,0.9,0.2,0.4,0.6,0.9,0.8],\"y\":[0.01820538422628482,0.010473366614050954,0.01861991588919582,0.018889269137595695,0.018899353464401927,0.006877304593659195,0.018902777506705052,0.018889836682073925,0.018873999180252933,0.005061777788086771],\"type\":\"scatter\",\"xaxis\":\"x2\",\"yaxis\":\"y2\"},{\"marker\":{\"color\":[0,1,2,3,4,5,6,7,8,9],\"colorbar\":{\"title\":{\"text\":\"Trial\"},\"x\":1.0,\"xpad\":40},\"colorscale\":[[0.0,\"rgb(247,251,255)\"],[0.125,\"rgb(222,235,247)\"],[0.25,\"rgb(198,219,239)\"],[0.375,\"rgb(158,202,225)\"],[0.5,\"rgb(107,174,214)\"],[0.625,\"rgb(66,146,198)\"],[0.75,\"rgb(33,113,181)\"],[0.875,\"rgb(8,81,156)\"],[1.0,\"rgb(8,48,107)\"]],\"line\":{\"color\":\"Grey\",\"width\":0.5},\"showscale\":false},\"mode\":\"markers\",\"name\":\"Feasible Trial\",\"showlegend\":false,\"x\":[0.001297465048142707,0.00029573847224035054,0.05626022926061807,0.00016390858057559204,0.2495143283223459,0.166067230776482,0.00031690404481516337,2.914662029011142,0.03230247232977201,5.691222842147497],\"y\":[0.01820538422628482,0.010473366614050954,0.01861991588919582,0.018889269137595695,0.018899353464401927,0.006877304593659195,0.018902777506705052,0.018889836682073925,0.018873999180252933,0.005061777788086771],\"type\":\"scatter\",\"xaxis\":\"x3\",\"yaxis\":\"y3\"},{\"marker\":{\"color\":[0,1,2,3,4,5,6,7,8,9],\"colorbar\":{\"title\":{\"text\":\"Trial\"},\"x\":1.0,\"xpad\":40},\"colorscale\":[[0.0,\"rgb(247,251,255)\"],[0.125,\"rgb(222,235,247)\"],[0.25,\"rgb(198,219,239)\"],[0.375,\"rgb(158,202,225)\"],[0.5,\"rgb(107,174,214)\"],[0.625,\"rgb(66,146,198)\"],[0.75,\"rgb(33,113,181)\"],[0.875,\"rgb(8,81,156)\"],[1.0,\"rgb(8,48,107)\"]],\"line\":{\"color\":\"Grey\",\"width\":0.5},\"showscale\":false},\"mode\":\"markers\",\"name\":\"Feasible Trial\",\"showlegend\":false,\"x\":[0.0003,0.008,0.0003,1e-05,1e-05,0.02,0.0003,1e-05,1e-05,0.02],\"y\":[0.01820538422628482,0.010473366614050954,0.01861991588919582,0.018889269137595695,0.018899353464401927,0.006877304593659195,0.018902777506705052,0.018889836682073925,0.018873999180252933,0.005061777788086771],\"type\":\"scatter\",\"xaxis\":\"x4\",\"yaxis\":\"y4\"},{\"marker\":{\"color\":[0,1,2,3,4,5,6,7,8,9],\"colorbar\":{\"title\":{\"text\":\"Trial\"},\"x\":1.0,\"xpad\":40},\"colorscale\":[[0.0,\"rgb(247,251,255)\"],[0.125,\"rgb(222,235,247)\"],[0.25,\"rgb(198,219,239)\"],[0.375,\"rgb(158,202,225)\"],[0.5,\"rgb(107,174,214)\"],[0.625,\"rgb(66,146,198)\"],[0.75,\"rgb(33,113,181)\"],[0.875,\"rgb(8,81,156)\"],[1.0,\"rgb(8,48,107)\"]],\"line\":{\"color\":\"Grey\",\"width\":0.5},\"showscale\":false},\"mode\":\"markers\",\"name\":\"Feasible Trial\",\"showlegend\":false,\"x\":[11,11,5,7,10,4,12,7,6,9],\"y\":[0.01820538422628482,0.010473366614050954,0.01861991588919582,0.018889269137595695,0.018899353464401927,0.006877304593659195,0.018902777506705052,0.018889836682073925,0.018873999180252933,0.005061777788086771],\"type\":\"scatter\",\"xaxis\":\"x5\",\"yaxis\":\"y5\"},{\"marker\":{\"color\":[0,1,2,3,4,5,6,7,8,9],\"colorbar\":{\"title\":{\"text\":\"Trial\"},\"x\":1.0,\"xpad\":40},\"colorscale\":[[0.0,\"rgb(247,251,255)\"],[0.125,\"rgb(222,235,247)\"],[0.25,\"rgb(198,219,239)\"],[0.375,\"rgb(158,202,225)\"],[0.5,\"rgb(107,174,214)\"],[0.625,\"rgb(66,146,198)\"],[0.75,\"rgb(33,113,181)\"],[0.875,\"rgb(8,81,156)\"],[1.0,\"rgb(8,48,107)\"]],\"line\":{\"color\":\"Grey\",\"width\":0.5},\"showscale\":false},\"mode\":\"markers\",\"name\":\"Feasible Trial\",\"showlegend\":false,\"x\":[55,38,111,151,160,51,100,89,75,82],\"y\":[0.01820538422628482,0.010473366614050954,0.01861991588919582,0.018889269137595695,0.018899353464401927,0.006877304593659195,0.018902777506705052,0.018889836682073925,0.018873999180252933,0.005061777788086771],\"type\":\"scatter\",\"xaxis\":\"x6\",\"yaxis\":\"y6\"},{\"marker\":{\"color\":[0,1,2,3,4,5,6,7,8,9],\"colorbar\":{\"title\":{\"text\":\"Trial\"},\"x\":1.0,\"xpad\":40},\"colorscale\":[[0.0,\"rgb(247,251,255)\"],[0.125,\"rgb(222,235,247)\"],[0.25,\"rgb(198,219,239)\"],[0.375,\"rgb(158,202,225)\"],[0.5,\"rgb(107,174,214)\"],[0.625,\"rgb(66,146,198)\"],[0.75,\"rgb(33,113,181)\"],[0.875,\"rgb(8,81,156)\"],[1.0,\"rgb(8,48,107)\"]],\"line\":{\"color\":\"Grey\",\"width\":0.5},\"showscale\":false},\"mode\":\"markers\",\"name\":\"Feasible Trial\",\"showlegend\":false,\"x\":[2000,30,3454,10,3454,243123,10,3454,243123,10],\"y\":[0.01820538422628482,0.010473366614050954,0.01861991588919582,0.018889269137595695,0.018899353464401927,0.006877304593659195,0.018902777506705052,0.018889836682073925,0.018873999180252933,0.005061777788086771],\"type\":\"scatter\",\"xaxis\":\"x7\",\"yaxis\":\"y7\"},{\"marker\":{\"color\":[0,1,2,3,4,5,6,7,8,9],\"colorbar\":{\"title\":{\"text\":\"Trial\"},\"x\":1.0,\"xpad\":40},\"colorscale\":[[0.0,\"rgb(247,251,255)\"],[0.125,\"rgb(222,235,247)\"],[0.25,\"rgb(198,219,239)\"],[0.375,\"rgb(158,202,225)\"],[0.5,\"rgb(107,174,214)\"],[0.625,\"rgb(66,146,198)\"],[0.75,\"rgb(33,113,181)\"],[0.875,\"rgb(8,81,156)\"],[1.0,\"rgb(8,48,107)\"]],\"line\":{\"color\":\"Grey\",\"width\":0.5},\"showscale\":false},\"mode\":\"markers\",\"name\":\"Feasible Trial\",\"showlegend\":false,\"x\":[0.6,0.9,0.5,0.9,0.1,0.4,0.3,0.4,0.9,0.8],\"y\":[0.01820538422628482,0.010473366614050954,0.01861991588919582,0.018889269137595695,0.018899353464401927,0.006877304593659195,0.018902777506705052,0.018889836682073925,0.018873999180252933,0.005061777788086771],\"type\":\"scatter\",\"xaxis\":\"x8\",\"yaxis\":\"y8\"}],                        {\"template\":{\"data\":{\"histogram2dcontour\":[{\"type\":\"histogram2dcontour\",\"colorbar\":{\"outlinewidth\":0,\"ticks\":\"\"},\"colorscale\":[[0.0,\"#0d0887\"],[0.1111111111111111,\"#46039f\"],[0.2222222222222222,\"#7201a8\"],[0.3333333333333333,\"#9c179e\"],[0.4444444444444444,\"#bd3786\"],[0.5555555555555556,\"#d8576b\"],[0.6666666666666666,\"#ed7953\"],[0.7777777777777778,\"#fb9f3a\"],[0.8888888888888888,\"#fdca26\"],[1.0,\"#f0f921\"]]}],\"choropleth\":[{\"type\":\"choropleth\",\"colorbar\":{\"outlinewidth\":0,\"ticks\":\"\"}}],\"histogram2d\":[{\"type\":\"histogram2d\",\"colorbar\":{\"outlinewidth\":0,\"ticks\":\"\"},\"colorscale\":[[0.0,\"#0d0887\"],[0.1111111111111111,\"#46039f\"],[0.2222222222222222,\"#7201a8\"],[0.3333333333333333,\"#9c179e\"],[0.4444444444444444,\"#bd3786\"],[0.5555555555555556,\"#d8576b\"],[0.6666666666666666,\"#ed7953\"],[0.7777777777777778,\"#fb9f3a\"],[0.8888888888888888,\"#fdca26\"],[1.0,\"#f0f921\"]]}],\"heatmap\":[{\"type\":\"heatmap\",\"colorbar\":{\"outlinewidth\":0,\"ticks\":\"\"},\"colorscale\":[[0.0,\"#0d0887\"],[0.1111111111111111,\"#46039f\"],[0.2222222222222222,\"#7201a8\"],[0.3333333333333333,\"#9c179e\"],[0.4444444444444444,\"#bd3786\"],[0.5555555555555556,\"#d8576b\"],[0.6666666666666666,\"#ed7953\"],[0.7777777777777778,\"#fb9f3a\"],[0.8888888888888888,\"#fdca26\"],[1.0,\"#f0f921\"]]}],\"heatmapgl\":[{\"type\":\"heatmapgl\",\"colorbar\":{\"outlinewidth\":0,\"ticks\":\"\"},\"colorscale\":[[0.0,\"#0d0887\"],[0.1111111111111111,\"#46039f\"],[0.2222222222222222,\"#7201a8\"],[0.3333333333333333,\"#9c179e\"],[0.4444444444444444,\"#bd3786\"],[0.5555555555555556,\"#d8576b\"],[0.6666666666666666,\"#ed7953\"],[0.7777777777777778,\"#fb9f3a\"],[0.8888888888888888,\"#fdca26\"],[1.0,\"#f0f921\"]]}],\"contourcarpet\":[{\"type\":\"contourcarpet\",\"colorbar\":{\"outlinewidth\":0,\"ticks\":\"\"}}],\"contour\":[{\"type\":\"contour\",\"colorbar\":{\"outlinewidth\":0,\"ticks\":\"\"},\"colorscale\":[[0.0,\"#0d0887\"],[0.1111111111111111,\"#46039f\"],[0.2222222222222222,\"#7201a8\"],[0.3333333333333333,\"#9c179e\"],[0.4444444444444444,\"#bd3786\"],[0.5555555555555556,\"#d8576b\"],[0.6666666666666666,\"#ed7953\"],[0.7777777777777778,\"#fb9f3a\"],[0.8888888888888888,\"#fdca26\"],[1.0,\"#f0f921\"]]}],\"surface\":[{\"type\":\"surface\",\"colorbar\":{\"outlinewidth\":0,\"ticks\":\"\"},\"colorscale\":[[0.0,\"#0d0887\"],[0.1111111111111111,\"#46039f\"],[0.2222222222222222,\"#7201a8\"],[0.3333333333333333,\"#9c179e\"],[0.4444444444444444,\"#bd3786\"],[0.5555555555555556,\"#d8576b\"],[0.6666666666666666,\"#ed7953\"],[0.7777777777777778,\"#fb9f3a\"],[0.8888888888888888,\"#fdca26\"],[1.0,\"#f0f921\"]]}],\"mesh3d\":[{\"type\":\"mesh3d\",\"colorbar\":{\"outlinewidth\":0,\"ticks\":\"\"}}],\"scatter\":[{\"fillpattern\":{\"fillmode\":\"overlay\",\"size\":10,\"solidity\":0.2},\"type\":\"scatter\"}],\"parcoords\":[{\"type\":\"parcoords\",\"line\":{\"colorbar\":{\"outlinewidth\":0,\"ticks\":\"\"}}}],\"scatterpolargl\":[{\"type\":\"scatterpolargl\",\"marker\":{\"colorbar\":{\"outlinewidth\":0,\"ticks\":\"\"}}}],\"bar\":[{\"error_x\":{\"color\":\"#2a3f5f\"},\"error_y\":{\"color\":\"#2a3f5f\"},\"marker\":{\"line\":{\"color\":\"#E5ECF6\",\"width\":0.5},\"pattern\":{\"fillmode\":\"overlay\",\"size\":10,\"solidity\":0.2}},\"type\":\"bar\"}],\"scattergeo\":[{\"type\":\"scattergeo\",\"marker\":{\"colorbar\":{\"outlinewidth\":0,\"ticks\":\"\"}}}],\"scatterpolar\":[{\"type\":\"scatterpolar\",\"marker\":{\"colorbar\":{\"outlinewidth\":0,\"ticks\":\"\"}}}],\"histogram\":[{\"marker\":{\"pattern\":{\"fillmode\":\"overlay\",\"size\":10,\"solidity\":0.2}},\"type\":\"histogram\"}],\"scattergl\":[{\"type\":\"scattergl\",\"marker\":{\"colorbar\":{\"outlinewidth\":0,\"ticks\":\"\"}}}],\"scatter3d\":[{\"type\":\"scatter3d\",\"line\":{\"colorbar\":{\"outlinewidth\":0,\"ticks\":\"\"}},\"marker\":{\"colorbar\":{\"outlinewidth\":0,\"ticks\":\"\"}}}],\"scattermapbox\":[{\"type\":\"scattermapbox\",\"marker\":{\"colorbar\":{\"outlinewidth\":0,\"ticks\":\"\"}}}],\"scatterternary\":[{\"type\":\"scatterternary\",\"marker\":{\"colorbar\":{\"outlinewidth\":0,\"ticks\":\"\"}}}],\"scattercarpet\":[{\"type\":\"scattercarpet\",\"marker\":{\"colorbar\":{\"outlinewidth\":0,\"ticks\":\"\"}}}],\"carpet\":[{\"aaxis\":{\"endlinecolor\":\"#2a3f5f\",\"gridcolor\":\"white\",\"linecolor\":\"white\",\"minorgridcolor\":\"white\",\"startlinecolor\":\"#2a3f5f\"},\"baxis\":{\"endlinecolor\":\"#2a3f5f\",\"gridcolor\":\"white\",\"linecolor\":\"white\",\"minorgridcolor\":\"white\",\"startlinecolor\":\"#2a3f5f\"},\"type\":\"carpet\"}],\"table\":[{\"cells\":{\"fill\":{\"color\":\"#EBF0F8\"},\"line\":{\"color\":\"white\"}},\"header\":{\"fill\":{\"color\":\"#C8D4E3\"},\"line\":{\"color\":\"white\"}},\"type\":\"table\"}],\"barpolar\":[{\"marker\":{\"line\":{\"color\":\"#E5ECF6\",\"width\":0.5},\"pattern\":{\"fillmode\":\"overlay\",\"size\":10,\"solidity\":0.2}},\"type\":\"barpolar\"}],\"pie\":[{\"automargin\":true,\"type\":\"pie\"}]},\"layout\":{\"autotypenumbers\":\"strict\",\"colorway\":[\"#636efa\",\"#EF553B\",\"#00cc96\",\"#ab63fa\",\"#FFA15A\",\"#19d3f3\",\"#FF6692\",\"#B6E880\",\"#FF97FF\",\"#FECB52\"],\"font\":{\"color\":\"#2a3f5f\"},\"hovermode\":\"closest\",\"hoverlabel\":{\"align\":\"left\"},\"paper_bgcolor\":\"white\",\"plot_bgcolor\":\"#E5ECF6\",\"polar\":{\"bgcolor\":\"#E5ECF6\",\"angularaxis\":{\"gridcolor\":\"white\",\"linecolor\":\"white\",\"ticks\":\"\"},\"radialaxis\":{\"gridcolor\":\"white\",\"linecolor\":\"white\",\"ticks\":\"\"}},\"ternary\":{\"bgcolor\":\"#E5ECF6\",\"aaxis\":{\"gridcolor\":\"white\",\"linecolor\":\"white\",\"ticks\":\"\"},\"baxis\":{\"gridcolor\":\"white\",\"linecolor\":\"white\",\"ticks\":\"\"},\"caxis\":{\"gridcolor\":\"white\",\"linecolor\":\"white\",\"ticks\":\"\"}},\"coloraxis\":{\"colorbar\":{\"outlinewidth\":0,\"ticks\":\"\"}},\"colorscale\":{\"sequential\":[[0.0,\"#0d0887\"],[0.1111111111111111,\"#46039f\"],[0.2222222222222222,\"#7201a8\"],[0.3333333333333333,\"#9c179e\"],[0.4444444444444444,\"#bd3786\"],[0.5555555555555556,\"#d8576b\"],[0.6666666666666666,\"#ed7953\"],[0.7777777777777778,\"#fb9f3a\"],[0.8888888888888888,\"#fdca26\"],[1.0,\"#f0f921\"]],\"sequentialminus\":[[0.0,\"#0d0887\"],[0.1111111111111111,\"#46039f\"],[0.2222222222222222,\"#7201a8\"],[0.3333333333333333,\"#9c179e\"],[0.4444444444444444,\"#bd3786\"],[0.5555555555555556,\"#d8576b\"],[0.6666666666666666,\"#ed7953\"],[0.7777777777777778,\"#fb9f3a\"],[0.8888888888888888,\"#fdca26\"],[1.0,\"#f0f921\"]],\"diverging\":[[0,\"#8e0152\"],[0.1,\"#c51b7d\"],[0.2,\"#de77ae\"],[0.3,\"#f1b6da\"],[0.4,\"#fde0ef\"],[0.5,\"#f7f7f7\"],[0.6,\"#e6f5d0\"],[0.7,\"#b8e186\"],[0.8,\"#7fbc41\"],[0.9,\"#4d9221\"],[1,\"#276419\"]]},\"xaxis\":{\"gridcolor\":\"white\",\"linecolor\":\"white\",\"ticks\":\"\",\"title\":{\"standoff\":15},\"zerolinecolor\":\"white\",\"automargin\":true,\"zerolinewidth\":2},\"yaxis\":{\"gridcolor\":\"white\",\"linecolor\":\"white\",\"ticks\":\"\",\"title\":{\"standoff\":15},\"zerolinecolor\":\"white\",\"automargin\":true,\"zerolinewidth\":2},\"scene\":{\"xaxis\":{\"backgroundcolor\":\"#E5ECF6\",\"gridcolor\":\"white\",\"linecolor\":\"white\",\"showbackground\":true,\"ticks\":\"\",\"zerolinecolor\":\"white\",\"gridwidth\":2},\"yaxis\":{\"backgroundcolor\":\"#E5ECF6\",\"gridcolor\":\"white\",\"linecolor\":\"white\",\"showbackground\":true,\"ticks\":\"\",\"zerolinecolor\":\"white\",\"gridwidth\":2},\"zaxis\":{\"backgroundcolor\":\"#E5ECF6\",\"gridcolor\":\"white\",\"linecolor\":\"white\",\"showbackground\":true,\"ticks\":\"\",\"zerolinecolor\":\"white\",\"gridwidth\":2}},\"shapedefaults\":{\"line\":{\"color\":\"#2a3f5f\"}},\"annotationdefaults\":{\"arrowcolor\":\"#2a3f5f\",\"arrowhead\":0,\"arrowwidth\":1},\"geo\":{\"bgcolor\":\"white\",\"landcolor\":\"#E5ECF6\",\"subunitcolor\":\"white\",\"showland\":true,\"showlakes\":true,\"lakecolor\":\"white\"},\"title\":{\"x\":0.05},\"mapbox\":{\"style\":\"light\"}}},\"xaxis\":{\"anchor\":\"y\",\"domain\":[0.0,0.103125],\"title\":{\"text\":\"alpha\"},\"type\":\"log\"},\"yaxis\":{\"anchor\":\"x\",\"domain\":[0.0,1.0],\"title\":{\"text\":\"Objective Value\"}},\"xaxis2\":{\"anchor\":\"y2\",\"domain\":[0.128125,0.23124999999999998],\"title\":{\"text\":\"colsample_bytree\"},\"type\":\"category\",\"categoryorder\":\"array\",\"categoryarray\":[0.1,0.2,0.3,0.4,0.5,0.6,0.7,0.8,0.9,1]},\"yaxis2\":{\"anchor\":\"x2\",\"domain\":[0.0,1.0],\"matches\":\"y\",\"showticklabels\":false},\"xaxis3\":{\"anchor\":\"y3\",\"domain\":[0.25625,0.359375],\"title\":{\"text\":\"lambda\"},\"type\":\"log\"},\"yaxis3\":{\"anchor\":\"x3\",\"domain\":[0.0,1.0],\"matches\":\"y\",\"showticklabels\":false},\"xaxis4\":{\"anchor\":\"y4\",\"domain\":[0.38437499999999997,0.48749999999999993],\"title\":{\"text\":\"learning_rate\"},\"type\":\"category\",\"categoryorder\":\"array\",\"categoryarray\":[1e-05,0.0003,0.008,0.02,0.01,1,8]},\"yaxis4\":{\"anchor\":\"x4\",\"domain\":[0.0,1.0],\"matches\":\"y\",\"showticklabels\":false},\"xaxis5\":{\"anchor\":\"y5\",\"domain\":[0.5125,0.615625],\"title\":{\"text\":\"max_depth\"},\"type\":\"category\",\"categoryorder\":\"array\",\"categoryarray\":[3,4,5,6,7,8,9,10,11,12]},\"yaxis5\":{\"anchor\":\"x5\",\"domain\":[0.0,1.0],\"matches\":\"y\",\"showticklabels\":false},\"xaxis6\":{\"anchor\":\"y6\",\"domain\":[0.640625,0.74375],\"title\":{\"text\":\"min_child_weight\"}},\"yaxis6\":{\"anchor\":\"x6\",\"domain\":[0.0,1.0],\"matches\":\"y\",\"showticklabels\":false},\"xaxis7\":{\"anchor\":\"y7\",\"domain\":[0.76875,0.8718750000000001],\"title\":{\"text\":\"random_state\"},\"type\":\"category\",\"categoryorder\":\"array\",\"categoryarray\":[10,20,30,2000,3454,243123]},\"yaxis7\":{\"anchor\":\"x7\",\"domain\":[0.0,1.0],\"matches\":\"y\",\"showticklabels\":false},\"xaxis8\":{\"anchor\":\"y8\",\"domain\":[0.8968750000000001,1.0],\"title\":{\"text\":\"subsample\"},\"type\":\"category\",\"categoryorder\":\"array\",\"categoryarray\":[0.1,0.2,0.3,0.4,0.5,0.6,0.7,0.8,0.9,1]},\"yaxis8\":{\"anchor\":\"x8\",\"domain\":[0.0,1.0],\"matches\":\"y\",\"showticklabels\":false},\"title\":{\"text\":\"Slice Plot\"},\"width\":2400},                        {\"responsive\": true}                    ).then(function(){\n",
       "                            \n",
       "var gd = document.getElementById('4052e8fa-2390-4efb-a311-31f90478f010');\n",
       "var x = new MutationObserver(function (mutations, observer) {{\n",
       "        var display = window.getComputedStyle(gd).display;\n",
       "        if (!display || display === 'none') {{\n",
       "            console.log([gd, 'removed!']);\n",
       "            Plotly.purge(gd);\n",
       "            observer.disconnect();\n",
       "        }}\n",
       "}});\n",
       "\n",
       "// Listen for the removal of the full notebook cells\n",
       "var notebookContainer = gd.closest('#notebook-container');\n",
       "if (notebookContainer) {{\n",
       "    x.observe(notebookContainer, {childList: true});\n",
       "}}\n",
       "\n",
       "// Listen for the clearing of the current output cell\n",
       "var outputEl = gd.closest('.output');\n",
       "if (outputEl) {{\n",
       "    x.observe(outputEl, {childList: true});\n",
       "}}\n",
       "\n",
       "                        })                };                });            </script>        </div>"
      ]
     },
     "metadata": {},
     "output_type": "display_data"
    }
   ],
   "source": [
    "optuna.visualization.plot_slice(find_param)"
   ]
  },
  {
   "cell_type": "code",
   "execution_count": 97,
   "id": "e0b262f0",
   "metadata": {},
   "outputs": [
    {
     "data": {
      "application/vnd.plotly.v1+json": {
       "config": {
        "plotlyServerURL": "https://plot.ly"
       },
       "data": [
        {
         "colorbar": {
          "title": {
           "text": "Objective Value"
          }
         },
         "colorscale": [
          [
           0,
           "rgb(247,251,255)"
          ],
          [
           0.125,
           "rgb(222,235,247)"
          ],
          [
           0.25,
           "rgb(198,219,239)"
          ],
          [
           0.375,
           "rgb(158,202,225)"
          ],
          [
           0.5,
           "rgb(107,174,214)"
          ],
          [
           0.625,
           "rgb(66,146,198)"
          ],
          [
           0.75,
           "rgb(33,113,181)"
          ],
          [
           0.875,
           "rgb(8,81,156)"
          ],
          [
           1,
           "rgb(8,48,107)"
          ]
         ],
         "connectgaps": true,
         "contours": {
          "coloring": "heatmap"
         },
         "hoverinfo": "none",
         "line": {
          "smoothing": 1.3
         },
         "reversescale": true,
         "type": "contour",
         "x": [
          0.00022228379074870158,
          0.0003557835576041276,
          0.0018478776323309443,
          0.008299729580501848,
          0.013155108953697052,
          0.01905389167816211,
          0.08405833479973429,
          0.09996441259458765,
          0.43318974789776127,
          1.8132972531678682,
          4.332588604983342,
          6.9346657366427085
         ],
         "y": [
          9.717879158034542e-05,
          0.00016390858057559204,
          0.00029573847224035054,
          0.00031690404481516337,
          0.001297465048142707,
          0.03230247232977201,
          0.05626022926061807,
          0.166067230776482,
          0.2495143283223459,
          2.914662029011142,
          5.691222842147497,
          9.59921648155638
         ],
         "z": [
          [
           null,
           null,
           null,
           null,
           null,
           null,
           null,
           null,
           null,
           null,
           null,
           null
          ],
          [
           null,
           null,
           null,
           null,
           null,
           null,
           null,
           null,
           null,
           0.018889269137595695,
           null,
           null
          ],
          [
           null,
           null,
           null,
           null,
           null,
           null,
           null,
           null,
           null,
           null,
           0.010473366614050954,
           null
          ],
          [
           null,
           null,
           null,
           null,
           0.018902777506705052,
           null,
           null,
           null,
           null,
           null,
           null,
           null
          ],
          [
           null,
           null,
           null,
           null,
           null,
           null,
           0.01820538422628482,
           null,
           null,
           null,
           null,
           null
          ],
          [
           null,
           null,
           0.018873999180252933,
           null,
           null,
           null,
           null,
           null,
           null,
           null,
           null,
           null
          ],
          [
           null,
           0.01861991588919582,
           null,
           null,
           null,
           null,
           null,
           null,
           null,
           null,
           null,
           null
          ],
          [
           null,
           null,
           null,
           null,
           null,
           null,
           null,
           null,
           0.006877304593659195,
           null,
           null,
           null
          ],
          [
           null,
           null,
           null,
           0.018899353464401927,
           null,
           null,
           null,
           null,
           null,
           null,
           null,
           null
          ],
          [
           null,
           null,
           null,
           null,
           null,
           0.018889836682073925,
           null,
           null,
           null,
           null,
           null,
           null
          ],
          [
           null,
           null,
           null,
           null,
           null,
           null,
           null,
           0.005061777788086771,
           null,
           null,
           null,
           null
          ],
          [
           null,
           null,
           null,
           null,
           null,
           null,
           null,
           null,
           null,
           null,
           null,
           null
          ]
         ]
        },
        {
         "marker": {
          "color": "black",
          "line": {
           "color": "Grey",
           "width": 2
          }
         },
         "mode": "markers",
         "showlegend": false,
         "type": "scatter",
         "x": [
          0.08405833479973429,
          4.332588604983342,
          0.0003557835576041276,
          1.8132972531678682,
          0.008299729580501848,
          0.43318974789776127,
          0.013155108953697052,
          0.01905389167816211,
          0.0018478776323309443,
          0.09996441259458765
         ],
         "y": [
          0.001297465048142707,
          0.00029573847224035054,
          0.05626022926061807,
          0.00016390858057559204,
          0.2495143283223459,
          0.166067230776482,
          0.00031690404481516337,
          2.914662029011142,
          0.03230247232977201,
          5.691222842147497
         ]
        }
       ],
       "layout": {
        "template": {
         "data": {
          "bar": [
           {
            "error_x": {
             "color": "#2a3f5f"
            },
            "error_y": {
             "color": "#2a3f5f"
            },
            "marker": {
             "line": {
              "color": "#E5ECF6",
              "width": 0.5
             },
             "pattern": {
              "fillmode": "overlay",
              "size": 10,
              "solidity": 0.2
             }
            },
            "type": "bar"
           }
          ],
          "barpolar": [
           {
            "marker": {
             "line": {
              "color": "#E5ECF6",
              "width": 0.5
             },
             "pattern": {
              "fillmode": "overlay",
              "size": 10,
              "solidity": 0.2
             }
            },
            "type": "barpolar"
           }
          ],
          "carpet": [
           {
            "aaxis": {
             "endlinecolor": "#2a3f5f",
             "gridcolor": "white",
             "linecolor": "white",
             "minorgridcolor": "white",
             "startlinecolor": "#2a3f5f"
            },
            "baxis": {
             "endlinecolor": "#2a3f5f",
             "gridcolor": "white",
             "linecolor": "white",
             "minorgridcolor": "white",
             "startlinecolor": "#2a3f5f"
            },
            "type": "carpet"
           }
          ],
          "choropleth": [
           {
            "colorbar": {
             "outlinewidth": 0,
             "ticks": ""
            },
            "type": "choropleth"
           }
          ],
          "contour": [
           {
            "colorbar": {
             "outlinewidth": 0,
             "ticks": ""
            },
            "colorscale": [
             [
              0,
              "#0d0887"
             ],
             [
              0.1111111111111111,
              "#46039f"
             ],
             [
              0.2222222222222222,
              "#7201a8"
             ],
             [
              0.3333333333333333,
              "#9c179e"
             ],
             [
              0.4444444444444444,
              "#bd3786"
             ],
             [
              0.5555555555555556,
              "#d8576b"
             ],
             [
              0.6666666666666666,
              "#ed7953"
             ],
             [
              0.7777777777777778,
              "#fb9f3a"
             ],
             [
              0.8888888888888888,
              "#fdca26"
             ],
             [
              1,
              "#f0f921"
             ]
            ],
            "type": "contour"
           }
          ],
          "contourcarpet": [
           {
            "colorbar": {
             "outlinewidth": 0,
             "ticks": ""
            },
            "type": "contourcarpet"
           }
          ],
          "heatmap": [
           {
            "colorbar": {
             "outlinewidth": 0,
             "ticks": ""
            },
            "colorscale": [
             [
              0,
              "#0d0887"
             ],
             [
              0.1111111111111111,
              "#46039f"
             ],
             [
              0.2222222222222222,
              "#7201a8"
             ],
             [
              0.3333333333333333,
              "#9c179e"
             ],
             [
              0.4444444444444444,
              "#bd3786"
             ],
             [
              0.5555555555555556,
              "#d8576b"
             ],
             [
              0.6666666666666666,
              "#ed7953"
             ],
             [
              0.7777777777777778,
              "#fb9f3a"
             ],
             [
              0.8888888888888888,
              "#fdca26"
             ],
             [
              1,
              "#f0f921"
             ]
            ],
            "type": "heatmap"
           }
          ],
          "heatmapgl": [
           {
            "colorbar": {
             "outlinewidth": 0,
             "ticks": ""
            },
            "colorscale": [
             [
              0,
              "#0d0887"
             ],
             [
              0.1111111111111111,
              "#46039f"
             ],
             [
              0.2222222222222222,
              "#7201a8"
             ],
             [
              0.3333333333333333,
              "#9c179e"
             ],
             [
              0.4444444444444444,
              "#bd3786"
             ],
             [
              0.5555555555555556,
              "#d8576b"
             ],
             [
              0.6666666666666666,
              "#ed7953"
             ],
             [
              0.7777777777777778,
              "#fb9f3a"
             ],
             [
              0.8888888888888888,
              "#fdca26"
             ],
             [
              1,
              "#f0f921"
             ]
            ],
            "type": "heatmapgl"
           }
          ],
          "histogram": [
           {
            "marker": {
             "pattern": {
              "fillmode": "overlay",
              "size": 10,
              "solidity": 0.2
             }
            },
            "type": "histogram"
           }
          ],
          "histogram2d": [
           {
            "colorbar": {
             "outlinewidth": 0,
             "ticks": ""
            },
            "colorscale": [
             [
              0,
              "#0d0887"
             ],
             [
              0.1111111111111111,
              "#46039f"
             ],
             [
              0.2222222222222222,
              "#7201a8"
             ],
             [
              0.3333333333333333,
              "#9c179e"
             ],
             [
              0.4444444444444444,
              "#bd3786"
             ],
             [
              0.5555555555555556,
              "#d8576b"
             ],
             [
              0.6666666666666666,
              "#ed7953"
             ],
             [
              0.7777777777777778,
              "#fb9f3a"
             ],
             [
              0.8888888888888888,
              "#fdca26"
             ],
             [
              1,
              "#f0f921"
             ]
            ],
            "type": "histogram2d"
           }
          ],
          "histogram2dcontour": [
           {
            "colorbar": {
             "outlinewidth": 0,
             "ticks": ""
            },
            "colorscale": [
             [
              0,
              "#0d0887"
             ],
             [
              0.1111111111111111,
              "#46039f"
             ],
             [
              0.2222222222222222,
              "#7201a8"
             ],
             [
              0.3333333333333333,
              "#9c179e"
             ],
             [
              0.4444444444444444,
              "#bd3786"
             ],
             [
              0.5555555555555556,
              "#d8576b"
             ],
             [
              0.6666666666666666,
              "#ed7953"
             ],
             [
              0.7777777777777778,
              "#fb9f3a"
             ],
             [
              0.8888888888888888,
              "#fdca26"
             ],
             [
              1,
              "#f0f921"
             ]
            ],
            "type": "histogram2dcontour"
           }
          ],
          "mesh3d": [
           {
            "colorbar": {
             "outlinewidth": 0,
             "ticks": ""
            },
            "type": "mesh3d"
           }
          ],
          "parcoords": [
           {
            "line": {
             "colorbar": {
              "outlinewidth": 0,
              "ticks": ""
             }
            },
            "type": "parcoords"
           }
          ],
          "pie": [
           {
            "automargin": true,
            "type": "pie"
           }
          ],
          "scatter": [
           {
            "fillpattern": {
             "fillmode": "overlay",
             "size": 10,
             "solidity": 0.2
            },
            "type": "scatter"
           }
          ],
          "scatter3d": [
           {
            "line": {
             "colorbar": {
              "outlinewidth": 0,
              "ticks": ""
             }
            },
            "marker": {
             "colorbar": {
              "outlinewidth": 0,
              "ticks": ""
             }
            },
            "type": "scatter3d"
           }
          ],
          "scattercarpet": [
           {
            "marker": {
             "colorbar": {
              "outlinewidth": 0,
              "ticks": ""
             }
            },
            "type": "scattercarpet"
           }
          ],
          "scattergeo": [
           {
            "marker": {
             "colorbar": {
              "outlinewidth": 0,
              "ticks": ""
             }
            },
            "type": "scattergeo"
           }
          ],
          "scattergl": [
           {
            "marker": {
             "colorbar": {
              "outlinewidth": 0,
              "ticks": ""
             }
            },
            "type": "scattergl"
           }
          ],
          "scattermapbox": [
           {
            "marker": {
             "colorbar": {
              "outlinewidth": 0,
              "ticks": ""
             }
            },
            "type": "scattermapbox"
           }
          ],
          "scatterpolar": [
           {
            "marker": {
             "colorbar": {
              "outlinewidth": 0,
              "ticks": ""
             }
            },
            "type": "scatterpolar"
           }
          ],
          "scatterpolargl": [
           {
            "marker": {
             "colorbar": {
              "outlinewidth": 0,
              "ticks": ""
             }
            },
            "type": "scatterpolargl"
           }
          ],
          "scatterternary": [
           {
            "marker": {
             "colorbar": {
              "outlinewidth": 0,
              "ticks": ""
             }
            },
            "type": "scatterternary"
           }
          ],
          "surface": [
           {
            "colorbar": {
             "outlinewidth": 0,
             "ticks": ""
            },
            "colorscale": [
             [
              0,
              "#0d0887"
             ],
             [
              0.1111111111111111,
              "#46039f"
             ],
             [
              0.2222222222222222,
              "#7201a8"
             ],
             [
              0.3333333333333333,
              "#9c179e"
             ],
             [
              0.4444444444444444,
              "#bd3786"
             ],
             [
              0.5555555555555556,
              "#d8576b"
             ],
             [
              0.6666666666666666,
              "#ed7953"
             ],
             [
              0.7777777777777778,
              "#fb9f3a"
             ],
             [
              0.8888888888888888,
              "#fdca26"
             ],
             [
              1,
              "#f0f921"
             ]
            ],
            "type": "surface"
           }
          ],
          "table": [
           {
            "cells": {
             "fill": {
              "color": "#EBF0F8"
             },
             "line": {
              "color": "white"
             }
            },
            "header": {
             "fill": {
              "color": "#C8D4E3"
             },
             "line": {
              "color": "white"
             }
            },
            "type": "table"
           }
          ]
         },
         "layout": {
          "annotationdefaults": {
           "arrowcolor": "#2a3f5f",
           "arrowhead": 0,
           "arrowwidth": 1
          },
          "autotypenumbers": "strict",
          "coloraxis": {
           "colorbar": {
            "outlinewidth": 0,
            "ticks": ""
           }
          },
          "colorscale": {
           "diverging": [
            [
             0,
             "#8e0152"
            ],
            [
             0.1,
             "#c51b7d"
            ],
            [
             0.2,
             "#de77ae"
            ],
            [
             0.3,
             "#f1b6da"
            ],
            [
             0.4,
             "#fde0ef"
            ],
            [
             0.5,
             "#f7f7f7"
            ],
            [
             0.6,
             "#e6f5d0"
            ],
            [
             0.7,
             "#b8e186"
            ],
            [
             0.8,
             "#7fbc41"
            ],
            [
             0.9,
             "#4d9221"
            ],
            [
             1,
             "#276419"
            ]
           ],
           "sequential": [
            [
             0,
             "#0d0887"
            ],
            [
             0.1111111111111111,
             "#46039f"
            ],
            [
             0.2222222222222222,
             "#7201a8"
            ],
            [
             0.3333333333333333,
             "#9c179e"
            ],
            [
             0.4444444444444444,
             "#bd3786"
            ],
            [
             0.5555555555555556,
             "#d8576b"
            ],
            [
             0.6666666666666666,
             "#ed7953"
            ],
            [
             0.7777777777777778,
             "#fb9f3a"
            ],
            [
             0.8888888888888888,
             "#fdca26"
            ],
            [
             1,
             "#f0f921"
            ]
           ],
           "sequentialminus": [
            [
             0,
             "#0d0887"
            ],
            [
             0.1111111111111111,
             "#46039f"
            ],
            [
             0.2222222222222222,
             "#7201a8"
            ],
            [
             0.3333333333333333,
             "#9c179e"
            ],
            [
             0.4444444444444444,
             "#bd3786"
            ],
            [
             0.5555555555555556,
             "#d8576b"
            ],
            [
             0.6666666666666666,
             "#ed7953"
            ],
            [
             0.7777777777777778,
             "#fb9f3a"
            ],
            [
             0.8888888888888888,
             "#fdca26"
            ],
            [
             1,
             "#f0f921"
            ]
           ]
          },
          "colorway": [
           "#636efa",
           "#EF553B",
           "#00cc96",
           "#ab63fa",
           "#FFA15A",
           "#19d3f3",
           "#FF6692",
           "#B6E880",
           "#FF97FF",
           "#FECB52"
          ],
          "font": {
           "color": "#2a3f5f"
          },
          "geo": {
           "bgcolor": "white",
           "lakecolor": "white",
           "landcolor": "#E5ECF6",
           "showlakes": true,
           "showland": true,
           "subunitcolor": "white"
          },
          "hoverlabel": {
           "align": "left"
          },
          "hovermode": "closest",
          "mapbox": {
           "style": "light"
          },
          "paper_bgcolor": "white",
          "plot_bgcolor": "#E5ECF6",
          "polar": {
           "angularaxis": {
            "gridcolor": "white",
            "linecolor": "white",
            "ticks": ""
           },
           "bgcolor": "#E5ECF6",
           "radialaxis": {
            "gridcolor": "white",
            "linecolor": "white",
            "ticks": ""
           }
          },
          "scene": {
           "xaxis": {
            "backgroundcolor": "#E5ECF6",
            "gridcolor": "white",
            "gridwidth": 2,
            "linecolor": "white",
            "showbackground": true,
            "ticks": "",
            "zerolinecolor": "white"
           },
           "yaxis": {
            "backgroundcolor": "#E5ECF6",
            "gridcolor": "white",
            "gridwidth": 2,
            "linecolor": "white",
            "showbackground": true,
            "ticks": "",
            "zerolinecolor": "white"
           },
           "zaxis": {
            "backgroundcolor": "#E5ECF6",
            "gridcolor": "white",
            "gridwidth": 2,
            "linecolor": "white",
            "showbackground": true,
            "ticks": "",
            "zerolinecolor": "white"
           }
          },
          "shapedefaults": {
           "line": {
            "color": "#2a3f5f"
           }
          },
          "ternary": {
           "aaxis": {
            "gridcolor": "white",
            "linecolor": "white",
            "ticks": ""
           },
           "baxis": {
            "gridcolor": "white",
            "linecolor": "white",
            "ticks": ""
           },
           "bgcolor": "#E5ECF6",
           "caxis": {
            "gridcolor": "white",
            "linecolor": "white",
            "ticks": ""
           }
          },
          "title": {
           "x": 0.05
          },
          "xaxis": {
           "automargin": true,
           "gridcolor": "white",
           "linecolor": "white",
           "ticks": "",
           "title": {
            "standoff": 15
           },
           "zerolinecolor": "white",
           "zerolinewidth": 2
          },
          "yaxis": {
           "automargin": true,
           "gridcolor": "white",
           "linecolor": "white",
           "ticks": "",
           "title": {
            "standoff": 15
           },
           "zerolinecolor": "white",
           "zerolinewidth": 2
          }
         }
        },
        "title": {
         "text": "Contour Plot"
        },
        "xaxis": {
         "range": [
          -3.6530922055198887,
          0.841025532138905
         ],
         "title": {
          "text": "alpha"
         },
         "type": "log"
        },
        "yaxis": {
         "range": [
          -4.012428505697491,
          0.9822357859954612
         ],
         "title": {
          "text": "lambda"
         },
         "type": "log"
        }
       }
      },
      "text/html": [
       "<div>                            <div id=\"21cc52b5-e229-4feb-bd1f-4482a8131b1b\" class=\"plotly-graph-div\" style=\"height:525px; width:100%;\"></div>            <script type=\"text/javascript\">                require([\"plotly\"], function(Plotly) {                    window.PLOTLYENV=window.PLOTLYENV || {};                                    if (document.getElementById(\"21cc52b5-e229-4feb-bd1f-4482a8131b1b\")) {                    Plotly.newPlot(                        \"21cc52b5-e229-4feb-bd1f-4482a8131b1b\",                        [{\"colorbar\":{\"title\":{\"text\":\"Objective Value\"}},\"colorscale\":[[0.0,\"rgb(247,251,255)\"],[0.125,\"rgb(222,235,247)\"],[0.25,\"rgb(198,219,239)\"],[0.375,\"rgb(158,202,225)\"],[0.5,\"rgb(107,174,214)\"],[0.625,\"rgb(66,146,198)\"],[0.75,\"rgb(33,113,181)\"],[0.875,\"rgb(8,81,156)\"],[1.0,\"rgb(8,48,107)\"]],\"connectgaps\":true,\"contours\":{\"coloring\":\"heatmap\"},\"hoverinfo\":\"none\",\"line\":{\"smoothing\":1.3},\"reversescale\":true,\"x\":[0.00022228379074870158,0.0003557835576041276,0.0018478776323309443,0.008299729580501848,0.013155108953697052,0.01905389167816211,0.08405833479973429,0.09996441259458765,0.43318974789776127,1.8132972531678682,4.332588604983342,6.9346657366427085],\"y\":[9.717879158034542e-05,0.00016390858057559204,0.00029573847224035054,0.00031690404481516337,0.001297465048142707,0.03230247232977201,0.05626022926061807,0.166067230776482,0.2495143283223459,2.914662029011142,5.691222842147497,9.59921648155638],\"z\":[[null,null,null,null,null,null,null,null,null,null,null,null],[null,null,null,null,null,null,null,null,null,0.018889269137595695,null,null],[null,null,null,null,null,null,null,null,null,null,0.010473366614050954,null],[null,null,null,null,0.018902777506705052,null,null,null,null,null,null,null],[null,null,null,null,null,null,0.01820538422628482,null,null,null,null,null],[null,null,0.018873999180252933,null,null,null,null,null,null,null,null,null],[null,0.01861991588919582,null,null,null,null,null,null,null,null,null,null],[null,null,null,null,null,null,null,null,0.006877304593659195,null,null,null],[null,null,null,0.018899353464401927,null,null,null,null,null,null,null,null],[null,null,null,null,null,0.018889836682073925,null,null,null,null,null,null],[null,null,null,null,null,null,null,0.005061777788086771,null,null,null,null],[null,null,null,null,null,null,null,null,null,null,null,null]],\"type\":\"contour\"},{\"marker\":{\"color\":\"black\",\"line\":{\"color\":\"Grey\",\"width\":2.0}},\"mode\":\"markers\",\"showlegend\":false,\"x\":[0.08405833479973429,4.332588604983342,0.0003557835576041276,1.8132972531678682,0.008299729580501848,0.43318974789776127,0.013155108953697052,0.01905389167816211,0.0018478776323309443,0.09996441259458765],\"y\":[0.001297465048142707,0.00029573847224035054,0.05626022926061807,0.00016390858057559204,0.2495143283223459,0.166067230776482,0.00031690404481516337,2.914662029011142,0.03230247232977201,5.691222842147497],\"type\":\"scatter\"}],                        {\"title\":{\"text\":\"Contour Plot\"},\"template\":{\"data\":{\"histogram2dcontour\":[{\"type\":\"histogram2dcontour\",\"colorbar\":{\"outlinewidth\":0,\"ticks\":\"\"},\"colorscale\":[[0.0,\"#0d0887\"],[0.1111111111111111,\"#46039f\"],[0.2222222222222222,\"#7201a8\"],[0.3333333333333333,\"#9c179e\"],[0.4444444444444444,\"#bd3786\"],[0.5555555555555556,\"#d8576b\"],[0.6666666666666666,\"#ed7953\"],[0.7777777777777778,\"#fb9f3a\"],[0.8888888888888888,\"#fdca26\"],[1.0,\"#f0f921\"]]}],\"choropleth\":[{\"type\":\"choropleth\",\"colorbar\":{\"outlinewidth\":0,\"ticks\":\"\"}}],\"histogram2d\":[{\"type\":\"histogram2d\",\"colorbar\":{\"outlinewidth\":0,\"ticks\":\"\"},\"colorscale\":[[0.0,\"#0d0887\"],[0.1111111111111111,\"#46039f\"],[0.2222222222222222,\"#7201a8\"],[0.3333333333333333,\"#9c179e\"],[0.4444444444444444,\"#bd3786\"],[0.5555555555555556,\"#d8576b\"],[0.6666666666666666,\"#ed7953\"],[0.7777777777777778,\"#fb9f3a\"],[0.8888888888888888,\"#fdca26\"],[1.0,\"#f0f921\"]]}],\"heatmap\":[{\"type\":\"heatmap\",\"colorbar\":{\"outlinewidth\":0,\"ticks\":\"\"},\"colorscale\":[[0.0,\"#0d0887\"],[0.1111111111111111,\"#46039f\"],[0.2222222222222222,\"#7201a8\"],[0.3333333333333333,\"#9c179e\"],[0.4444444444444444,\"#bd3786\"],[0.5555555555555556,\"#d8576b\"],[0.6666666666666666,\"#ed7953\"],[0.7777777777777778,\"#fb9f3a\"],[0.8888888888888888,\"#fdca26\"],[1.0,\"#f0f921\"]]}],\"heatmapgl\":[{\"type\":\"heatmapgl\",\"colorbar\":{\"outlinewidth\":0,\"ticks\":\"\"},\"colorscale\":[[0.0,\"#0d0887\"],[0.1111111111111111,\"#46039f\"],[0.2222222222222222,\"#7201a8\"],[0.3333333333333333,\"#9c179e\"],[0.4444444444444444,\"#bd3786\"],[0.5555555555555556,\"#d8576b\"],[0.6666666666666666,\"#ed7953\"],[0.7777777777777778,\"#fb9f3a\"],[0.8888888888888888,\"#fdca26\"],[1.0,\"#f0f921\"]]}],\"contourcarpet\":[{\"type\":\"contourcarpet\",\"colorbar\":{\"outlinewidth\":0,\"ticks\":\"\"}}],\"contour\":[{\"type\":\"contour\",\"colorbar\":{\"outlinewidth\":0,\"ticks\":\"\"},\"colorscale\":[[0.0,\"#0d0887\"],[0.1111111111111111,\"#46039f\"],[0.2222222222222222,\"#7201a8\"],[0.3333333333333333,\"#9c179e\"],[0.4444444444444444,\"#bd3786\"],[0.5555555555555556,\"#d8576b\"],[0.6666666666666666,\"#ed7953\"],[0.7777777777777778,\"#fb9f3a\"],[0.8888888888888888,\"#fdca26\"],[1.0,\"#f0f921\"]]}],\"surface\":[{\"type\":\"surface\",\"colorbar\":{\"outlinewidth\":0,\"ticks\":\"\"},\"colorscale\":[[0.0,\"#0d0887\"],[0.1111111111111111,\"#46039f\"],[0.2222222222222222,\"#7201a8\"],[0.3333333333333333,\"#9c179e\"],[0.4444444444444444,\"#bd3786\"],[0.5555555555555556,\"#d8576b\"],[0.6666666666666666,\"#ed7953\"],[0.7777777777777778,\"#fb9f3a\"],[0.8888888888888888,\"#fdca26\"],[1.0,\"#f0f921\"]]}],\"mesh3d\":[{\"type\":\"mesh3d\",\"colorbar\":{\"outlinewidth\":0,\"ticks\":\"\"}}],\"scatter\":[{\"fillpattern\":{\"fillmode\":\"overlay\",\"size\":10,\"solidity\":0.2},\"type\":\"scatter\"}],\"parcoords\":[{\"type\":\"parcoords\",\"line\":{\"colorbar\":{\"outlinewidth\":0,\"ticks\":\"\"}}}],\"scatterpolargl\":[{\"type\":\"scatterpolargl\",\"marker\":{\"colorbar\":{\"outlinewidth\":0,\"ticks\":\"\"}}}],\"bar\":[{\"error_x\":{\"color\":\"#2a3f5f\"},\"error_y\":{\"color\":\"#2a3f5f\"},\"marker\":{\"line\":{\"color\":\"#E5ECF6\",\"width\":0.5},\"pattern\":{\"fillmode\":\"overlay\",\"size\":10,\"solidity\":0.2}},\"type\":\"bar\"}],\"scattergeo\":[{\"type\":\"scattergeo\",\"marker\":{\"colorbar\":{\"outlinewidth\":0,\"ticks\":\"\"}}}],\"scatterpolar\":[{\"type\":\"scatterpolar\",\"marker\":{\"colorbar\":{\"outlinewidth\":0,\"ticks\":\"\"}}}],\"histogram\":[{\"marker\":{\"pattern\":{\"fillmode\":\"overlay\",\"size\":10,\"solidity\":0.2}},\"type\":\"histogram\"}],\"scattergl\":[{\"type\":\"scattergl\",\"marker\":{\"colorbar\":{\"outlinewidth\":0,\"ticks\":\"\"}}}],\"scatter3d\":[{\"type\":\"scatter3d\",\"line\":{\"colorbar\":{\"outlinewidth\":0,\"ticks\":\"\"}},\"marker\":{\"colorbar\":{\"outlinewidth\":0,\"ticks\":\"\"}}}],\"scattermapbox\":[{\"type\":\"scattermapbox\",\"marker\":{\"colorbar\":{\"outlinewidth\":0,\"ticks\":\"\"}}}],\"scatterternary\":[{\"type\":\"scatterternary\",\"marker\":{\"colorbar\":{\"outlinewidth\":0,\"ticks\":\"\"}}}],\"scattercarpet\":[{\"type\":\"scattercarpet\",\"marker\":{\"colorbar\":{\"outlinewidth\":0,\"ticks\":\"\"}}}],\"carpet\":[{\"aaxis\":{\"endlinecolor\":\"#2a3f5f\",\"gridcolor\":\"white\",\"linecolor\":\"white\",\"minorgridcolor\":\"white\",\"startlinecolor\":\"#2a3f5f\"},\"baxis\":{\"endlinecolor\":\"#2a3f5f\",\"gridcolor\":\"white\",\"linecolor\":\"white\",\"minorgridcolor\":\"white\",\"startlinecolor\":\"#2a3f5f\"},\"type\":\"carpet\"}],\"table\":[{\"cells\":{\"fill\":{\"color\":\"#EBF0F8\"},\"line\":{\"color\":\"white\"}},\"header\":{\"fill\":{\"color\":\"#C8D4E3\"},\"line\":{\"color\":\"white\"}},\"type\":\"table\"}],\"barpolar\":[{\"marker\":{\"line\":{\"color\":\"#E5ECF6\",\"width\":0.5},\"pattern\":{\"fillmode\":\"overlay\",\"size\":10,\"solidity\":0.2}},\"type\":\"barpolar\"}],\"pie\":[{\"automargin\":true,\"type\":\"pie\"}]},\"layout\":{\"autotypenumbers\":\"strict\",\"colorway\":[\"#636efa\",\"#EF553B\",\"#00cc96\",\"#ab63fa\",\"#FFA15A\",\"#19d3f3\",\"#FF6692\",\"#B6E880\",\"#FF97FF\",\"#FECB52\"],\"font\":{\"color\":\"#2a3f5f\"},\"hovermode\":\"closest\",\"hoverlabel\":{\"align\":\"left\"},\"paper_bgcolor\":\"white\",\"plot_bgcolor\":\"#E5ECF6\",\"polar\":{\"bgcolor\":\"#E5ECF6\",\"angularaxis\":{\"gridcolor\":\"white\",\"linecolor\":\"white\",\"ticks\":\"\"},\"radialaxis\":{\"gridcolor\":\"white\",\"linecolor\":\"white\",\"ticks\":\"\"}},\"ternary\":{\"bgcolor\":\"#E5ECF6\",\"aaxis\":{\"gridcolor\":\"white\",\"linecolor\":\"white\",\"ticks\":\"\"},\"baxis\":{\"gridcolor\":\"white\",\"linecolor\":\"white\",\"ticks\":\"\"},\"caxis\":{\"gridcolor\":\"white\",\"linecolor\":\"white\",\"ticks\":\"\"}},\"coloraxis\":{\"colorbar\":{\"outlinewidth\":0,\"ticks\":\"\"}},\"colorscale\":{\"sequential\":[[0.0,\"#0d0887\"],[0.1111111111111111,\"#46039f\"],[0.2222222222222222,\"#7201a8\"],[0.3333333333333333,\"#9c179e\"],[0.4444444444444444,\"#bd3786\"],[0.5555555555555556,\"#d8576b\"],[0.6666666666666666,\"#ed7953\"],[0.7777777777777778,\"#fb9f3a\"],[0.8888888888888888,\"#fdca26\"],[1.0,\"#f0f921\"]],\"sequentialminus\":[[0.0,\"#0d0887\"],[0.1111111111111111,\"#46039f\"],[0.2222222222222222,\"#7201a8\"],[0.3333333333333333,\"#9c179e\"],[0.4444444444444444,\"#bd3786\"],[0.5555555555555556,\"#d8576b\"],[0.6666666666666666,\"#ed7953\"],[0.7777777777777778,\"#fb9f3a\"],[0.8888888888888888,\"#fdca26\"],[1.0,\"#f0f921\"]],\"diverging\":[[0,\"#8e0152\"],[0.1,\"#c51b7d\"],[0.2,\"#de77ae\"],[0.3,\"#f1b6da\"],[0.4,\"#fde0ef\"],[0.5,\"#f7f7f7\"],[0.6,\"#e6f5d0\"],[0.7,\"#b8e186\"],[0.8,\"#7fbc41\"],[0.9,\"#4d9221\"],[1,\"#276419\"]]},\"xaxis\":{\"gridcolor\":\"white\",\"linecolor\":\"white\",\"ticks\":\"\",\"title\":{\"standoff\":15},\"zerolinecolor\":\"white\",\"automargin\":true,\"zerolinewidth\":2},\"yaxis\":{\"gridcolor\":\"white\",\"linecolor\":\"white\",\"ticks\":\"\",\"title\":{\"standoff\":15},\"zerolinecolor\":\"white\",\"automargin\":true,\"zerolinewidth\":2},\"scene\":{\"xaxis\":{\"backgroundcolor\":\"#E5ECF6\",\"gridcolor\":\"white\",\"linecolor\":\"white\",\"showbackground\":true,\"ticks\":\"\",\"zerolinecolor\":\"white\",\"gridwidth\":2},\"yaxis\":{\"backgroundcolor\":\"#E5ECF6\",\"gridcolor\":\"white\",\"linecolor\":\"white\",\"showbackground\":true,\"ticks\":\"\",\"zerolinecolor\":\"white\",\"gridwidth\":2},\"zaxis\":{\"backgroundcolor\":\"#E5ECF6\",\"gridcolor\":\"white\",\"linecolor\":\"white\",\"showbackground\":true,\"ticks\":\"\",\"zerolinecolor\":\"white\",\"gridwidth\":2}},\"shapedefaults\":{\"line\":{\"color\":\"#2a3f5f\"}},\"annotationdefaults\":{\"arrowcolor\":\"#2a3f5f\",\"arrowhead\":0,\"arrowwidth\":1},\"geo\":{\"bgcolor\":\"white\",\"landcolor\":\"#E5ECF6\",\"subunitcolor\":\"white\",\"showland\":true,\"showlakes\":true,\"lakecolor\":\"white\"},\"title\":{\"x\":0.05},\"mapbox\":{\"style\":\"light\"}}},\"xaxis\":{\"title\":{\"text\":\"alpha\"},\"range\":[-3.6530922055198887,0.841025532138905],\"type\":\"log\"},\"yaxis\":{\"title\":{\"text\":\"lambda\"},\"range\":[-4.012428505697491,0.9822357859954612],\"type\":\"log\"}},                        {\"responsive\": true}                    ).then(function(){\n",
       "                            \n",
       "var gd = document.getElementById('21cc52b5-e229-4feb-bd1f-4482a8131b1b');\n",
       "var x = new MutationObserver(function (mutations, observer) {{\n",
       "        var display = window.getComputedStyle(gd).display;\n",
       "        if (!display || display === 'none') {{\n",
       "            console.log([gd, 'removed!']);\n",
       "            Plotly.purge(gd);\n",
       "            observer.disconnect();\n",
       "        }}\n",
       "}});\n",
       "\n",
       "// Listen for the removal of the full notebook cells\n",
       "var notebookContainer = gd.closest('#notebook-container');\n",
       "if (notebookContainer) {{\n",
       "    x.observe(notebookContainer, {childList: true});\n",
       "}}\n",
       "\n",
       "// Listen for the clearing of the current output cell\n",
       "var outputEl = gd.closest('.output');\n",
       "if (outputEl) {{\n",
       "    x.observe(outputEl, {childList: true});\n",
       "}}\n",
       "\n",
       "                        })                };                });            </script>        </div>"
      ]
     },
     "metadata": {},
     "output_type": "display_data"
    }
   ],
   "source": [
    "optuna.visualization.plot_contour(find_param , params = ['alpha' , 'lambda'])"
   ]
  },
  {
   "cell_type": "code",
   "execution_count": 101,
   "id": "889c52a8",
   "metadata": {},
   "outputs": [],
   "source": [
    "best_param= {'lambda': 5.691222842147497, \n",
    "  'alpha': 0.09996441259458765, \n",
    "  'colsample_bytree': 0.8, \n",
    "  'subsample': 0.8, \n",
    "  'learning_rate': 0.02, \n",
    "  'max_depth': 9, \n",
    "  'random_state': 10, \n",
    "  'min_child_weight': 82}"
   ]
  },
  {
   "cell_type": "code",
   "execution_count": 99,
   "id": "fa5bd64c",
   "metadata": {},
   "outputs": [
    {
     "data": {
      "text/html": [
       "<style>#sk-container-id-1 {color: black;}#sk-container-id-1 pre{padding: 0;}#sk-container-id-1 div.sk-toggleable {background-color: white;}#sk-container-id-1 label.sk-toggleable__label {cursor: pointer;display: block;width: 100%;margin-bottom: 0;padding: 0.3em;box-sizing: border-box;text-align: center;}#sk-container-id-1 label.sk-toggleable__label-arrow:before {content: \"▸\";float: left;margin-right: 0.25em;color: #696969;}#sk-container-id-1 label.sk-toggleable__label-arrow:hover:before {color: black;}#sk-container-id-1 div.sk-estimator:hover label.sk-toggleable__label-arrow:before {color: black;}#sk-container-id-1 div.sk-toggleable__content {max-height: 0;max-width: 0;overflow: hidden;text-align: left;background-color: #f0f8ff;}#sk-container-id-1 div.sk-toggleable__content pre {margin: 0.2em;color: black;border-radius: 0.25em;background-color: #f0f8ff;}#sk-container-id-1 input.sk-toggleable__control:checked~div.sk-toggleable__content {max-height: 200px;max-width: 100%;overflow: auto;}#sk-container-id-1 input.sk-toggleable__control:checked~label.sk-toggleable__label-arrow:before {content: \"▾\";}#sk-container-id-1 div.sk-estimator input.sk-toggleable__control:checked~label.sk-toggleable__label {background-color: #d4ebff;}#sk-container-id-1 div.sk-label input.sk-toggleable__control:checked~label.sk-toggleable__label {background-color: #d4ebff;}#sk-container-id-1 input.sk-hidden--visually {border: 0;clip: rect(1px 1px 1px 1px);clip: rect(1px, 1px, 1px, 1px);height: 1px;margin: -1px;overflow: hidden;padding: 0;position: absolute;width: 1px;}#sk-container-id-1 div.sk-estimator {font-family: monospace;background-color: #f0f8ff;border: 1px dotted black;border-radius: 0.25em;box-sizing: border-box;margin-bottom: 0.5em;}#sk-container-id-1 div.sk-estimator:hover {background-color: #d4ebff;}#sk-container-id-1 div.sk-parallel-item::after {content: \"\";width: 100%;border-bottom: 1px solid gray;flex-grow: 1;}#sk-container-id-1 div.sk-label:hover label.sk-toggleable__label {background-color: #d4ebff;}#sk-container-id-1 div.sk-serial::before {content: \"\";position: absolute;border-left: 1px solid gray;box-sizing: border-box;top: 0;bottom: 0;left: 50%;z-index: 0;}#sk-container-id-1 div.sk-serial {display: flex;flex-direction: column;align-items: center;background-color: white;padding-right: 0.2em;padding-left: 0.2em;position: relative;}#sk-container-id-1 div.sk-item {position: relative;z-index: 1;}#sk-container-id-1 div.sk-parallel {display: flex;align-items: stretch;justify-content: center;background-color: white;position: relative;}#sk-container-id-1 div.sk-item::before, #sk-container-id-1 div.sk-parallel-item::before {content: \"\";position: absolute;border-left: 1px solid gray;box-sizing: border-box;top: 0;bottom: 0;left: 50%;z-index: -1;}#sk-container-id-1 div.sk-parallel-item {display: flex;flex-direction: column;z-index: 1;position: relative;background-color: white;}#sk-container-id-1 div.sk-parallel-item:first-child::after {align-self: flex-end;width: 50%;}#sk-container-id-1 div.sk-parallel-item:last-child::after {align-self: flex-start;width: 50%;}#sk-container-id-1 div.sk-parallel-item:only-child::after {width: 0;}#sk-container-id-1 div.sk-dashed-wrapped {border: 1px dashed gray;margin: 0 0.4em 0.5em 0.4em;box-sizing: border-box;padding-bottom: 0.4em;background-color: white;}#sk-container-id-1 div.sk-label label {font-family: monospace;font-weight: bold;display: inline-block;line-height: 1.2em;}#sk-container-id-1 div.sk-label-container {text-align: center;}#sk-container-id-1 div.sk-container {/* jupyter's `normalize.less` sets `[hidden] { display: none; }` but bootstrap.min.css set `[hidden] { display: none !important; }` so we also need the `!important` here to be able to override the default hidden behavior on the sphinx rendered scikit-learn.org. See: https://github.com/scikit-learn/scikit-learn/issues/21755 */display: inline-block !important;position: relative;}#sk-container-id-1 div.sk-text-repr-fallback {display: none;}</style><div id=\"sk-container-id-1\" class=\"sk-top-container\"><div class=\"sk-text-repr-fallback\"><pre>XGBRegressor(base_score=None, booster=None, callbacks=None,\n",
       "             colsample_bylevel=None, colsample_bynode=None,\n",
       "             colsample_bytree=None, device=None, early_stopping_rounds=None,\n",
       "             enable_categorical=False, eval_metric=None, feature_types=None,\n",
       "             gamma=None, grow_policy=None, importance_type=None,\n",
       "             interaction_constraints=None, learning_rate=None, max_bin=None,\n",
       "             max_cat_threshold=None, max_cat_to_onehot=None,\n",
       "             max_delta_step=None, max_depth=None, max_leaves=None,\n",
       "             min_child_weight=None, missing=nan, monotone_constraints=None,\n",
       "             multi_strategy=None, n_estimators=None, n_jobs=None,\n",
       "             num_parallel_tree=None, random_state=None, ...)</pre><b>In a Jupyter environment, please rerun this cell to show the HTML representation or trust the notebook. <br />On GitHub, the HTML representation is unable to render, please try loading this page with nbviewer.org.</b></div><div class=\"sk-container\" hidden><div class=\"sk-item\"><div class=\"sk-estimator sk-toggleable\"><input class=\"sk-toggleable__control sk-hidden--visually\" id=\"sk-estimator-id-1\" type=\"checkbox\" checked><label for=\"sk-estimator-id-1\" class=\"sk-toggleable__label sk-toggleable__label-arrow\">XGBRegressor</label><div class=\"sk-toggleable__content\"><pre>XGBRegressor(base_score=None, booster=None, callbacks=None,\n",
       "             colsample_bylevel=None, colsample_bynode=None,\n",
       "             colsample_bytree=None, device=None, early_stopping_rounds=None,\n",
       "             enable_categorical=False, eval_metric=None, feature_types=None,\n",
       "             gamma=None, grow_policy=None, importance_type=None,\n",
       "             interaction_constraints=None, learning_rate=None, max_bin=None,\n",
       "             max_cat_threshold=None, max_cat_to_onehot=None,\n",
       "             max_delta_step=None, max_depth=None, max_leaves=None,\n",
       "             min_child_weight=None, missing=nan, monotone_constraints=None,\n",
       "             multi_strategy=None, n_estimators=None, n_jobs=None,\n",
       "             num_parallel_tree=None, random_state=None, ...)</pre></div></div></div></div></div>"
      ],
      "text/plain": [
       "XGBRegressor(base_score=None, booster=None, callbacks=None,\n",
       "             colsample_bylevel=None, colsample_bynode=None,\n",
       "             colsample_bytree=None, device=None, early_stopping_rounds=None,\n",
       "             enable_categorical=False, eval_metric=None, feature_types=None,\n",
       "             gamma=None, grow_policy=None, importance_type=None,\n",
       "             interaction_constraints=None, learning_rate=None, max_bin=None,\n",
       "             max_cat_threshold=None, max_cat_to_onehot=None,\n",
       "             max_delta_step=None, max_depth=None, max_leaves=None,\n",
       "             min_child_weight=None, missing=nan, monotone_constraints=None,\n",
       "             multi_strategy=None, n_estimators=None, n_jobs=None,\n",
       "             num_parallel_tree=None, random_state=None, ...)"
      ]
     },
     "execution_count": 99,
     "metadata": {},
     "output_type": "execute_result"
    }
   ],
   "source": [
    "old_xgboost=XGBRegressor()\n",
    "old_xgboost.fit(x,y)"
   ]
  },
  {
   "cell_type": "code",
   "execution_count": 108,
   "id": "6cffb00a",
   "metadata": {},
   "outputs": [
    {
     "data": {
      "text/plain": [
       "0.9925790848211412"
      ]
     },
     "execution_count": 108,
     "metadata": {},
     "output_type": "execute_result"
    }
   ],
   "source": [
    "old_xgboost.score(test_x,test_y)"
   ]
  },
  {
   "cell_type": "code",
   "execution_count": 103,
   "id": "bba7b020",
   "metadata": {},
   "outputs": [],
   "source": [
    "new_xgboost=XGBRegressor(**best_param)"
   ]
  },
  {
   "cell_type": "code",
   "execution_count": 104,
   "id": "8ec25647",
   "metadata": {},
   "outputs": [
    {
     "data": {
      "text/html": [
       "<style>#sk-container-id-2 {color: black;}#sk-container-id-2 pre{padding: 0;}#sk-container-id-2 div.sk-toggleable {background-color: white;}#sk-container-id-2 label.sk-toggleable__label {cursor: pointer;display: block;width: 100%;margin-bottom: 0;padding: 0.3em;box-sizing: border-box;text-align: center;}#sk-container-id-2 label.sk-toggleable__label-arrow:before {content: \"▸\";float: left;margin-right: 0.25em;color: #696969;}#sk-container-id-2 label.sk-toggleable__label-arrow:hover:before {color: black;}#sk-container-id-2 div.sk-estimator:hover label.sk-toggleable__label-arrow:before {color: black;}#sk-container-id-2 div.sk-toggleable__content {max-height: 0;max-width: 0;overflow: hidden;text-align: left;background-color: #f0f8ff;}#sk-container-id-2 div.sk-toggleable__content pre {margin: 0.2em;color: black;border-radius: 0.25em;background-color: #f0f8ff;}#sk-container-id-2 input.sk-toggleable__control:checked~div.sk-toggleable__content {max-height: 200px;max-width: 100%;overflow: auto;}#sk-container-id-2 input.sk-toggleable__control:checked~label.sk-toggleable__label-arrow:before {content: \"▾\";}#sk-container-id-2 div.sk-estimator input.sk-toggleable__control:checked~label.sk-toggleable__label {background-color: #d4ebff;}#sk-container-id-2 div.sk-label input.sk-toggleable__control:checked~label.sk-toggleable__label {background-color: #d4ebff;}#sk-container-id-2 input.sk-hidden--visually {border: 0;clip: rect(1px 1px 1px 1px);clip: rect(1px, 1px, 1px, 1px);height: 1px;margin: -1px;overflow: hidden;padding: 0;position: absolute;width: 1px;}#sk-container-id-2 div.sk-estimator {font-family: monospace;background-color: #f0f8ff;border: 1px dotted black;border-radius: 0.25em;box-sizing: border-box;margin-bottom: 0.5em;}#sk-container-id-2 div.sk-estimator:hover {background-color: #d4ebff;}#sk-container-id-2 div.sk-parallel-item::after {content: \"\";width: 100%;border-bottom: 1px solid gray;flex-grow: 1;}#sk-container-id-2 div.sk-label:hover label.sk-toggleable__label {background-color: #d4ebff;}#sk-container-id-2 div.sk-serial::before {content: \"\";position: absolute;border-left: 1px solid gray;box-sizing: border-box;top: 0;bottom: 0;left: 50%;z-index: 0;}#sk-container-id-2 div.sk-serial {display: flex;flex-direction: column;align-items: center;background-color: white;padding-right: 0.2em;padding-left: 0.2em;position: relative;}#sk-container-id-2 div.sk-item {position: relative;z-index: 1;}#sk-container-id-2 div.sk-parallel {display: flex;align-items: stretch;justify-content: center;background-color: white;position: relative;}#sk-container-id-2 div.sk-item::before, #sk-container-id-2 div.sk-parallel-item::before {content: \"\";position: absolute;border-left: 1px solid gray;box-sizing: border-box;top: 0;bottom: 0;left: 50%;z-index: -1;}#sk-container-id-2 div.sk-parallel-item {display: flex;flex-direction: column;z-index: 1;position: relative;background-color: white;}#sk-container-id-2 div.sk-parallel-item:first-child::after {align-self: flex-end;width: 50%;}#sk-container-id-2 div.sk-parallel-item:last-child::after {align-self: flex-start;width: 50%;}#sk-container-id-2 div.sk-parallel-item:only-child::after {width: 0;}#sk-container-id-2 div.sk-dashed-wrapped {border: 1px dashed gray;margin: 0 0.4em 0.5em 0.4em;box-sizing: border-box;padding-bottom: 0.4em;background-color: white;}#sk-container-id-2 div.sk-label label {font-family: monospace;font-weight: bold;display: inline-block;line-height: 1.2em;}#sk-container-id-2 div.sk-label-container {text-align: center;}#sk-container-id-2 div.sk-container {/* jupyter's `normalize.less` sets `[hidden] { display: none; }` but bootstrap.min.css set `[hidden] { display: none !important; }` so we also need the `!important` here to be able to override the default hidden behavior on the sphinx rendered scikit-learn.org. See: https://github.com/scikit-learn/scikit-learn/issues/21755 */display: inline-block !important;position: relative;}#sk-container-id-2 div.sk-text-repr-fallback {display: none;}</style><div id=\"sk-container-id-2\" class=\"sk-top-container\"><div class=\"sk-text-repr-fallback\"><pre>XGBRegressor(alpha=0.09996441259458765, base_score=None, booster=None,\n",
       "             callbacks=None, colsample_bylevel=None, colsample_bynode=None,\n",
       "             colsample_bytree=0.8, device=None, early_stopping_rounds=None,\n",
       "             enable_categorical=False, eval_metric=None, feature_types=None,\n",
       "             gamma=None, grow_policy=None, importance_type=None,\n",
       "             interaction_constraints=None, lambda=5.691222842147497,\n",
       "             learning_rate=0.02, max_bin=None, max_cat_threshold=None,\n",
       "             max_cat_to_onehot=None, max_delta_step=None, max_depth=9,\n",
       "             max_leaves=None, min_child_weight=82, missing=nan,\n",
       "             monotone_constraints=None, multi_strategy=None, n_estimators=None,\n",
       "             n_jobs=None, ...)</pre><b>In a Jupyter environment, please rerun this cell to show the HTML representation or trust the notebook. <br />On GitHub, the HTML representation is unable to render, please try loading this page with nbviewer.org.</b></div><div class=\"sk-container\" hidden><div class=\"sk-item\"><div class=\"sk-estimator sk-toggleable\"><input class=\"sk-toggleable__control sk-hidden--visually\" id=\"sk-estimator-id-2\" type=\"checkbox\" checked><label for=\"sk-estimator-id-2\" class=\"sk-toggleable__label sk-toggleable__label-arrow\">XGBRegressor</label><div class=\"sk-toggleable__content\"><pre>XGBRegressor(alpha=0.09996441259458765, base_score=None, booster=None,\n",
       "             callbacks=None, colsample_bylevel=None, colsample_bynode=None,\n",
       "             colsample_bytree=0.8, device=None, early_stopping_rounds=None,\n",
       "             enable_categorical=False, eval_metric=None, feature_types=None,\n",
       "             gamma=None, grow_policy=None, importance_type=None,\n",
       "             interaction_constraints=None, lambda=5.691222842147497,\n",
       "             learning_rate=0.02, max_bin=None, max_cat_threshold=None,\n",
       "             max_cat_to_onehot=None, max_delta_step=None, max_depth=9,\n",
       "             max_leaves=None, min_child_weight=82, missing=nan,\n",
       "             monotone_constraints=None, multi_strategy=None, n_estimators=None,\n",
       "             n_jobs=None, ...)</pre></div></div></div></div></div>"
      ],
      "text/plain": [
       "XGBRegressor(alpha=0.09996441259458765, base_score=None, booster=None,\n",
       "             callbacks=None, colsample_bylevel=None, colsample_bynode=None,\n",
       "             colsample_bytree=0.8, device=None, early_stopping_rounds=None,\n",
       "             enable_categorical=False, eval_metric=None, feature_types=None,\n",
       "             gamma=None, grow_policy=None, importance_type=None,\n",
       "             interaction_constraints=None, lambda=5.691222842147497,\n",
       "             learning_rate=0.02, max_bin=None, max_cat_threshold=None,\n",
       "             max_cat_to_onehot=None, max_delta_step=None, max_depth=9,\n",
       "             max_leaves=None, min_child_weight=82, missing=nan,\n",
       "             monotone_constraints=None, multi_strategy=None, n_estimators=None,\n",
       "             n_jobs=None, ...)"
      ]
     },
     "execution_count": 104,
     "metadata": {},
     "output_type": "execute_result"
    }
   ],
   "source": [
    "new_xgboost.fit(x,y)"
   ]
  },
  {
   "cell_type": "code",
   "execution_count": 111,
   "id": "d68ecc19",
   "metadata": {},
   "outputs": [
    {
     "data": {
      "text/plain": [
       "0.7472676598257267"
      ]
     },
     "execution_count": 111,
     "metadata": {},
     "output_type": "execute_result"
    }
   ],
   "source": [
    "new_xgboost.score(test_x,test_y)"
   ]
  },
  {
   "cell_type": "code",
   "execution_count": 2,
   "id": "21916896",
   "metadata": {},
   "outputs": [],
   "source": [
    "import pandas as pd"
   ]
  },
  {
   "cell_type": "code",
   "execution_count": 3,
   "id": "69099e2a",
   "metadata": {},
   "outputs": [],
   "source": [
    "# classification model"
   ]
  },
  {
   "cell_type": "code",
   "execution_count": 16,
   "id": "affe4a0a",
   "metadata": {},
   "outputs": [],
   "source": [
    "df=pd.read_csv(r'D:\\360DIGITMG\\Machine Learning\\DataSet\\winequality-red.csv')"
   ]
  },
  {
   "cell_type": "code",
   "execution_count": 33,
   "id": "62a6b9a9",
   "metadata": {},
   "outputs": [
    {
     "data": {
      "text/html": [
       "<div>\n",
       "<style scoped>\n",
       "    .dataframe tbody tr th:only-of-type {\n",
       "        vertical-align: middle;\n",
       "    }\n",
       "\n",
       "    .dataframe tbody tr th {\n",
       "        vertical-align: top;\n",
       "    }\n",
       "\n",
       "    .dataframe thead th {\n",
       "        text-align: right;\n",
       "    }\n",
       "</style>\n",
       "<table border=\"1\" class=\"dataframe\">\n",
       "  <thead>\n",
       "    <tr style=\"text-align: right;\">\n",
       "      <th></th>\n",
       "      <th>fixed acidity</th>\n",
       "      <th>volatile acidity</th>\n",
       "      <th>citric acid</th>\n",
       "      <th>residual sugar</th>\n",
       "      <th>chlorides</th>\n",
       "      <th>free sulfur dioxide</th>\n",
       "      <th>total sulfur dioxide</th>\n",
       "      <th>density</th>\n",
       "      <th>pH</th>\n",
       "      <th>sulphates</th>\n",
       "      <th>alcohol</th>\n",
       "      <th>quality</th>\n",
       "    </tr>\n",
       "  </thead>\n",
       "  <tbody>\n",
       "    <tr>\n",
       "      <th>0</th>\n",
       "      <td>7.4</td>\n",
       "      <td>0.70</td>\n",
       "      <td>0.00</td>\n",
       "      <td>1.9</td>\n",
       "      <td>0.076</td>\n",
       "      <td>11.0</td>\n",
       "      <td>34.0</td>\n",
       "      <td>0.9978</td>\n",
       "      <td>3.51</td>\n",
       "      <td>0.56</td>\n",
       "      <td>9.4</td>\n",
       "      <td>5</td>\n",
       "    </tr>\n",
       "    <tr>\n",
       "      <th>1</th>\n",
       "      <td>7.8</td>\n",
       "      <td>0.88</td>\n",
       "      <td>0.00</td>\n",
       "      <td>2.6</td>\n",
       "      <td>0.098</td>\n",
       "      <td>25.0</td>\n",
       "      <td>67.0</td>\n",
       "      <td>0.9968</td>\n",
       "      <td>3.20</td>\n",
       "      <td>0.68</td>\n",
       "      <td>9.8</td>\n",
       "      <td>5</td>\n",
       "    </tr>\n",
       "    <tr>\n",
       "      <th>2</th>\n",
       "      <td>7.8</td>\n",
       "      <td>0.76</td>\n",
       "      <td>0.04</td>\n",
       "      <td>2.3</td>\n",
       "      <td>0.092</td>\n",
       "      <td>15.0</td>\n",
       "      <td>54.0</td>\n",
       "      <td>0.9970</td>\n",
       "      <td>3.26</td>\n",
       "      <td>0.65</td>\n",
       "      <td>9.8</td>\n",
       "      <td>5</td>\n",
       "    </tr>\n",
       "    <tr>\n",
       "      <th>3</th>\n",
       "      <td>11.2</td>\n",
       "      <td>0.28</td>\n",
       "      <td>0.56</td>\n",
       "      <td>1.9</td>\n",
       "      <td>0.075</td>\n",
       "      <td>17.0</td>\n",
       "      <td>60.0</td>\n",
       "      <td>0.9980</td>\n",
       "      <td>3.16</td>\n",
       "      <td>0.58</td>\n",
       "      <td>9.8</td>\n",
       "      <td>6</td>\n",
       "    </tr>\n",
       "    <tr>\n",
       "      <th>4</th>\n",
       "      <td>7.4</td>\n",
       "      <td>0.70</td>\n",
       "      <td>0.00</td>\n",
       "      <td>1.9</td>\n",
       "      <td>0.076</td>\n",
       "      <td>11.0</td>\n",
       "      <td>34.0</td>\n",
       "      <td>0.9978</td>\n",
       "      <td>3.51</td>\n",
       "      <td>0.56</td>\n",
       "      <td>9.4</td>\n",
       "      <td>5</td>\n",
       "    </tr>\n",
       "  </tbody>\n",
       "</table>\n",
       "</div>"
      ],
      "text/plain": [
       "   fixed acidity  volatile acidity  citric acid  residual sugar  chlorides  \\\n",
       "0            7.4              0.70         0.00             1.9      0.076   \n",
       "1            7.8              0.88         0.00             2.6      0.098   \n",
       "2            7.8              0.76         0.04             2.3      0.092   \n",
       "3           11.2              0.28         0.56             1.9      0.075   \n",
       "4            7.4              0.70         0.00             1.9      0.076   \n",
       "\n",
       "   free sulfur dioxide  total sulfur dioxide  density    pH  sulphates  \\\n",
       "0                 11.0                  34.0   0.9978  3.51       0.56   \n",
       "1                 25.0                  67.0   0.9968  3.20       0.68   \n",
       "2                 15.0                  54.0   0.9970  3.26       0.65   \n",
       "3                 17.0                  60.0   0.9980  3.16       0.58   \n",
       "4                 11.0                  34.0   0.9978  3.51       0.56   \n",
       "\n",
       "   alcohol  quality  \n",
       "0      9.4        5  \n",
       "1      9.8        5  \n",
       "2      9.8        5  \n",
       "3      9.8        6  \n",
       "4      9.4        5  "
      ]
     },
     "execution_count": 33,
     "metadata": {},
     "output_type": "execute_result"
    }
   ],
   "source": [
    "df.head()"
   ]
  },
  {
   "cell_type": "code",
   "execution_count": 62,
   "id": "38e34d0e-a641-422d-b7dc-214dd4b3abbd",
   "metadata": {},
   "outputs": [],
   "source": [
    "X=df.drop(\"quality\",axis=1)\n",
    "y=df['quality']"
   ]
  },
  {
   "cell_type": "code",
   "execution_count": 64,
   "id": "1ef63ae4-b2d8-4026-8848-18236f6ee85c",
   "metadata": {},
   "outputs": [],
   "source": [
    "from  sklearn.preprocessing import LabelEncoder"
   ]
  },
  {
   "cell_type": "code",
   "execution_count": 65,
   "id": "459998c3-0f09-469c-ad5c-9eecc13bc669",
   "metadata": {},
   "outputs": [],
   "source": [
    "le=LabelEncoder()\n",
    "y=le.fit_transform(y)"
   ]
  },
  {
   "cell_type": "code",
   "execution_count": 66,
   "id": "6972f8e8-9aa4-4a6b-ada2-b1665e818828",
   "metadata": {},
   "outputs": [],
   "source": [
    "from sklearn.model_selection import train_test_split"
   ]
  },
  {
   "cell_type": "code",
   "execution_count": 67,
   "id": "a42307ff-0517-4f37-844e-618029e73be8",
   "metadata": {},
   "outputs": [],
   "source": [
    "x_train,x_test,y_train,y_test=train_test_split(x,y,test_size=0.20)"
   ]
  },
  {
   "cell_type": "code",
   "execution_count": 68,
   "id": "3e418ed9-f584-46a0-82d2-ddd4e0567386",
   "metadata": {},
   "outputs": [
    {
     "data": {
      "text/html": [
       "<style>#sk-container-id-3 {color: black;}#sk-container-id-3 pre{padding: 0;}#sk-container-id-3 div.sk-toggleable {background-color: white;}#sk-container-id-3 label.sk-toggleable__label {cursor: pointer;display: block;width: 100%;margin-bottom: 0;padding: 0.3em;box-sizing: border-box;text-align: center;}#sk-container-id-3 label.sk-toggleable__label-arrow:before {content: \"▸\";float: left;margin-right: 0.25em;color: #696969;}#sk-container-id-3 label.sk-toggleable__label-arrow:hover:before {color: black;}#sk-container-id-3 div.sk-estimator:hover label.sk-toggleable__label-arrow:before {color: black;}#sk-container-id-3 div.sk-toggleable__content {max-height: 0;max-width: 0;overflow: hidden;text-align: left;background-color: #f0f8ff;}#sk-container-id-3 div.sk-toggleable__content pre {margin: 0.2em;color: black;border-radius: 0.25em;background-color: #f0f8ff;}#sk-container-id-3 input.sk-toggleable__control:checked~div.sk-toggleable__content {max-height: 200px;max-width: 100%;overflow: auto;}#sk-container-id-3 input.sk-toggleable__control:checked~label.sk-toggleable__label-arrow:before {content: \"▾\";}#sk-container-id-3 div.sk-estimator input.sk-toggleable__control:checked~label.sk-toggleable__label {background-color: #d4ebff;}#sk-container-id-3 div.sk-label input.sk-toggleable__control:checked~label.sk-toggleable__label {background-color: #d4ebff;}#sk-container-id-3 input.sk-hidden--visually {border: 0;clip: rect(1px 1px 1px 1px);clip: rect(1px, 1px, 1px, 1px);height: 1px;margin: -1px;overflow: hidden;padding: 0;position: absolute;width: 1px;}#sk-container-id-3 div.sk-estimator {font-family: monospace;background-color: #f0f8ff;border: 1px dotted black;border-radius: 0.25em;box-sizing: border-box;margin-bottom: 0.5em;}#sk-container-id-3 div.sk-estimator:hover {background-color: #d4ebff;}#sk-container-id-3 div.sk-parallel-item::after {content: \"\";width: 100%;border-bottom: 1px solid gray;flex-grow: 1;}#sk-container-id-3 div.sk-label:hover label.sk-toggleable__label {background-color: #d4ebff;}#sk-container-id-3 div.sk-serial::before {content: \"\";position: absolute;border-left: 1px solid gray;box-sizing: border-box;top: 0;bottom: 0;left: 50%;z-index: 0;}#sk-container-id-3 div.sk-serial {display: flex;flex-direction: column;align-items: center;background-color: white;padding-right: 0.2em;padding-left: 0.2em;position: relative;}#sk-container-id-3 div.sk-item {position: relative;z-index: 1;}#sk-container-id-3 div.sk-parallel {display: flex;align-items: stretch;justify-content: center;background-color: white;position: relative;}#sk-container-id-3 div.sk-item::before, #sk-container-id-3 div.sk-parallel-item::before {content: \"\";position: absolute;border-left: 1px solid gray;box-sizing: border-box;top: 0;bottom: 0;left: 50%;z-index: -1;}#sk-container-id-3 div.sk-parallel-item {display: flex;flex-direction: column;z-index: 1;position: relative;background-color: white;}#sk-container-id-3 div.sk-parallel-item:first-child::after {align-self: flex-end;width: 50%;}#sk-container-id-3 div.sk-parallel-item:last-child::after {align-self: flex-start;width: 50%;}#sk-container-id-3 div.sk-parallel-item:only-child::after {width: 0;}#sk-container-id-3 div.sk-dashed-wrapped {border: 1px dashed gray;margin: 0 0.4em 0.5em 0.4em;box-sizing: border-box;padding-bottom: 0.4em;background-color: white;}#sk-container-id-3 div.sk-label label {font-family: monospace;font-weight: bold;display: inline-block;line-height: 1.2em;}#sk-container-id-3 div.sk-label-container {text-align: center;}#sk-container-id-3 div.sk-container {/* jupyter's `normalize.less` sets `[hidden] { display: none; }` but bootstrap.min.css set `[hidden] { display: none !important; }` so we also need the `!important` here to be able to override the default hidden behavior on the sphinx rendered scikit-learn.org. See: https://github.com/scikit-learn/scikit-learn/issues/21755 */display: inline-block !important;position: relative;}#sk-container-id-3 div.sk-text-repr-fallback {display: none;}</style><div id=\"sk-container-id-3\" class=\"sk-top-container\"><div class=\"sk-text-repr-fallback\"><pre>XGBClassifier(base_score=None, booster=None, callbacks=None,\n",
       "              colsample_bylevel=None, colsample_bynode=None,\n",
       "              colsample_bytree=None, device=None, early_stopping_rounds=None,\n",
       "              enable_categorical=False, eval_metric=None, feature_types=None,\n",
       "              gamma=None, grow_policy=None, importance_type=None,\n",
       "              interaction_constraints=None, learning_rate=None, max_bin=None,\n",
       "              max_cat_threshold=None, max_cat_to_onehot=None,\n",
       "              max_delta_step=None, max_depth=None, max_leaves=None,\n",
       "              min_child_weight=None, missing=nan, monotone_constraints=None,\n",
       "              multi_strategy=None, n_estimators=None, n_jobs=None,\n",
       "              num_parallel_tree=None, objective=&#x27;multi:softprob&#x27;, ...)</pre><b>In a Jupyter environment, please rerun this cell to show the HTML representation or trust the notebook. <br />On GitHub, the HTML representation is unable to render, please try loading this page with nbviewer.org.</b></div><div class=\"sk-container\" hidden><div class=\"sk-item\"><div class=\"sk-estimator sk-toggleable\"><input class=\"sk-toggleable__control sk-hidden--visually\" id=\"sk-estimator-id-5\" type=\"checkbox\" checked><label for=\"sk-estimator-id-5\" class=\"sk-toggleable__label sk-toggleable__label-arrow\">XGBClassifier</label><div class=\"sk-toggleable__content\"><pre>XGBClassifier(base_score=None, booster=None, callbacks=None,\n",
       "              colsample_bylevel=None, colsample_bynode=None,\n",
       "              colsample_bytree=None, device=None, early_stopping_rounds=None,\n",
       "              enable_categorical=False, eval_metric=None, feature_types=None,\n",
       "              gamma=None, grow_policy=None, importance_type=None,\n",
       "              interaction_constraints=None, learning_rate=None, max_bin=None,\n",
       "              max_cat_threshold=None, max_cat_to_onehot=None,\n",
       "              max_delta_step=None, max_depth=None, max_leaves=None,\n",
       "              min_child_weight=None, missing=nan, monotone_constraints=None,\n",
       "              multi_strategy=None, n_estimators=None, n_jobs=None,\n",
       "              num_parallel_tree=None, objective=&#x27;multi:softprob&#x27;, ...)</pre></div></div></div></div></div>"
      ],
      "text/plain": [
       "XGBClassifier(base_score=None, booster=None, callbacks=None,\n",
       "              colsample_bylevel=None, colsample_bynode=None,\n",
       "              colsample_bytree=None, device=None, early_stopping_rounds=None,\n",
       "              enable_categorical=False, eval_metric=None, feature_types=None,\n",
       "              gamma=None, grow_policy=None, importance_type=None,\n",
       "              interaction_constraints=None, learning_rate=None, max_bin=None,\n",
       "              max_cat_threshold=None, max_cat_to_onehot=None,\n",
       "              max_delta_step=None, max_depth=None, max_leaves=None,\n",
       "              min_child_weight=None, missing=nan, monotone_constraints=None,\n",
       "              multi_strategy=None, n_estimators=None, n_jobs=None,\n",
       "              num_parallel_tree=None, objective='multi:softprob', ...)"
      ]
     },
     "execution_count": 68,
     "metadata": {},
     "output_type": "execute_result"
    }
   ],
   "source": [
    "xgb=XGBClassifier()\n",
    "xgb.fit(x_train,y_train)"
   ]
  },
  {
   "cell_type": "code",
   "execution_count": 69,
   "id": "0f6e2611-1555-4493-86dd-af3255301f1b",
   "metadata": {},
   "outputs": [
    {
     "data": {
      "text/plain": [
       "0.6875"
      ]
     },
     "execution_count": 69,
     "metadata": {},
     "output_type": "execute_result"
    }
   ],
   "source": [
    "xgb.score(x_test,y_test)"
   ]
  },
  {
   "cell_type": "code",
   "execution_count": 73,
   "id": "c63bea7d-73e4-46e6-b019-c4a64e8a94b4",
   "metadata": {},
   "outputs": [],
   "source": [
    "def objective_classification(trial,data=X,target=y) :\n",
    "    train_x , test_x , train_y , test_y= train_test_split(data , target , test_size = .20 ,random_state=10)\n",
    "    \n",
    "    param  = {\n",
    "        \n",
    "        'verbosity' : 3,\n",
    "        'objective' : \"binary:logistics\" , \n",
    "        'booster' : trial.suggest_categorical('booster' , ['dart' , 'gbtree','gblinear']),\n",
    "        'lambda' : trial.suggest_float('lambda' , 1e-4 , 1),\n",
    "        'alpha' :trial.suggest_float('alpha' , 1e-4 , 1),\n",
    "        'subsample' : trial.suggest_float('subsample' , .1,.5),\n",
    "        'colsample_bytree' : trial.suggest_float('colsample_bytree' , .1 ,.5)\n",
    "        \n",
    "    }\n",
    "   \n",
    "    if param['booster'] in ['gbtree' , 'dart']:\n",
    "        param['gamma'] :trial.suggest_float('gamma' , 1e-3 , 4 )\n",
    "        param['eta'] : trial.suggest_float('eta' , .001 ,5 )\n",
    "        \n",
    "    xgb_classification = xgboost.XGBClassifier(**param)\n",
    "    xgb_classification.fit(train_x , train_y,eval_set  = [(test_x, test_y)])\n",
    "    pred = xgb_classification.predict(test_x)\n",
    "    accuracy  = xgb_classification.score(test_x , test_y)\n",
    "\n",
    "    \n",
    "    \n",
    "    return accuracy\n",
    "        "
   ]
  },
  {
   "cell_type": "code",
   "execution_count": 74,
   "id": "1bdf6d49-8b04-4aea-8a19-eafbd1685c44",
   "metadata": {},
   "outputs": [
    {
     "name": "stderr",
     "output_type": "stream",
     "text": [
      "[I 2023-12-11 10:55:36,417] A new study created in memory with name: no-name-129463d4-3dbb-4adb-a056-9754f6a7ee8c\n"
     ]
    }
   ],
   "source": [
    "xgb_classification_oputuna = optuna.create_study()"
   ]
  },
  {
   "cell_type": "code",
   "execution_count": 75,
   "id": "fcf9ee62-3c67-408b-9403-0e745b5c38a5",
   "metadata": {},
   "outputs": [
    {
     "name": "stdout",
     "output_type": "stream",
     "text": [
      "[0]\tvalidation_0-mlogloss:1.37445\n",
      "[1]\tvalidation_0-mlogloss:1.29296\n",
      "[2]\tvalidation_0-mlogloss:1.25628\n",
      "[3]\tvalidation_0-mlogloss:1.23476\n",
      "[4]\tvalidation_0-mlogloss:1.22212\n",
      "[5]\tvalidation_0-mlogloss:1.21439\n",
      "[6]\tvalidation_0-mlogloss:1.20930\n",
      "[7]\tvalidation_0-mlogloss:1.20610\n",
      "[8]\tvalidation_0-mlogloss:1.20429\n",
      "[9]\tvalidation_0-mlogloss:1.20360\n",
      "[10]\tvalidation_0-mlogloss:1.20351\n",
      "[11]\tvalidation_0-mlogloss:1.20394\n",
      "[12]\tvalidation_0-mlogloss:1.20469\n",
      "[13]\tvalidation_0-mlogloss:1.20560\n",
      "[14]\tvalidation_0-mlogloss:1.20658\n",
      "[15]\tvalidation_0-mlogloss:1.20753\n",
      "[16]\tvalidation_0-mlogloss:1.20827\n",
      "[17]\tvalidation_0-mlogloss:1.20880\n",
      "[18]\tvalidation_0-mlogloss:1.20920\n",
      "[19]\tvalidation_0-mlogloss:1.20951\n",
      "[20]\tvalidation_0-mlogloss:1.20973\n",
      "[21]\tvalidation_0-mlogloss:1.20990\n",
      "[22]\tvalidation_0-mlogloss:1.21002\n",
      "[23]\tvalidation_0-mlogloss:1.21011\n",
      "[24]\tvalidation_0-mlogloss:1.21018\n",
      "[25]\tvalidation_0-mlogloss:1.21022\n",
      "[26]\tvalidation_0-mlogloss:1.21025\n",
      "[27]\tvalidation_0-mlogloss:1.21027\n",
      "[28]\tvalidation_0-mlogloss:1.21029\n",
      "[29]\tvalidation_0-mlogloss:1.21030\n",
      "[30]\tvalidation_0-mlogloss:1.21030\n",
      "[31]\tvalidation_0-mlogloss:1.21031\n",
      "[32]\tvalidation_0-mlogloss:1.21031\n",
      "[33]\tvalidation_0-mlogloss:1.21031\n",
      "[34]\tvalidation_0-mlogloss:1.21031\n",
      "[35]\tvalidation_0-mlogloss:1.21032\n",
      "[36]\tvalidation_0-mlogloss:1.21032\n",
      "[37]\tvalidation_0-mlogloss:1.21032\n",
      "[38]\tvalidation_0-mlogloss:1.21032\n",
      "[39]\tvalidation_0-mlogloss:1.21032\n",
      "[40]\tvalidation_0-mlogloss:1.21032\n",
      "[41]\tvalidation_0-mlogloss:1.21032\n",
      "[42]\tvalidation_0-mlogloss:1.21033\n",
      "[43]\tvalidation_0-mlogloss:1.21033\n",
      "[44]\tvalidation_0-mlogloss:1.21033\n",
      "[45]\tvalidation_0-mlogloss:1.21033\n",
      "[46]\tvalidation_0-mlogloss:1.21033\n",
      "[47]\tvalidation_0-mlogloss:1.21034\n",
      "[48]\tvalidation_0-mlogloss:1.21034\n",
      "[49]\tvalidation_0-mlogloss:1.21034\n",
      "[50]\tvalidation_0-mlogloss:1.21035\n"
     ]
    },
    {
     "name": "stderr",
     "output_type": "stream",
     "text": [
      "C:\\Users\\ASUS ZenBook\\AppData\\Local\\Programs\\Python\\Python310\\lib\\site-packages\\xgboost\\core.py:160: UserWarning: [10:55:37] WARNING: C:\\buildkite-agent\\builds\\buildkite-windows-cpu-autoscaling-group-i-0cec3277c4d9d0165-1\\xgboost\\xgboost-ci-windows\\src\\learner.cc:742: \n",
      "Parameters: { \"colsample_bytree\", \"subsample\" } are not used.\n",
      "\n",
      "  warnings.warn(smsg, UserWarning)\n"
     ]
    },
    {
     "name": "stdout",
     "output_type": "stream",
     "text": [
      "[51]\tvalidation_0-mlogloss:1.21035\n",
      "[52]\tvalidation_0-mlogloss:1.21035\n",
      "[53]\tvalidation_0-mlogloss:1.21035\n",
      "[54]\tvalidation_0-mlogloss:1.21036\n",
      "[55]\tvalidation_0-mlogloss:1.21036\n",
      "[56]\tvalidation_0-mlogloss:1.21036\n",
      "[57]\tvalidation_0-mlogloss:1.21037\n",
      "[58]\tvalidation_0-mlogloss:1.21037\n",
      "[59]\tvalidation_0-mlogloss:1.21037\n",
      "[60]\tvalidation_0-mlogloss:1.21037\n",
      "[61]\tvalidation_0-mlogloss:1.21038\n",
      "[62]\tvalidation_0-mlogloss:1.21038\n",
      "[63]\tvalidation_0-mlogloss:1.21038\n",
      "[64]\tvalidation_0-mlogloss:1.21038\n",
      "[65]\tvalidation_0-mlogloss:1.21039\n",
      "[66]\tvalidation_0-mlogloss:1.21039\n",
      "[67]\tvalidation_0-mlogloss:1.21039\n",
      "[68]\tvalidation_0-mlogloss:1.21039\n",
      "[69]\tvalidation_0-mlogloss:1.21039\n",
      "[70]\tvalidation_0-mlogloss:1.21040\n",
      "[71]\tvalidation_0-mlogloss:1.21040\n",
      "[72]\tvalidation_0-mlogloss:1.21040\n",
      "[73]\tvalidation_0-mlogloss:1.21040\n",
      "[74]\tvalidation_0-mlogloss:1.21040\n",
      "[75]\tvalidation_0-mlogloss:1.21041\n",
      "[76]\tvalidation_0-mlogloss:1.21041\n",
      "[77]\tvalidation_0-mlogloss:1.21041\n",
      "[78]\tvalidation_0-mlogloss:1.21041\n",
      "[79]\tvalidation_0-mlogloss:1.21041\n",
      "[80]\tvalidation_0-mlogloss:1.21041\n",
      "[81]\tvalidation_0-mlogloss:1.21042\n",
      "[82]\tvalidation_0-mlogloss:1.21042\n",
      "[83]\tvalidation_0-mlogloss:1.21042\n",
      "[84]\tvalidation_0-mlogloss:1.21042\n",
      "[85]\tvalidation_0-mlogloss:1.21042\n",
      "[86]\tvalidation_0-mlogloss:1.21042\n",
      "[87]\tvalidation_0-mlogloss:1.21042\n",
      "[88]\tvalidation_0-mlogloss:1.21042\n",
      "[89]\tvalidation_0-mlogloss:1.21043\n",
      "[90]\tvalidation_0-mlogloss:1.21043\n",
      "[91]\tvalidation_0-mlogloss:1.21043\n",
      "[92]\tvalidation_0-mlogloss:1.21043\n",
      "[93]\tvalidation_0-mlogloss:1.21043\n",
      "[94]\tvalidation_0-mlogloss:1.21043\n",
      "[95]\tvalidation_0-mlogloss:1.21043\n",
      "[96]\tvalidation_0-mlogloss:1.21043\n",
      "[97]\tvalidation_0-mlogloss:1.21043\n",
      "[98]\tvalidation_0-mlogloss:1.21043\n",
      "[99]\tvalidation_0-mlogloss:1.21043\n"
     ]
    },
    {
     "name": "stderr",
     "output_type": "stream",
     "text": [
      "[I 2023-12-11 10:55:37,372] Trial 0 finished with value: 0.425 and parameters: {'booster': 'gblinear', 'lambda': 0.17381138712122818, 'alpha': 0.5580885938421619, 'subsample': 0.26742684992125043, 'colsample_bytree': 0.4724951900256583}. Best is trial 0 with value: 0.425.\n"
     ]
    },
    {
     "name": "stdout",
     "output_type": "stream",
     "text": [
      "[10:55:37] ======== Monitor (0): Learner ========\n",
      "[10:55:37] Configure: 0.001158s, 1 calls @ 1158us\n",
      "\n",
      "[10:55:37] EvalOneIter: 0.016889s, 100 calls @ 16889us\n",
      "\n",
      "[10:55:37] GetGradient: 0.027806s, 100 calls @ 27806us\n",
      "\n",
      "[10:55:37] PredictRaw: 0.012911s, 100 calls @ 12911us\n",
      "\n",
      "[10:55:37] UpdateOneIter: 0.094576s, 100 calls @ 94576us\n",
      "\n",
      "[10:55:37] ======== Monitor (0): GBLinear ========\n",
      "[10:55:37] DoBoost: 0.051449s, 100 calls @ 51449us\n",
      "\n",
      "[10:55:37] PredictBatch: 0.016662s, 200 calls @ 16662us\n",
      "\n",
      "[10:55:37] PredictBatchInternal: 0.016334s, 200 calls @ 16334us\n",
      "\n",
      "[10:55:37] ======== Monitor (0): HostSketchContainer ========\n",
      "[10:55:37] AllReduce: 0.000219s, 1 calls @ 219us\n",
      "\n",
      "[10:55:37] MakeCuts: 0.000283s, 1 calls @ 283us\n",
      "\n",
      "[10:55:37] DEBUG: C:\\buildkite-agent\\builds\\buildkite-windows-cpu-autoscaling-group-i-0cec3277c4d9d0165-1\\xgboost\\xgboost-ci-windows\\src\\gbm\\gbtree.cc:130: Using tree method: 0\n",
      "[10:55:37] INFO: C:\\buildkite-agent\\builds\\buildkite-windows-cpu-autoscaling-group-i-0cec3277c4d9d0165-1\\xgboost\\xgboost-ci-windows\\src\\gbm\\gbtree.cc:887: drop 0 trees, weight = 1\n",
      "[0]\tvalidation_0-mlogloss:1.59380\n",
      "[10:55:37] INFO: C:\\buildkite-agent\\builds\\buildkite-windows-cpu-autoscaling-group-i-0cec3277c4d9d0165-1\\xgboost\\xgboost-ci-windows\\src\\gbm\\gbtree.cc:887: drop 0 trees, weight = 1\n",
      "[1]\tvalidation_0-mlogloss:1.45528\n",
      "[10:55:37] INFO: C:\\buildkite-agent\\builds\\buildkite-windows-cpu-autoscaling-group-i-0cec3277c4d9d0165-1\\xgboost\\xgboost-ci-windows\\src\\gbm\\gbtree.cc:887: drop 0 trees, weight = 1\n",
      "[2]\tvalidation_0-mlogloss:1.33703\n",
      "[10:55:37] INFO: C:\\buildkite-agent\\builds\\buildkite-windows-cpu-autoscaling-group-i-0cec3277c4d9d0165-1\\xgboost\\xgboost-ci-windows\\src\\gbm\\gbtree.cc:887: drop 0 trees, weight = 1\n",
      "[3]\tvalidation_0-mlogloss:1.26050\n",
      "[10:55:37] INFO: C:\\buildkite-agent\\builds\\buildkite-windows-cpu-autoscaling-group-i-0cec3277c4d9d0165-1\\xgboost\\xgboost-ci-windows\\src\\gbm\\gbtree.cc:887: drop 0 trees, weight = 1\n",
      "[4]\tvalidation_0-mlogloss:1.20180\n",
      "[10:55:37] INFO: C:\\buildkite-agent\\builds\\buildkite-windows-cpu-autoscaling-group-i-0cec3277c4d9d0165-1\\xgboost\\xgboost-ci-windows\\src\\gbm\\gbtree.cc:887: drop 0 trees, weight = 1\n",
      "[5]\tvalidation_0-mlogloss:1.16867\n",
      "[10:55:37] INFO: C:\\buildkite-agent\\builds\\buildkite-windows-cpu-autoscaling-group-i-0cec3277c4d9d0165-1\\xgboost\\xgboost-ci-windows\\src\\gbm\\gbtree.cc:887: drop 0 trees, weight = 1\n",
      "[6]\tvalidation_0-mlogloss:1.14054\n",
      "[10:55:37] INFO: C:\\buildkite-agent\\builds\\buildkite-windows-cpu-autoscaling-group-i-0cec3277c4d9d0165-1\\xgboost\\xgboost-ci-windows\\src\\gbm\\gbtree.cc:887: drop 0 trees, weight = 1\n",
      "[7]\tvalidation_0-mlogloss:1.09899\n",
      "[10:55:37] INFO: C:\\buildkite-agent\\builds\\buildkite-windows-cpu-autoscaling-group-i-0cec3277c4d9d0165-1\\xgboost\\xgboost-ci-windows\\src\\gbm\\gbtree.cc:887: drop 0 trees, weight = 1\n",
      "[8]\tvalidation_0-mlogloss:1.07390\n",
      "[10:55:37] INFO: C:\\buildkite-agent\\builds\\buildkite-windows-cpu-autoscaling-group-i-0cec3277c4d9d0165-1\\xgboost\\xgboost-ci-windows\\src\\gbm\\gbtree.cc:887: drop 0 trees, weight = 1\n",
      "[9]\tvalidation_0-mlogloss:1.06558\n",
      "[10:55:37] INFO: C:\\buildkite-agent\\builds\\buildkite-windows-cpu-autoscaling-group-i-0cec3277c4d9d0165-1\\xgboost\\xgboost-ci-windows\\src\\gbm\\gbtree.cc:887: drop 0 trees, weight = 1\n",
      "[10]\tvalidation_0-mlogloss:1.05688\n",
      "[10:55:37] INFO: C:\\buildkite-agent\\builds\\buildkite-windows-cpu-autoscaling-group-i-0cec3277c4d9d0165-1\\xgboost\\xgboost-ci-windows\\src\\gbm\\gbtree.cc:887: drop 0 trees, weight = 1\n",
      "[11]\tvalidation_0-mlogloss:1.04809\n",
      "[10:55:37] INFO: C:\\buildkite-agent\\builds\\buildkite-windows-cpu-autoscaling-group-i-0cec3277c4d9d0165-1\\xgboost\\xgboost-ci-windows\\src\\gbm\\gbtree.cc:887: drop 0 trees, weight = 1\n",
      "[12]\tvalidation_0-mlogloss:1.03800\n",
      "[10:55:37] INFO: C:\\buildkite-agent\\builds\\buildkite-windows-cpu-autoscaling-group-i-0cec3277c4d9d0165-1\\xgboost\\xgboost-ci-windows\\src\\gbm\\gbtree.cc:887: drop 0 trees, weight = 1\n",
      "[13]\tvalidation_0-mlogloss:1.02479\n",
      "[10:55:37] INFO: C:\\buildkite-agent\\builds\\buildkite-windows-cpu-autoscaling-group-i-0cec3277c4d9d0165-1\\xgboost\\xgboost-ci-windows\\src\\gbm\\gbtree.cc:887: drop 0 trees, weight = 1\n",
      "[14]\tvalidation_0-mlogloss:1.01931\n",
      "[10:55:37] INFO: C:\\buildkite-agent\\builds\\buildkite-windows-cpu-autoscaling-group-i-0cec3277c4d9d0165-1\\xgboost\\xgboost-ci-windows\\src\\gbm\\gbtree.cc:887: drop 0 trees, weight = 1\n",
      "[15]\tvalidation_0-mlogloss:1.01764\n",
      "[10:55:37] INFO: C:\\buildkite-agent\\builds\\buildkite-windows-cpu-autoscaling-group-i-0cec3277c4d9d0165-1\\xgboost\\xgboost-ci-windows\\src\\gbm\\gbtree.cc:887: drop 0 trees, weight = 1\n",
      "[16]\tvalidation_0-mlogloss:1.00891\n",
      "[10:55:37] INFO: C:\\buildkite-agent\\builds\\buildkite-windows-cpu-autoscaling-group-i-0cec3277c4d9d0165-1\\xgboost\\xgboost-ci-windows\\src\\gbm\\gbtree.cc:887: drop 0 trees, weight = 1\n",
      "[17]\tvalidation_0-mlogloss:1.00836\n",
      "[10:55:37] INFO: C:\\buildkite-agent\\builds\\buildkite-windows-cpu-autoscaling-group-i-0cec3277c4d9d0165-1\\xgboost\\xgboost-ci-windows\\src\\gbm\\gbtree.cc:887: drop 0 trees, weight = 1\n",
      "[18]\tvalidation_0-mlogloss:1.00002\n",
      "[10:55:38] INFO: C:\\buildkite-agent\\builds\\buildkite-windows-cpu-autoscaling-group-i-0cec3277c4d9d0165-1\\xgboost\\xgboost-ci-windows\\src\\gbm\\gbtree.cc:887: drop 0 trees, weight = 1\n",
      "[19]\tvalidation_0-mlogloss:1.00491\n",
      "[10:55:38] INFO: C:\\buildkite-agent\\builds\\buildkite-windows-cpu-autoscaling-group-i-0cec3277c4d9d0165-1\\xgboost\\xgboost-ci-windows\\src\\gbm\\gbtree.cc:887: drop 0 trees, weight = 1\n",
      "[20]\tvalidation_0-mlogloss:1.00092\n",
      "[10:55:38] INFO: C:\\buildkite-agent\\builds\\buildkite-windows-cpu-autoscaling-group-i-0cec3277c4d9d0165-1\\xgboost\\xgboost-ci-windows\\src\\gbm\\gbtree.cc:887: drop 0 trees, weight = 1\n",
      "[21]\tvalidation_0-mlogloss:0.99866\n",
      "[10:55:38] INFO: C:\\buildkite-agent\\builds\\buildkite-windows-cpu-autoscaling-group-i-0cec3277c4d9d0165-1\\xgboost\\xgboost-ci-windows\\src\\gbm\\gbtree.cc:887: drop 0 trees, weight = 1\n",
      "[22]\tvalidation_0-mlogloss:0.99624\n",
      "[10:55:38] INFO: C:\\buildkite-agent\\builds\\buildkite-windows-cpu-autoscaling-group-i-0cec3277c4d9d0165-1\\xgboost\\xgboost-ci-windows\\src\\gbm\\gbtree.cc:887: drop 0 trees, weight = 1\n",
      "[23]\tvalidation_0-mlogloss:0.99053\n",
      "[10:55:38] INFO: C:\\buildkite-agent\\builds\\buildkite-windows-cpu-autoscaling-group-i-0cec3277c4d9d0165-1\\xgboost\\xgboost-ci-windows\\src\\gbm\\gbtree.cc:887: drop 0 trees, weight = 1\n",
      "[24]\tvalidation_0-mlogloss:0.99167\n",
      "[10:55:38] INFO: C:\\buildkite-agent\\builds\\buildkite-windows-cpu-autoscaling-group-i-0cec3277c4d9d0165-1\\xgboost\\xgboost-ci-windows\\src\\gbm\\gbtree.cc:887: drop 0 trees, weight = 1\n",
      "[25]\tvalidation_0-mlogloss:0.98251\n",
      "[10:55:38] INFO: C:\\buildkite-agent\\builds\\buildkite-windows-cpu-autoscaling-group-i-0cec3277c4d9d0165-1\\xgboost\\xgboost-ci-windows\\src\\gbm\\gbtree.cc:887: drop 0 trees, weight = 1\n",
      "[26]\tvalidation_0-mlogloss:0.98252\n",
      "[10:55:38] INFO: C:\\buildkite-agent\\builds\\buildkite-windows-cpu-autoscaling-group-i-0cec3277c4d9d0165-1\\xgboost\\xgboost-ci-windows\\src\\gbm\\gbtree.cc:887: drop 0 trees, weight = 1\n",
      "[27]\tvalidation_0-mlogloss:0.98610\n",
      "[10:55:38] INFO: C:\\buildkite-agent\\builds\\buildkite-windows-cpu-autoscaling-group-i-0cec3277c4d9d0165-1\\xgboost\\xgboost-ci-windows\\src\\gbm\\gbtree.cc:887: drop 0 trees, weight = 1\n",
      "[28]\tvalidation_0-mlogloss:0.98873\n",
      "[10:55:38] INFO: C:\\buildkite-agent\\builds\\buildkite-windows-cpu-autoscaling-group-i-0cec3277c4d9d0165-1\\xgboost\\xgboost-ci-windows\\src\\gbm\\gbtree.cc:887: drop 0 trees, weight = 1\n",
      "[29]\tvalidation_0-mlogloss:0.99154\n",
      "[10:55:38] INFO: C:\\buildkite-agent\\builds\\buildkite-windows-cpu-autoscaling-group-i-0cec3277c4d9d0165-1\\xgboost\\xgboost-ci-windows\\src\\gbm\\gbtree.cc:887: drop 0 trees, weight = 1\n",
      "[30]\tvalidation_0-mlogloss:0.98938\n",
      "[10:55:38] INFO: C:\\buildkite-agent\\builds\\buildkite-windows-cpu-autoscaling-group-i-0cec3277c4d9d0165-1\\xgboost\\xgboost-ci-windows\\src\\gbm\\gbtree.cc:887: drop 0 trees, weight = 1\n",
      "[31]\tvalidation_0-mlogloss:0.98651\n",
      "[10:55:38] INFO: C:\\buildkite-agent\\builds\\buildkite-windows-cpu-autoscaling-group-i-0cec3277c4d9d0165-1\\xgboost\\xgboost-ci-windows\\src\\gbm\\gbtree.cc:887: drop 0 trees, weight = 1\n",
      "[32]\tvalidation_0-mlogloss:0.99223\n",
      "[10:55:38] INFO: C:\\buildkite-agent\\builds\\buildkite-windows-cpu-autoscaling-group-i-0cec3277c4d9d0165-1\\xgboost\\xgboost-ci-windows\\src\\gbm\\gbtree.cc:887: drop 0 trees, weight = 1\n",
      "[33]\tvalidation_0-mlogloss:0.98797\n",
      "[10:55:39] INFO: C:\\buildkite-agent\\builds\\buildkite-windows-cpu-autoscaling-group-i-0cec3277c4d9d0165-1\\xgboost\\xgboost-ci-windows\\src\\gbm\\gbtree.cc:887: drop 0 trees, weight = 1\n",
      "[34]\tvalidation_0-mlogloss:0.98457\n",
      "[10:55:39] INFO: C:\\buildkite-agent\\builds\\buildkite-windows-cpu-autoscaling-group-i-0cec3277c4d9d0165-1\\xgboost\\xgboost-ci-windows\\src\\gbm\\gbtree.cc:887: drop 0 trees, weight = 1\n",
      "[35]\tvalidation_0-mlogloss:0.98296\n",
      "[10:55:39] INFO: C:\\buildkite-agent\\builds\\buildkite-windows-cpu-autoscaling-group-i-0cec3277c4d9d0165-1\\xgboost\\xgboost-ci-windows\\src\\gbm\\gbtree.cc:887: drop 0 trees, weight = 1\n",
      "[36]\tvalidation_0-mlogloss:0.97633\n",
      "[10:55:39] INFO: C:\\buildkite-agent\\builds\\buildkite-windows-cpu-autoscaling-group-i-0cec3277c4d9d0165-1\\xgboost\\xgboost-ci-windows\\src\\gbm\\gbtree.cc:887: drop 0 trees, weight = 1\n",
      "[37]\tvalidation_0-mlogloss:0.97616\n",
      "[10:55:39] INFO: C:\\buildkite-agent\\builds\\buildkite-windows-cpu-autoscaling-group-i-0cec3277c4d9d0165-1\\xgboost\\xgboost-ci-windows\\src\\gbm\\gbtree.cc:887: drop 0 trees, weight = 1\n",
      "[38]\tvalidation_0-mlogloss:0.97386\n",
      "[10:55:39] INFO: C:\\buildkite-agent\\builds\\buildkite-windows-cpu-autoscaling-group-i-0cec3277c4d9d0165-1\\xgboost\\xgboost-ci-windows\\src\\gbm\\gbtree.cc:887: drop 0 trees, weight = 1\n",
      "[39]\tvalidation_0-mlogloss:0.97508\n",
      "[10:55:39] INFO: C:\\buildkite-agent\\builds\\buildkite-windows-cpu-autoscaling-group-i-0cec3277c4d9d0165-1\\xgboost\\xgboost-ci-windows\\src\\gbm\\gbtree.cc:887: drop 0 trees, weight = 1\n",
      "[40]\tvalidation_0-mlogloss:0.97584\n",
      "[10:55:39] INFO: C:\\buildkite-agent\\builds\\buildkite-windows-cpu-autoscaling-group-i-0cec3277c4d9d0165-1\\xgboost\\xgboost-ci-windows\\src\\gbm\\gbtree.cc:887: drop 0 trees, weight = 1\n",
      "[41]\tvalidation_0-mlogloss:0.97447\n",
      "[10:55:39] INFO: C:\\buildkite-agent\\builds\\buildkite-windows-cpu-autoscaling-group-i-0cec3277c4d9d0165-1\\xgboost\\xgboost-ci-windows\\src\\gbm\\gbtree.cc:887: drop 0 trees, weight = 1\n",
      "[42]\tvalidation_0-mlogloss:0.97837\n",
      "[10:55:39] INFO: C:\\buildkite-agent\\builds\\buildkite-windows-cpu-autoscaling-group-i-0cec3277c4d9d0165-1\\xgboost\\xgboost-ci-windows\\src\\gbm\\gbtree.cc:887: drop 0 trees, weight = 1\n",
      "[43]\tvalidation_0-mlogloss:0.97934\n",
      "[10:55:40] INFO: C:\\buildkite-agent\\builds\\buildkite-windows-cpu-autoscaling-group-i-0cec3277c4d9d0165-1\\xgboost\\xgboost-ci-windows\\src\\gbm\\gbtree.cc:887: drop 0 trees, weight = 1\n",
      "[44]\tvalidation_0-mlogloss:0.97894\n",
      "[10:55:40] INFO: C:\\buildkite-agent\\builds\\buildkite-windows-cpu-autoscaling-group-i-0cec3277c4d9d0165-1\\xgboost\\xgboost-ci-windows\\src\\gbm\\gbtree.cc:887: drop 0 trees, weight = 1\n",
      "[45]\tvalidation_0-mlogloss:0.97981\n",
      "[10:55:40] INFO: C:\\buildkite-agent\\builds\\buildkite-windows-cpu-autoscaling-group-i-0cec3277c4d9d0165-1\\xgboost\\xgboost-ci-windows\\src\\gbm\\gbtree.cc:887: drop 0 trees, weight = 1\n",
      "[46]\tvalidation_0-mlogloss:0.98031\n",
      "[10:55:40] INFO: C:\\buildkite-agent\\builds\\buildkite-windows-cpu-autoscaling-group-i-0cec3277c4d9d0165-1\\xgboost\\xgboost-ci-windows\\src\\gbm\\gbtree.cc:887: drop 0 trees, weight = 1\n",
      "[47]\tvalidation_0-mlogloss:0.98367\n",
      "[10:55:40] INFO: C:\\buildkite-agent\\builds\\buildkite-windows-cpu-autoscaling-group-i-0cec3277c4d9d0165-1\\xgboost\\xgboost-ci-windows\\src\\gbm\\gbtree.cc:887: drop 0 trees, weight = 1\n",
      "[48]\tvalidation_0-mlogloss:0.98508\n",
      "[10:55:40] INFO: C:\\buildkite-agent\\builds\\buildkite-windows-cpu-autoscaling-group-i-0cec3277c4d9d0165-1\\xgboost\\xgboost-ci-windows\\src\\gbm\\gbtree.cc:887: drop 0 trees, weight = 1\n",
      "[49]\tvalidation_0-mlogloss:0.98998\n",
      "[10:55:40] INFO: C:\\buildkite-agent\\builds\\buildkite-windows-cpu-autoscaling-group-i-0cec3277c4d9d0165-1\\xgboost\\xgboost-ci-windows\\src\\gbm\\gbtree.cc:887: drop 0 trees, weight = 1\n",
      "[50]\tvalidation_0-mlogloss:0.99351\n",
      "[10:55:40] INFO: C:\\buildkite-agent\\builds\\buildkite-windows-cpu-autoscaling-group-i-0cec3277c4d9d0165-1\\xgboost\\xgboost-ci-windows\\src\\gbm\\gbtree.cc:887: drop 0 trees, weight = 1\n",
      "[51]\tvalidation_0-mlogloss:0.99644\n",
      "[10:55:40] INFO: C:\\buildkite-agent\\builds\\buildkite-windows-cpu-autoscaling-group-i-0cec3277c4d9d0165-1\\xgboost\\xgboost-ci-windows\\src\\gbm\\gbtree.cc:887: drop 0 trees, weight = 1\n",
      "[52]\tvalidation_0-mlogloss:0.99708\n",
      "[10:55:41] INFO: C:\\buildkite-agent\\builds\\buildkite-windows-cpu-autoscaling-group-i-0cec3277c4d9d0165-1\\xgboost\\xgboost-ci-windows\\src\\gbm\\gbtree.cc:887: drop 0 trees, weight = 1\n",
      "[53]\tvalidation_0-mlogloss:0.99295\n",
      "[10:55:41] INFO: C:\\buildkite-agent\\builds\\buildkite-windows-cpu-autoscaling-group-i-0cec3277c4d9d0165-1\\xgboost\\xgboost-ci-windows\\src\\gbm\\gbtree.cc:887: drop 0 trees, weight = 1\n",
      "[54]\tvalidation_0-mlogloss:0.99258\n",
      "[10:55:41] INFO: C:\\buildkite-agent\\builds\\buildkite-windows-cpu-autoscaling-group-i-0cec3277c4d9d0165-1\\xgboost\\xgboost-ci-windows\\src\\gbm\\gbtree.cc:887: drop 0 trees, weight = 1\n",
      "[55]\tvalidation_0-mlogloss:0.99026\n",
      "[10:55:41] INFO: C:\\buildkite-agent\\builds\\buildkite-windows-cpu-autoscaling-group-i-0cec3277c4d9d0165-1\\xgboost\\xgboost-ci-windows\\src\\gbm\\gbtree.cc:887: drop 0 trees, weight = 1\n",
      "[56]\tvalidation_0-mlogloss:0.99047\n",
      "[10:55:41] INFO: C:\\buildkite-agent\\builds\\buildkite-windows-cpu-autoscaling-group-i-0cec3277c4d9d0165-1\\xgboost\\xgboost-ci-windows\\src\\gbm\\gbtree.cc:887: drop 0 trees, weight = 1\n",
      "[57]\tvalidation_0-mlogloss:0.98662\n",
      "[10:55:41] INFO: C:\\buildkite-agent\\builds\\buildkite-windows-cpu-autoscaling-group-i-0cec3277c4d9d0165-1\\xgboost\\xgboost-ci-windows\\src\\gbm\\gbtree.cc:887: drop 0 trees, weight = 1\n",
      "[58]\tvalidation_0-mlogloss:0.98372\n",
      "[10:55:41] INFO: C:\\buildkite-agent\\builds\\buildkite-windows-cpu-autoscaling-group-i-0cec3277c4d9d0165-1\\xgboost\\xgboost-ci-windows\\src\\gbm\\gbtree.cc:887: drop 0 trees, weight = 1\n",
      "[59]\tvalidation_0-mlogloss:0.98598\n",
      "[10:55:42] INFO: C:\\buildkite-agent\\builds\\buildkite-windows-cpu-autoscaling-group-i-0cec3277c4d9d0165-1\\xgboost\\xgboost-ci-windows\\src\\gbm\\gbtree.cc:887: drop 0 trees, weight = 1\n",
      "[60]\tvalidation_0-mlogloss:0.98621\n",
      "[10:55:42] INFO: C:\\buildkite-agent\\builds\\buildkite-windows-cpu-autoscaling-group-i-0cec3277c4d9d0165-1\\xgboost\\xgboost-ci-windows\\src\\gbm\\gbtree.cc:887: drop 0 trees, weight = 1\n",
      "[61]\tvalidation_0-mlogloss:0.98486\n",
      "[10:55:42] INFO: C:\\buildkite-agent\\builds\\buildkite-windows-cpu-autoscaling-group-i-0cec3277c4d9d0165-1\\xgboost\\xgboost-ci-windows\\src\\gbm\\gbtree.cc:887: drop 0 trees, weight = 1\n",
      "[62]\tvalidation_0-mlogloss:0.98816\n",
      "[10:55:42] INFO: C:\\buildkite-agent\\builds\\buildkite-windows-cpu-autoscaling-group-i-0cec3277c4d9d0165-1\\xgboost\\xgboost-ci-windows\\src\\gbm\\gbtree.cc:887: drop 0 trees, weight = 1\n",
      "[63]\tvalidation_0-mlogloss:0.98855\n",
      "[10:55:42] INFO: C:\\buildkite-agent\\builds\\buildkite-windows-cpu-autoscaling-group-i-0cec3277c4d9d0165-1\\xgboost\\xgboost-ci-windows\\src\\gbm\\gbtree.cc:887: drop 0 trees, weight = 1\n",
      "[64]\tvalidation_0-mlogloss:0.98797\n",
      "[10:55:42] INFO: C:\\buildkite-agent\\builds\\buildkite-windows-cpu-autoscaling-group-i-0cec3277c4d9d0165-1\\xgboost\\xgboost-ci-windows\\src\\gbm\\gbtree.cc:887: drop 0 trees, weight = 1\n",
      "[65]\tvalidation_0-mlogloss:0.98890\n",
      "[10:55:42] INFO: C:\\buildkite-agent\\builds\\buildkite-windows-cpu-autoscaling-group-i-0cec3277c4d9d0165-1\\xgboost\\xgboost-ci-windows\\src\\gbm\\gbtree.cc:887: drop 0 trees, weight = 1\n",
      "[66]\tvalidation_0-mlogloss:0.99139\n",
      "[10:55:43] INFO: C:\\buildkite-agent\\builds\\buildkite-windows-cpu-autoscaling-group-i-0cec3277c4d9d0165-1\\xgboost\\xgboost-ci-windows\\src\\gbm\\gbtree.cc:887: drop 0 trees, weight = 1\n",
      "[67]\tvalidation_0-mlogloss:0.99054\n",
      "[10:55:43] INFO: C:\\buildkite-agent\\builds\\buildkite-windows-cpu-autoscaling-group-i-0cec3277c4d9d0165-1\\xgboost\\xgboost-ci-windows\\src\\gbm\\gbtree.cc:887: drop 0 trees, weight = 1\n",
      "[68]\tvalidation_0-mlogloss:0.98926\n",
      "[10:55:43] INFO: C:\\buildkite-agent\\builds\\buildkite-windows-cpu-autoscaling-group-i-0cec3277c4d9d0165-1\\xgboost\\xgboost-ci-windows\\src\\gbm\\gbtree.cc:887: drop 0 trees, weight = 1\n",
      "[69]\tvalidation_0-mlogloss:0.99555\n",
      "[10:55:43] INFO: C:\\buildkite-agent\\builds\\buildkite-windows-cpu-autoscaling-group-i-0cec3277c4d9d0165-1\\xgboost\\xgboost-ci-windows\\src\\gbm\\gbtree.cc:887: drop 0 trees, weight = 1\n",
      "[70]\tvalidation_0-mlogloss:0.99529\n",
      "[10:55:43] INFO: C:\\buildkite-agent\\builds\\buildkite-windows-cpu-autoscaling-group-i-0cec3277c4d9d0165-1\\xgboost\\xgboost-ci-windows\\src\\gbm\\gbtree.cc:887: drop 0 trees, weight = 1\n",
      "[71]\tvalidation_0-mlogloss:0.99593\n",
      "[10:55:43] INFO: C:\\buildkite-agent\\builds\\buildkite-windows-cpu-autoscaling-group-i-0cec3277c4d9d0165-1\\xgboost\\xgboost-ci-windows\\src\\gbm\\gbtree.cc:887: drop 0 trees, weight = 1\n",
      "[72]\tvalidation_0-mlogloss:0.99780\n",
      "[10:55:44] INFO: C:\\buildkite-agent\\builds\\buildkite-windows-cpu-autoscaling-group-i-0cec3277c4d9d0165-1\\xgboost\\xgboost-ci-windows\\src\\gbm\\gbtree.cc:887: drop 0 trees, weight = 1\n",
      "[73]\tvalidation_0-mlogloss:1.00208\n",
      "[10:55:44] INFO: C:\\buildkite-agent\\builds\\buildkite-windows-cpu-autoscaling-group-i-0cec3277c4d9d0165-1\\xgboost\\xgboost-ci-windows\\src\\gbm\\gbtree.cc:887: drop 0 trees, weight = 1\n",
      "[74]\tvalidation_0-mlogloss:1.00482\n",
      "[10:55:44] INFO: C:\\buildkite-agent\\builds\\buildkite-windows-cpu-autoscaling-group-i-0cec3277c4d9d0165-1\\xgboost\\xgboost-ci-windows\\src\\gbm\\gbtree.cc:887: drop 0 trees, weight = 1\n",
      "[75]\tvalidation_0-mlogloss:1.00677\n",
      "[10:55:44] INFO: C:\\buildkite-agent\\builds\\buildkite-windows-cpu-autoscaling-group-i-0cec3277c4d9d0165-1\\xgboost\\xgboost-ci-windows\\src\\gbm\\gbtree.cc:887: drop 0 trees, weight = 1\n",
      "[76]\tvalidation_0-mlogloss:1.00837\n",
      "[10:55:44] INFO: C:\\buildkite-agent\\builds\\buildkite-windows-cpu-autoscaling-group-i-0cec3277c4d9d0165-1\\xgboost\\xgboost-ci-windows\\src\\gbm\\gbtree.cc:887: drop 0 trees, weight = 1\n",
      "[77]\tvalidation_0-mlogloss:1.00796\n",
      "[10:55:44] INFO: C:\\buildkite-agent\\builds\\buildkite-windows-cpu-autoscaling-group-i-0cec3277c4d9d0165-1\\xgboost\\xgboost-ci-windows\\src\\gbm\\gbtree.cc:887: drop 0 trees, weight = 1\n",
      "[78]\tvalidation_0-mlogloss:1.01176\n",
      "[10:55:45] INFO: C:\\buildkite-agent\\builds\\buildkite-windows-cpu-autoscaling-group-i-0cec3277c4d9d0165-1\\xgboost\\xgboost-ci-windows\\src\\gbm\\gbtree.cc:887: drop 0 trees, weight = 1\n",
      "[79]\tvalidation_0-mlogloss:1.00901\n",
      "[10:55:45] INFO: C:\\buildkite-agent\\builds\\buildkite-windows-cpu-autoscaling-group-i-0cec3277c4d9d0165-1\\xgboost\\xgboost-ci-windows\\src\\gbm\\gbtree.cc:887: drop 0 trees, weight = 1\n",
      "[80]\tvalidation_0-mlogloss:1.01283\n",
      "[10:55:45] INFO: C:\\buildkite-agent\\builds\\buildkite-windows-cpu-autoscaling-group-i-0cec3277c4d9d0165-1\\xgboost\\xgboost-ci-windows\\src\\gbm\\gbtree.cc:887: drop 0 trees, weight = 1\n",
      "[81]\tvalidation_0-mlogloss:1.01998\n",
      "[10:55:45] INFO: C:\\buildkite-agent\\builds\\buildkite-windows-cpu-autoscaling-group-i-0cec3277c4d9d0165-1\\xgboost\\xgboost-ci-windows\\src\\gbm\\gbtree.cc:887: drop 0 trees, weight = 1\n",
      "[82]\tvalidation_0-mlogloss:1.02055\n",
      "[10:55:45] INFO: C:\\buildkite-agent\\builds\\buildkite-windows-cpu-autoscaling-group-i-0cec3277c4d9d0165-1\\xgboost\\xgboost-ci-windows\\src\\gbm\\gbtree.cc:887: drop 0 trees, weight = 1\n",
      "[83]\tvalidation_0-mlogloss:1.01627\n",
      "[10:55:46] INFO: C:\\buildkite-agent\\builds\\buildkite-windows-cpu-autoscaling-group-i-0cec3277c4d9d0165-1\\xgboost\\xgboost-ci-windows\\src\\gbm\\gbtree.cc:887: drop 0 trees, weight = 1\n",
      "[84]\tvalidation_0-mlogloss:1.01842\n",
      "[10:55:46] INFO: C:\\buildkite-agent\\builds\\buildkite-windows-cpu-autoscaling-group-i-0cec3277c4d9d0165-1\\xgboost\\xgboost-ci-windows\\src\\gbm\\gbtree.cc:887: drop 0 trees, weight = 1\n",
      "[85]\tvalidation_0-mlogloss:1.02158\n",
      "[10:55:46] INFO: C:\\buildkite-agent\\builds\\buildkite-windows-cpu-autoscaling-group-i-0cec3277c4d9d0165-1\\xgboost\\xgboost-ci-windows\\src\\gbm\\gbtree.cc:887: drop 0 trees, weight = 1\n",
      "[86]\tvalidation_0-mlogloss:1.02708\n",
      "[10:55:46] INFO: C:\\buildkite-agent\\builds\\buildkite-windows-cpu-autoscaling-group-i-0cec3277c4d9d0165-1\\xgboost\\xgboost-ci-windows\\src\\gbm\\gbtree.cc:887: drop 0 trees, weight = 1\n",
      "[87]\tvalidation_0-mlogloss:1.02662\n",
      "[10:55:46] INFO: C:\\buildkite-agent\\builds\\buildkite-windows-cpu-autoscaling-group-i-0cec3277c4d9d0165-1\\xgboost\\xgboost-ci-windows\\src\\gbm\\gbtree.cc:887: drop 0 trees, weight = 1\n",
      "[88]\tvalidation_0-mlogloss:1.02314\n",
      "[10:55:47] INFO: C:\\buildkite-agent\\builds\\buildkite-windows-cpu-autoscaling-group-i-0cec3277c4d9d0165-1\\xgboost\\xgboost-ci-windows\\src\\gbm\\gbtree.cc:887: drop 0 trees, weight = 1\n",
      "[89]\tvalidation_0-mlogloss:1.02289\n",
      "[10:55:47] INFO: C:\\buildkite-agent\\builds\\buildkite-windows-cpu-autoscaling-group-i-0cec3277c4d9d0165-1\\xgboost\\xgboost-ci-windows\\src\\gbm\\gbtree.cc:887: drop 0 trees, weight = 1\n",
      "[90]\tvalidation_0-mlogloss:1.02669\n",
      "[10:55:47] INFO: C:\\buildkite-agent\\builds\\buildkite-windows-cpu-autoscaling-group-i-0cec3277c4d9d0165-1\\xgboost\\xgboost-ci-windows\\src\\gbm\\gbtree.cc:887: drop 0 trees, weight = 1\n",
      "[91]\tvalidation_0-mlogloss:1.02417\n",
      "[10:55:47] INFO: C:\\buildkite-agent\\builds\\buildkite-windows-cpu-autoscaling-group-i-0cec3277c4d9d0165-1\\xgboost\\xgboost-ci-windows\\src\\gbm\\gbtree.cc:887: drop 0 trees, weight = 1\n",
      "[92]\tvalidation_0-mlogloss:1.01897\n",
      "[10:55:47] INFO: C:\\buildkite-agent\\builds\\buildkite-windows-cpu-autoscaling-group-i-0cec3277c4d9d0165-1\\xgboost\\xgboost-ci-windows\\src\\gbm\\gbtree.cc:887: drop 0 trees, weight = 1\n",
      "[93]\tvalidation_0-mlogloss:1.02146\n",
      "[10:55:48] INFO: C:\\buildkite-agent\\builds\\buildkite-windows-cpu-autoscaling-group-i-0cec3277c4d9d0165-1\\xgboost\\xgboost-ci-windows\\src\\gbm\\gbtree.cc:887: drop 0 trees, weight = 1\n",
      "[94]\tvalidation_0-mlogloss:1.02223\n",
      "[10:55:48] INFO: C:\\buildkite-agent\\builds\\buildkite-windows-cpu-autoscaling-group-i-0cec3277c4d9d0165-1\\xgboost\\xgboost-ci-windows\\src\\gbm\\gbtree.cc:887: drop 0 trees, weight = 1\n",
      "[95]\tvalidation_0-mlogloss:1.02164\n",
      "[10:55:48] INFO: C:\\buildkite-agent\\builds\\buildkite-windows-cpu-autoscaling-group-i-0cec3277c4d9d0165-1\\xgboost\\xgboost-ci-windows\\src\\gbm\\gbtree.cc:887: drop 0 trees, weight = 1\n",
      "[96]\tvalidation_0-mlogloss:1.02059\n",
      "[10:55:48] INFO: C:\\buildkite-agent\\builds\\buildkite-windows-cpu-autoscaling-group-i-0cec3277c4d9d0165-1\\xgboost\\xgboost-ci-windows\\src\\gbm\\gbtree.cc:887: drop 0 trees, weight = 1\n",
      "[97]\tvalidation_0-mlogloss:1.02474\n",
      "[10:55:49] INFO: C:\\buildkite-agent\\builds\\buildkite-windows-cpu-autoscaling-group-i-0cec3277c4d9d0165-1\\xgboost\\xgboost-ci-windows\\src\\gbm\\gbtree.cc:887: drop 0 trees, weight = 1\n",
      "[98]\tvalidation_0-mlogloss:1.02723\n",
      "[10:55:49] INFO: C:\\buildkite-agent\\builds\\buildkite-windows-cpu-autoscaling-group-i-0cec3277c4d9d0165-1\\xgboost\\xgboost-ci-windows\\src\\gbm\\gbtree.cc:887: drop 0 trees, weight = 1\n",
      "[99]\tvalidation_0-mlogloss:1.03187\n",
      "[10:55:49] ======== Monitor (0): Learner ========\n",
      "[10:55:49] Configure: 0.000887s, 1 calls @ 887us\n",
      "\n",
      "[10:55:49] EvalOneIter: 3.56483s, 100 calls @ 3564831us\n",
      "\n",
      "[10:55:49] GetGradient: 0.011865s, 100 calls @ 11865us\n",
      "\n",
      "[10:55:49] PredictRaw: 7.72775s, 100 calls @ 7727752us\n",
      "\n",
      "[10:55:49] UpdateOneIter: 8.13281s, 100 calls @ 8132807us\n",
      "\n",
      "[10:55:49] ======== Monitor (0): GBTree ========\n",
      "[10:55:49] BoostNewTrees: 0.31918s, 100 calls @ 319180us\n",
      "\n",
      "[10:55:49] ======== Monitor (0): HistUpdater ========\n",
      "[10:55:49] BuildHistogram: 0.102313s, 2367 calls @ 102313us\n",
      "\n",
      "[10:55:49] EvaluateSplits: 0.055584s, 2967 calls @ 55584us\n",
      "\n",
      "[10:55:49] InitData: 0.014456s, 600 calls @ 14456us\n",
      "\n",
      "[10:55:49] InitRoot: 0.037738s, 600 calls @ 37738us\n",
      "\n",
      "[10:55:49] LeafPartition: 0.000151s, 600 calls @ 151us\n",
      "\n",
      "[10:55:49] UpdatePosition: 0.055331s, 2711 calls @ 55331us\n",
      "\n",
      "[10:55:49] UpdatePredictionCache: 0.008112s, 600 calls @ 8112us\n",
      "\n",
      "[10:55:49] UpdateTree: 0.291561s, 600 calls @ 291561us\n",
      "\n",
      "[10:55:49] DEBUG: C:\\buildkite-agent\\builds\\buildkite-windows-cpu-autoscaling-group-i-0cec3277c4d9d0165-1\\xgboost\\xgboost-ci-windows\\src\\gbm\\gbtree.cc:130: Using tree method: 0\n"
     ]
    },
    {
     "name": "stderr",
     "output_type": "stream",
     "text": [
      "[I 2023-12-11 10:55:49,503] Trial 1 finished with value: 0.615625 and parameters: {'booster': 'dart', 'lambda': 0.9546969619851481, 'alpha': 0.18702131241967923, 'subsample': 0.3862083535573386, 'colsample_bytree': 0.2607404907917582}. Best is trial 0 with value: 0.425.\n"
     ]
    },
    {
     "name": "stdout",
     "output_type": "stream",
     "text": [
      "[10:55:49] ======== Monitor (0): HostSketchContainer ========\n",
      "[10:55:49] AllReduce: 0.000243s, 1 calls @ 243us\n",
      "\n",
      "[10:55:49] MakeCuts: 0.000302s, 1 calls @ 302us\n",
      "\n",
      "[10:55:49] DEBUG: C:\\buildkite-agent\\builds\\buildkite-windows-cpu-autoscaling-group-i-0cec3277c4d9d0165-1\\xgboost\\xgboost-ci-windows\\src\\gbm\\gbtree.cc:130: Using tree method: 0\n",
      "[10:55:49] INFO: C:\\buildkite-agent\\builds\\buildkite-windows-cpu-autoscaling-group-i-0cec3277c4d9d0165-1\\xgboost\\xgboost-ci-windows\\src\\gbm\\gbtree.cc:887: drop 0 trees, weight = 1\n",
      "[0]\tvalidation_0-mlogloss:1.57406\n",
      "[10:55:49] INFO: C:\\buildkite-agent\\builds\\buildkite-windows-cpu-autoscaling-group-i-0cec3277c4d9d0165-1\\xgboost\\xgboost-ci-windows\\src\\gbm\\gbtree.cc:887: drop 0 trees, weight = 1\n",
      "[1]\tvalidation_0-mlogloss:1.43449\n",
      "[10:55:49] INFO: C:\\buildkite-agent\\builds\\buildkite-windows-cpu-autoscaling-group-i-0cec3277c4d9d0165-1\\xgboost\\xgboost-ci-windows\\src\\gbm\\gbtree.cc:887: drop 0 trees, weight = 1\n",
      "[2]\tvalidation_0-mlogloss:1.32645\n",
      "[10:55:49] INFO: C:\\buildkite-agent\\builds\\buildkite-windows-cpu-autoscaling-group-i-0cec3277c4d9d0165-1\\xgboost\\xgboost-ci-windows\\src\\gbm\\gbtree.cc:887: drop 0 trees, weight = 1\n",
      "[3]\tvalidation_0-mlogloss:1.24972\n",
      "[10:55:49] INFO: C:\\buildkite-agent\\builds\\buildkite-windows-cpu-autoscaling-group-i-0cec3277c4d9d0165-1\\xgboost\\xgboost-ci-windows\\src\\gbm\\gbtree.cc:887: drop 0 trees, weight = 1\n",
      "[4]\tvalidation_0-mlogloss:1.18190\n",
      "[10:55:49] INFO: C:\\buildkite-agent\\builds\\buildkite-windows-cpu-autoscaling-group-i-0cec3277c4d9d0165-1\\xgboost\\xgboost-ci-windows\\src\\gbm\\gbtree.cc:887: drop 0 trees, weight = 1\n",
      "[5]\tvalidation_0-mlogloss:1.14103\n",
      "[10:55:49] INFO: C:\\buildkite-agent\\builds\\buildkite-windows-cpu-autoscaling-group-i-0cec3277c4d9d0165-1\\xgboost\\xgboost-ci-windows\\src\\gbm\\gbtree.cc:887: drop 0 trees, weight = 1\n",
      "[6]\tvalidation_0-mlogloss:1.11718\n",
      "[10:55:49] INFO: C:\\buildkite-agent\\builds\\buildkite-windows-cpu-autoscaling-group-i-0cec3277c4d9d0165-1\\xgboost\\xgboost-ci-windows\\src\\gbm\\gbtree.cc:887: drop 0 trees, weight = 1\n",
      "[7]\tvalidation_0-mlogloss:1.08367\n",
      "[10:55:49] INFO: C:\\buildkite-agent\\builds\\buildkite-windows-cpu-autoscaling-group-i-0cec3277c4d9d0165-1\\xgboost\\xgboost-ci-windows\\src\\gbm\\gbtree.cc:887: drop 0 trees, weight = 1\n",
      "[8]\tvalidation_0-mlogloss:1.06904\n",
      "[10:55:49] INFO: C:\\buildkite-agent\\builds\\buildkite-windows-cpu-autoscaling-group-i-0cec3277c4d9d0165-1\\xgboost\\xgboost-ci-windows\\src\\gbm\\gbtree.cc:887: drop 0 trees, weight = 1\n",
      "[9]\tvalidation_0-mlogloss:1.04488\n",
      "[10:55:49] INFO: C:\\buildkite-agent\\builds\\buildkite-windows-cpu-autoscaling-group-i-0cec3277c4d9d0165-1\\xgboost\\xgboost-ci-windows\\src\\gbm\\gbtree.cc:887: drop 0 trees, weight = 1\n",
      "[10]\tvalidation_0-mlogloss:1.03865\n",
      "[10:55:49] INFO: C:\\buildkite-agent\\builds\\buildkite-windows-cpu-autoscaling-group-i-0cec3277c4d9d0165-1\\xgboost\\xgboost-ci-windows\\src\\gbm\\gbtree.cc:887: drop 0 trees, weight = 1\n",
      "[11]\tvalidation_0-mlogloss:1.03022\n",
      "[10:55:49] INFO: C:\\buildkite-agent\\builds\\buildkite-windows-cpu-autoscaling-group-i-0cec3277c4d9d0165-1\\xgboost\\xgboost-ci-windows\\src\\gbm\\gbtree.cc:887: drop 0 trees, weight = 1\n",
      "[12]\tvalidation_0-mlogloss:1.02178\n",
      "[10:55:49] INFO: C:\\buildkite-agent\\builds\\buildkite-windows-cpu-autoscaling-group-i-0cec3277c4d9d0165-1\\xgboost\\xgboost-ci-windows\\src\\gbm\\gbtree.cc:887: drop 0 trees, weight = 1\n",
      "[13]\tvalidation_0-mlogloss:1.00903\n",
      "[10:55:49] INFO: C:\\buildkite-agent\\builds\\buildkite-windows-cpu-autoscaling-group-i-0cec3277c4d9d0165-1\\xgboost\\xgboost-ci-windows\\src\\gbm\\gbtree.cc:887: drop 0 trees, weight = 1\n",
      "[14]\tvalidation_0-mlogloss:1.01275\n",
      "[10:55:49] INFO: C:\\buildkite-agent\\builds\\buildkite-windows-cpu-autoscaling-group-i-0cec3277c4d9d0165-1\\xgboost\\xgboost-ci-windows\\src\\gbm\\gbtree.cc:887: drop 0 trees, weight = 1\n",
      "[15]\tvalidation_0-mlogloss:1.02127\n",
      "[10:55:49] INFO: C:\\buildkite-agent\\builds\\buildkite-windows-cpu-autoscaling-group-i-0cec3277c4d9d0165-1\\xgboost\\xgboost-ci-windows\\src\\gbm\\gbtree.cc:887: drop 0 trees, weight = 1\n",
      "[16]\tvalidation_0-mlogloss:1.01754\n",
      "[10:55:49] INFO: C:\\buildkite-agent\\builds\\buildkite-windows-cpu-autoscaling-group-i-0cec3277c4d9d0165-1\\xgboost\\xgboost-ci-windows\\src\\gbm\\gbtree.cc:887: drop 0 trees, weight = 1\n",
      "[17]\tvalidation_0-mlogloss:1.01737\n",
      "[10:55:50] INFO: C:\\buildkite-agent\\builds\\buildkite-windows-cpu-autoscaling-group-i-0cec3277c4d9d0165-1\\xgboost\\xgboost-ci-windows\\src\\gbm\\gbtree.cc:887: drop 0 trees, weight = 1\n",
      "[18]\tvalidation_0-mlogloss:1.02249\n",
      "[10:55:50] INFO: C:\\buildkite-agent\\builds\\buildkite-windows-cpu-autoscaling-group-i-0cec3277c4d9d0165-1\\xgboost\\xgboost-ci-windows\\src\\gbm\\gbtree.cc:887: drop 0 trees, weight = 1\n",
      "[19]\tvalidation_0-mlogloss:1.02872\n",
      "[10:55:50] INFO: C:\\buildkite-agent\\builds\\buildkite-windows-cpu-autoscaling-group-i-0cec3277c4d9d0165-1\\xgboost\\xgboost-ci-windows\\src\\gbm\\gbtree.cc:887: drop 0 trees, weight = 1\n",
      "[20]\tvalidation_0-mlogloss:1.03568\n",
      "[10:55:50] INFO: C:\\buildkite-agent\\builds\\buildkite-windows-cpu-autoscaling-group-i-0cec3277c4d9d0165-1\\xgboost\\xgboost-ci-windows\\src\\gbm\\gbtree.cc:887: drop 0 trees, weight = 1\n",
      "[21]\tvalidation_0-mlogloss:1.02688\n",
      "[10:55:50] INFO: C:\\buildkite-agent\\builds\\buildkite-windows-cpu-autoscaling-group-i-0cec3277c4d9d0165-1\\xgboost\\xgboost-ci-windows\\src\\gbm\\gbtree.cc:887: drop 0 trees, weight = 1\n",
      "[22]\tvalidation_0-mlogloss:1.02929\n",
      "[10:55:50] INFO: C:\\buildkite-agent\\builds\\buildkite-windows-cpu-autoscaling-group-i-0cec3277c4d9d0165-1\\xgboost\\xgboost-ci-windows\\src\\gbm\\gbtree.cc:887: drop 0 trees, weight = 1\n",
      "[23]\tvalidation_0-mlogloss:1.02910\n",
      "[10:55:50] INFO: C:\\buildkite-agent\\builds\\buildkite-windows-cpu-autoscaling-group-i-0cec3277c4d9d0165-1\\xgboost\\xgboost-ci-windows\\src\\gbm\\gbtree.cc:887: drop 0 trees, weight = 1\n",
      "[24]\tvalidation_0-mlogloss:1.03645\n",
      "[10:55:50] INFO: C:\\buildkite-agent\\builds\\buildkite-windows-cpu-autoscaling-group-i-0cec3277c4d9d0165-1\\xgboost\\xgboost-ci-windows\\src\\gbm\\gbtree.cc:887: drop 0 trees, weight = 1\n",
      "[25]\tvalidation_0-mlogloss:1.04003\n",
      "[10:55:50] INFO: C:\\buildkite-agent\\builds\\buildkite-windows-cpu-autoscaling-group-i-0cec3277c4d9d0165-1\\xgboost\\xgboost-ci-windows\\src\\gbm\\gbtree.cc:887: drop 0 trees, weight = 1\n",
      "[26]\tvalidation_0-mlogloss:1.03934\n",
      "[10:55:50] INFO: C:\\buildkite-agent\\builds\\buildkite-windows-cpu-autoscaling-group-i-0cec3277c4d9d0165-1\\xgboost\\xgboost-ci-windows\\src\\gbm\\gbtree.cc:887: drop 0 trees, weight = 1\n",
      "[27]\tvalidation_0-mlogloss:1.03978\n",
      "[10:55:50] INFO: C:\\buildkite-agent\\builds\\buildkite-windows-cpu-autoscaling-group-i-0cec3277c4d9d0165-1\\xgboost\\xgboost-ci-windows\\src\\gbm\\gbtree.cc:887: drop 0 trees, weight = 1\n",
      "[28]\tvalidation_0-mlogloss:1.04306\n",
      "[10:55:50] INFO: C:\\buildkite-agent\\builds\\buildkite-windows-cpu-autoscaling-group-i-0cec3277c4d9d0165-1\\xgboost\\xgboost-ci-windows\\src\\gbm\\gbtree.cc:887: drop 0 trees, weight = 1\n",
      "[29]\tvalidation_0-mlogloss:1.04592\n",
      "[10:55:50] INFO: C:\\buildkite-agent\\builds\\buildkite-windows-cpu-autoscaling-group-i-0cec3277c4d9d0165-1\\xgboost\\xgboost-ci-windows\\src\\gbm\\gbtree.cc:887: drop 0 trees, weight = 1\n",
      "[30]\tvalidation_0-mlogloss:1.04808\n",
      "[10:55:50] INFO: C:\\buildkite-agent\\builds\\buildkite-windows-cpu-autoscaling-group-i-0cec3277c4d9d0165-1\\xgboost\\xgboost-ci-windows\\src\\gbm\\gbtree.cc:887: drop 0 trees, weight = 1\n",
      "[31]\tvalidation_0-mlogloss:1.05585\n",
      "[10:55:50] INFO: C:\\buildkite-agent\\builds\\buildkite-windows-cpu-autoscaling-group-i-0cec3277c4d9d0165-1\\xgboost\\xgboost-ci-windows\\src\\gbm\\gbtree.cc:887: drop 0 trees, weight = 1\n",
      "[32]\tvalidation_0-mlogloss:1.05294\n",
      "[10:55:51] INFO: C:\\buildkite-agent\\builds\\buildkite-windows-cpu-autoscaling-group-i-0cec3277c4d9d0165-1\\xgboost\\xgboost-ci-windows\\src\\gbm\\gbtree.cc:887: drop 0 trees, weight = 1\n",
      "[33]\tvalidation_0-mlogloss:1.05812\n",
      "[10:55:51] INFO: C:\\buildkite-agent\\builds\\buildkite-windows-cpu-autoscaling-group-i-0cec3277c4d9d0165-1\\xgboost\\xgboost-ci-windows\\src\\gbm\\gbtree.cc:887: drop 0 trees, weight = 1\n",
      "[34]\tvalidation_0-mlogloss:1.05962\n",
      "[10:55:51] INFO: C:\\buildkite-agent\\builds\\buildkite-windows-cpu-autoscaling-group-i-0cec3277c4d9d0165-1\\xgboost\\xgboost-ci-windows\\src\\gbm\\gbtree.cc:887: drop 0 trees, weight = 1\n",
      "[35]\tvalidation_0-mlogloss:1.06295\n",
      "[10:55:51] INFO: C:\\buildkite-agent\\builds\\buildkite-windows-cpu-autoscaling-group-i-0cec3277c4d9d0165-1\\xgboost\\xgboost-ci-windows\\src\\gbm\\gbtree.cc:887: drop 0 trees, weight = 1\n",
      "[36]\tvalidation_0-mlogloss:1.06071\n",
      "[10:55:51] INFO: C:\\buildkite-agent\\builds\\buildkite-windows-cpu-autoscaling-group-i-0cec3277c4d9d0165-1\\xgboost\\xgboost-ci-windows\\src\\gbm\\gbtree.cc:887: drop 0 trees, weight = 1\n",
      "[37]\tvalidation_0-mlogloss:1.06463\n",
      "[10:55:51] INFO: C:\\buildkite-agent\\builds\\buildkite-windows-cpu-autoscaling-group-i-0cec3277c4d9d0165-1\\xgboost\\xgboost-ci-windows\\src\\gbm\\gbtree.cc:887: drop 0 trees, weight = 1\n",
      "[38]\tvalidation_0-mlogloss:1.06053\n",
      "[10:55:51] INFO: C:\\buildkite-agent\\builds\\buildkite-windows-cpu-autoscaling-group-i-0cec3277c4d9d0165-1\\xgboost\\xgboost-ci-windows\\src\\gbm\\gbtree.cc:887: drop 0 trees, weight = 1\n",
      "[39]\tvalidation_0-mlogloss:1.05847\n",
      "[10:55:51] INFO: C:\\buildkite-agent\\builds\\buildkite-windows-cpu-autoscaling-group-i-0cec3277c4d9d0165-1\\xgboost\\xgboost-ci-windows\\src\\gbm\\gbtree.cc:887: drop 0 trees, weight = 1\n",
      "[40]\tvalidation_0-mlogloss:1.05978\n",
      "[10:55:51] INFO: C:\\buildkite-agent\\builds\\buildkite-windows-cpu-autoscaling-group-i-0cec3277c4d9d0165-1\\xgboost\\xgboost-ci-windows\\src\\gbm\\gbtree.cc:887: drop 0 trees, weight = 1\n",
      "[41]\tvalidation_0-mlogloss:1.05945\n",
      "[10:55:51] INFO: C:\\buildkite-agent\\builds\\buildkite-windows-cpu-autoscaling-group-i-0cec3277c4d9d0165-1\\xgboost\\xgboost-ci-windows\\src\\gbm\\gbtree.cc:887: drop 0 trees, weight = 1\n",
      "[42]\tvalidation_0-mlogloss:1.05867\n",
      "[10:55:51] INFO: C:\\buildkite-agent\\builds\\buildkite-windows-cpu-autoscaling-group-i-0cec3277c4d9d0165-1\\xgboost\\xgboost-ci-windows\\src\\gbm\\gbtree.cc:887: drop 0 trees, weight = 1\n",
      "[43]\tvalidation_0-mlogloss:1.06316\n",
      "[10:55:52] INFO: C:\\buildkite-agent\\builds\\buildkite-windows-cpu-autoscaling-group-i-0cec3277c4d9d0165-1\\xgboost\\xgboost-ci-windows\\src\\gbm\\gbtree.cc:887: drop 0 trees, weight = 1\n",
      "[44]\tvalidation_0-mlogloss:1.05974\n",
      "[10:55:52] INFO: C:\\buildkite-agent\\builds\\buildkite-windows-cpu-autoscaling-group-i-0cec3277c4d9d0165-1\\xgboost\\xgboost-ci-windows\\src\\gbm\\gbtree.cc:887: drop 0 trees, weight = 1\n",
      "[45]\tvalidation_0-mlogloss:1.05898\n",
      "[10:55:52] INFO: C:\\buildkite-agent\\builds\\buildkite-windows-cpu-autoscaling-group-i-0cec3277c4d9d0165-1\\xgboost\\xgboost-ci-windows\\src\\gbm\\gbtree.cc:887: drop 0 trees, weight = 1\n",
      "[46]\tvalidation_0-mlogloss:1.06448\n",
      "[10:55:52] INFO: C:\\buildkite-agent\\builds\\buildkite-windows-cpu-autoscaling-group-i-0cec3277c4d9d0165-1\\xgboost\\xgboost-ci-windows\\src\\gbm\\gbtree.cc:887: drop 0 trees, weight = 1\n",
      "[47]\tvalidation_0-mlogloss:1.07684\n",
      "[10:55:52] INFO: C:\\buildkite-agent\\builds\\buildkite-windows-cpu-autoscaling-group-i-0cec3277c4d9d0165-1\\xgboost\\xgboost-ci-windows\\src\\gbm\\gbtree.cc:887: drop 0 trees, weight = 1\n",
      "[48]\tvalidation_0-mlogloss:1.08826\n",
      "[10:55:52] INFO: C:\\buildkite-agent\\builds\\buildkite-windows-cpu-autoscaling-group-i-0cec3277c4d9d0165-1\\xgboost\\xgboost-ci-windows\\src\\gbm\\gbtree.cc:887: drop 0 trees, weight = 1\n",
      "[49]\tvalidation_0-mlogloss:1.08882\n",
      "[10:55:52] INFO: C:\\buildkite-agent\\builds\\buildkite-windows-cpu-autoscaling-group-i-0cec3277c4d9d0165-1\\xgboost\\xgboost-ci-windows\\src\\gbm\\gbtree.cc:887: drop 0 trees, weight = 1\n",
      "[50]\tvalidation_0-mlogloss:1.08403\n",
      "[10:55:52] INFO: C:\\buildkite-agent\\builds\\buildkite-windows-cpu-autoscaling-group-i-0cec3277c4d9d0165-1\\xgboost\\xgboost-ci-windows\\src\\gbm\\gbtree.cc:887: drop 0 trees, weight = 1\n",
      "[51]\tvalidation_0-mlogloss:1.07931\n",
      "[10:55:53] INFO: C:\\buildkite-agent\\builds\\buildkite-windows-cpu-autoscaling-group-i-0cec3277c4d9d0165-1\\xgboost\\xgboost-ci-windows\\src\\gbm\\gbtree.cc:887: drop 0 trees, weight = 1\n",
      "[52]\tvalidation_0-mlogloss:1.07795\n",
      "[10:55:53] INFO: C:\\buildkite-agent\\builds\\buildkite-windows-cpu-autoscaling-group-i-0cec3277c4d9d0165-1\\xgboost\\xgboost-ci-windows\\src\\gbm\\gbtree.cc:887: drop 0 trees, weight = 1\n",
      "[53]\tvalidation_0-mlogloss:1.06614\n",
      "[10:55:53] INFO: C:\\buildkite-agent\\builds\\buildkite-windows-cpu-autoscaling-group-i-0cec3277c4d9d0165-1\\xgboost\\xgboost-ci-windows\\src\\gbm\\gbtree.cc:887: drop 0 trees, weight = 1\n",
      "[54]\tvalidation_0-mlogloss:1.07008\n",
      "[10:55:53] INFO: C:\\buildkite-agent\\builds\\buildkite-windows-cpu-autoscaling-group-i-0cec3277c4d9d0165-1\\xgboost\\xgboost-ci-windows\\src\\gbm\\gbtree.cc:887: drop 0 trees, weight = 1\n",
      "[55]\tvalidation_0-mlogloss:1.07315\n",
      "[10:55:53] INFO: C:\\buildkite-agent\\builds\\buildkite-windows-cpu-autoscaling-group-i-0cec3277c4d9d0165-1\\xgboost\\xgboost-ci-windows\\src\\gbm\\gbtree.cc:887: drop 0 trees, weight = 1\n",
      "[56]\tvalidation_0-mlogloss:1.07323\n",
      "[10:55:53] INFO: C:\\buildkite-agent\\builds\\buildkite-windows-cpu-autoscaling-group-i-0cec3277c4d9d0165-1\\xgboost\\xgboost-ci-windows\\src\\gbm\\gbtree.cc:887: drop 0 trees, weight = 1\n",
      "[57]\tvalidation_0-mlogloss:1.07680\n",
      "[10:55:53] INFO: C:\\buildkite-agent\\builds\\buildkite-windows-cpu-autoscaling-group-i-0cec3277c4d9d0165-1\\xgboost\\xgboost-ci-windows\\src\\gbm\\gbtree.cc:887: drop 0 trees, weight = 1\n",
      "[58]\tvalidation_0-mlogloss:1.07773\n",
      "[10:55:53] INFO: C:\\buildkite-agent\\builds\\buildkite-windows-cpu-autoscaling-group-i-0cec3277c4d9d0165-1\\xgboost\\xgboost-ci-windows\\src\\gbm\\gbtree.cc:887: drop 0 trees, weight = 1\n",
      "[59]\tvalidation_0-mlogloss:1.07459\n",
      "[10:55:54] INFO: C:\\buildkite-agent\\builds\\buildkite-windows-cpu-autoscaling-group-i-0cec3277c4d9d0165-1\\xgboost\\xgboost-ci-windows\\src\\gbm\\gbtree.cc:887: drop 0 trees, weight = 1\n",
      "[60]\tvalidation_0-mlogloss:1.07575\n",
      "[10:55:54] INFO: C:\\buildkite-agent\\builds\\buildkite-windows-cpu-autoscaling-group-i-0cec3277c4d9d0165-1\\xgboost\\xgboost-ci-windows\\src\\gbm\\gbtree.cc:887: drop 0 trees, weight = 1\n",
      "[61]\tvalidation_0-mlogloss:1.07374\n",
      "[10:55:54] INFO: C:\\buildkite-agent\\builds\\buildkite-windows-cpu-autoscaling-group-i-0cec3277c4d9d0165-1\\xgboost\\xgboost-ci-windows\\src\\gbm\\gbtree.cc:887: drop 0 trees, weight = 1\n",
      "[62]\tvalidation_0-mlogloss:1.06708\n",
      "[10:55:54] INFO: C:\\buildkite-agent\\builds\\buildkite-windows-cpu-autoscaling-group-i-0cec3277c4d9d0165-1\\xgboost\\xgboost-ci-windows\\src\\gbm\\gbtree.cc:887: drop 0 trees, weight = 1\n",
      "[63]\tvalidation_0-mlogloss:1.07425\n",
      "[10:55:54] INFO: C:\\buildkite-agent\\builds\\buildkite-windows-cpu-autoscaling-group-i-0cec3277c4d9d0165-1\\xgboost\\xgboost-ci-windows\\src\\gbm\\gbtree.cc:887: drop 0 trees, weight = 1\n",
      "[64]\tvalidation_0-mlogloss:1.08084\n",
      "[10:55:54] INFO: C:\\buildkite-agent\\builds\\buildkite-windows-cpu-autoscaling-group-i-0cec3277c4d9d0165-1\\xgboost\\xgboost-ci-windows\\src\\gbm\\gbtree.cc:887: drop 0 trees, weight = 1\n",
      "[65]\tvalidation_0-mlogloss:1.08372\n",
      "[10:55:54] INFO: C:\\buildkite-agent\\builds\\buildkite-windows-cpu-autoscaling-group-i-0cec3277c4d9d0165-1\\xgboost\\xgboost-ci-windows\\src\\gbm\\gbtree.cc:887: drop 0 trees, weight = 1\n",
      "[66]\tvalidation_0-mlogloss:1.08243\n",
      "[10:55:55] INFO: C:\\buildkite-agent\\builds\\buildkite-windows-cpu-autoscaling-group-i-0cec3277c4d9d0165-1\\xgboost\\xgboost-ci-windows\\src\\gbm\\gbtree.cc:887: drop 0 trees, weight = 1\n",
      "[67]\tvalidation_0-mlogloss:1.07840\n",
      "[10:55:55] INFO: C:\\buildkite-agent\\builds\\buildkite-windows-cpu-autoscaling-group-i-0cec3277c4d9d0165-1\\xgboost\\xgboost-ci-windows\\src\\gbm\\gbtree.cc:887: drop 0 trees, weight = 1\n",
      "[68]\tvalidation_0-mlogloss:1.08529\n",
      "[10:55:55] INFO: C:\\buildkite-agent\\builds\\buildkite-windows-cpu-autoscaling-group-i-0cec3277c4d9d0165-1\\xgboost\\xgboost-ci-windows\\src\\gbm\\gbtree.cc:887: drop 0 trees, weight = 1\n",
      "[69]\tvalidation_0-mlogloss:1.08546\n",
      "[10:55:55] INFO: C:\\buildkite-agent\\builds\\buildkite-windows-cpu-autoscaling-group-i-0cec3277c4d9d0165-1\\xgboost\\xgboost-ci-windows\\src\\gbm\\gbtree.cc:887: drop 0 trees, weight = 1\n",
      "[70]\tvalidation_0-mlogloss:1.07737\n",
      "[10:55:55] INFO: C:\\buildkite-agent\\builds\\buildkite-windows-cpu-autoscaling-group-i-0cec3277c4d9d0165-1\\xgboost\\xgboost-ci-windows\\src\\gbm\\gbtree.cc:887: drop 0 trees, weight = 1\n",
      "[71]\tvalidation_0-mlogloss:1.07617\n",
      "[10:55:55] INFO: C:\\buildkite-agent\\builds\\buildkite-windows-cpu-autoscaling-group-i-0cec3277c4d9d0165-1\\xgboost\\xgboost-ci-windows\\src\\gbm\\gbtree.cc:887: drop 0 trees, weight = 1\n",
      "[72]\tvalidation_0-mlogloss:1.08523\n",
      "[10:55:56] INFO: C:\\buildkite-agent\\builds\\buildkite-windows-cpu-autoscaling-group-i-0cec3277c4d9d0165-1\\xgboost\\xgboost-ci-windows\\src\\gbm\\gbtree.cc:887: drop 0 trees, weight = 1\n",
      "[73]\tvalidation_0-mlogloss:1.09136\n",
      "[10:55:56] INFO: C:\\buildkite-agent\\builds\\buildkite-windows-cpu-autoscaling-group-i-0cec3277c4d9d0165-1\\xgboost\\xgboost-ci-windows\\src\\gbm\\gbtree.cc:887: drop 0 trees, weight = 1\n",
      "[74]\tvalidation_0-mlogloss:1.09388\n",
      "[10:55:56] INFO: C:\\buildkite-agent\\builds\\buildkite-windows-cpu-autoscaling-group-i-0cec3277c4d9d0165-1\\xgboost\\xgboost-ci-windows\\src\\gbm\\gbtree.cc:887: drop 0 trees, weight = 1\n",
      "[75]\tvalidation_0-mlogloss:1.09815\n",
      "[10:55:56] INFO: C:\\buildkite-agent\\builds\\buildkite-windows-cpu-autoscaling-group-i-0cec3277c4d9d0165-1\\xgboost\\xgboost-ci-windows\\src\\gbm\\gbtree.cc:887: drop 0 trees, weight = 1\n",
      "[76]\tvalidation_0-mlogloss:1.09226\n",
      "[10:55:56] INFO: C:\\buildkite-agent\\builds\\buildkite-windows-cpu-autoscaling-group-i-0cec3277c4d9d0165-1\\xgboost\\xgboost-ci-windows\\src\\gbm\\gbtree.cc:887: drop 0 trees, weight = 1\n",
      "[77]\tvalidation_0-mlogloss:1.09182\n",
      "[10:55:57] INFO: C:\\buildkite-agent\\builds\\buildkite-windows-cpu-autoscaling-group-i-0cec3277c4d9d0165-1\\xgboost\\xgboost-ci-windows\\src\\gbm\\gbtree.cc:887: drop 0 trees, weight = 1\n",
      "[78]\tvalidation_0-mlogloss:1.09626\n",
      "[10:55:57] INFO: C:\\buildkite-agent\\builds\\buildkite-windows-cpu-autoscaling-group-i-0cec3277c4d9d0165-1\\xgboost\\xgboost-ci-windows\\src\\gbm\\gbtree.cc:887: drop 0 trees, weight = 1\n",
      "[79]\tvalidation_0-mlogloss:1.10167\n",
      "[10:55:57] INFO: C:\\buildkite-agent\\builds\\buildkite-windows-cpu-autoscaling-group-i-0cec3277c4d9d0165-1\\xgboost\\xgboost-ci-windows\\src\\gbm\\gbtree.cc:887: drop 0 trees, weight = 1\n",
      "[80]\tvalidation_0-mlogloss:1.10439\n",
      "[10:55:57] INFO: C:\\buildkite-agent\\builds\\buildkite-windows-cpu-autoscaling-group-i-0cec3277c4d9d0165-1\\xgboost\\xgboost-ci-windows\\src\\gbm\\gbtree.cc:887: drop 0 trees, weight = 1\n",
      "[81]\tvalidation_0-mlogloss:1.11993\n",
      "[10:55:57] INFO: C:\\buildkite-agent\\builds\\buildkite-windows-cpu-autoscaling-group-i-0cec3277c4d9d0165-1\\xgboost\\xgboost-ci-windows\\src\\gbm\\gbtree.cc:887: drop 0 trees, weight = 1\n",
      "[82]\tvalidation_0-mlogloss:1.12161\n",
      "[10:55:57] INFO: C:\\buildkite-agent\\builds\\buildkite-windows-cpu-autoscaling-group-i-0cec3277c4d9d0165-1\\xgboost\\xgboost-ci-windows\\src\\gbm\\gbtree.cc:887: drop 0 trees, weight = 1\n",
      "[83]\tvalidation_0-mlogloss:1.12026\n",
      "[10:55:58] INFO: C:\\buildkite-agent\\builds\\buildkite-windows-cpu-autoscaling-group-i-0cec3277c4d9d0165-1\\xgboost\\xgboost-ci-windows\\src\\gbm\\gbtree.cc:887: drop 0 trees, weight = 1\n",
      "[84]\tvalidation_0-mlogloss:1.12615\n",
      "[10:55:58] INFO: C:\\buildkite-agent\\builds\\buildkite-windows-cpu-autoscaling-group-i-0cec3277c4d9d0165-1\\xgboost\\xgboost-ci-windows\\src\\gbm\\gbtree.cc:887: drop 0 trees, weight = 1\n",
      "[85]\tvalidation_0-mlogloss:1.12596\n",
      "[10:55:58] INFO: C:\\buildkite-agent\\builds\\buildkite-windows-cpu-autoscaling-group-i-0cec3277c4d9d0165-1\\xgboost\\xgboost-ci-windows\\src\\gbm\\gbtree.cc:887: drop 0 trees, weight = 1\n",
      "[86]\tvalidation_0-mlogloss:1.12160\n",
      "[10:55:58] INFO: C:\\buildkite-agent\\builds\\buildkite-windows-cpu-autoscaling-group-i-0cec3277c4d9d0165-1\\xgboost\\xgboost-ci-windows\\src\\gbm\\gbtree.cc:887: drop 0 trees, weight = 1\n",
      "[87]\tvalidation_0-mlogloss:1.12265\n",
      "[10:55:58] INFO: C:\\buildkite-agent\\builds\\buildkite-windows-cpu-autoscaling-group-i-0cec3277c4d9d0165-1\\xgboost\\xgboost-ci-windows\\src\\gbm\\gbtree.cc:887: drop 0 trees, weight = 1\n",
      "[88]\tvalidation_0-mlogloss:1.12373\n",
      "[10:55:59] INFO: C:\\buildkite-agent\\builds\\buildkite-windows-cpu-autoscaling-group-i-0cec3277c4d9d0165-1\\xgboost\\xgboost-ci-windows\\src\\gbm\\gbtree.cc:887: drop 0 trees, weight = 1\n",
      "[89]\tvalidation_0-mlogloss:1.12600\n",
      "[10:55:59] INFO: C:\\buildkite-agent\\builds\\buildkite-windows-cpu-autoscaling-group-i-0cec3277c4d9d0165-1\\xgboost\\xgboost-ci-windows\\src\\gbm\\gbtree.cc:887: drop 0 trees, weight = 1\n",
      "[90]\tvalidation_0-mlogloss:1.12586\n",
      "[10:55:59] INFO: C:\\buildkite-agent\\builds\\buildkite-windows-cpu-autoscaling-group-i-0cec3277c4d9d0165-1\\xgboost\\xgboost-ci-windows\\src\\gbm\\gbtree.cc:887: drop 0 trees, weight = 1\n",
      "[91]\tvalidation_0-mlogloss:1.12291\n",
      "[10:55:59] INFO: C:\\buildkite-agent\\builds\\buildkite-windows-cpu-autoscaling-group-i-0cec3277c4d9d0165-1\\xgboost\\xgboost-ci-windows\\src\\gbm\\gbtree.cc:887: drop 0 trees, weight = 1\n",
      "[92]\tvalidation_0-mlogloss:1.12421\n",
      "[10:56:00] INFO: C:\\buildkite-agent\\builds\\buildkite-windows-cpu-autoscaling-group-i-0cec3277c4d9d0165-1\\xgboost\\xgboost-ci-windows\\src\\gbm\\gbtree.cc:887: drop 0 trees, weight = 1\n",
      "[93]\tvalidation_0-mlogloss:1.11917\n",
      "[10:56:00] INFO: C:\\buildkite-agent\\builds\\buildkite-windows-cpu-autoscaling-group-i-0cec3277c4d9d0165-1\\xgboost\\xgboost-ci-windows\\src\\gbm\\gbtree.cc:887: drop 0 trees, weight = 1\n",
      "[94]\tvalidation_0-mlogloss:1.11819\n",
      "[10:56:00] INFO: C:\\buildkite-agent\\builds\\buildkite-windows-cpu-autoscaling-group-i-0cec3277c4d9d0165-1\\xgboost\\xgboost-ci-windows\\src\\gbm\\gbtree.cc:887: drop 0 trees, weight = 1\n",
      "[95]\tvalidation_0-mlogloss:1.11188\n",
      "[10:56:00] INFO: C:\\buildkite-agent\\builds\\buildkite-windows-cpu-autoscaling-group-i-0cec3277c4d9d0165-1\\xgboost\\xgboost-ci-windows\\src\\gbm\\gbtree.cc:887: drop 0 trees, weight = 1\n",
      "[96]\tvalidation_0-mlogloss:1.10999\n",
      "[10:56:00] INFO: C:\\buildkite-agent\\builds\\buildkite-windows-cpu-autoscaling-group-i-0cec3277c4d9d0165-1\\xgboost\\xgboost-ci-windows\\src\\gbm\\gbtree.cc:887: drop 0 trees, weight = 1\n",
      "[97]\tvalidation_0-mlogloss:1.10523\n",
      "[10:56:01] INFO: C:\\buildkite-agent\\builds\\buildkite-windows-cpu-autoscaling-group-i-0cec3277c4d9d0165-1\\xgboost\\xgboost-ci-windows\\src\\gbm\\gbtree.cc:887: drop 0 trees, weight = 1\n",
      "[98]\tvalidation_0-mlogloss:1.11119\n",
      "[10:56:01] INFO: C:\\buildkite-agent\\builds\\buildkite-windows-cpu-autoscaling-group-i-0cec3277c4d9d0165-1\\xgboost\\xgboost-ci-windows\\src\\gbm\\gbtree.cc:887: drop 0 trees, weight = 1\n",
      "[99]\tvalidation_0-mlogloss:1.10681\n",
      "[10:56:01] ======== Monitor (0): Learner ========\n",
      "[10:56:01] Configure: 0.000711s, 1 calls @ 711us\n",
      "\n",
      "[10:56:01] EvalOneIter: 3.60378s, 100 calls @ 3603778us\n",
      "\n",
      "[10:56:01] GetGradient: 0.01047s, 100 calls @ 10470us\n",
      "\n",
      "[10:56:01] PredictRaw: 7.68421s, 100 calls @ 7684206us\n",
      "\n",
      "[10:56:01] UpdateOneIter: 8.05577s, 100 calls @ 8055770us\n",
      "\n",
      "[10:56:01] ======== Monitor (0): GBTree ========\n",
      "[10:56:01] BoostNewTrees: 0.289006s, 100 calls @ 289006us\n",
      "\n",
      "[10:56:01] ======== Monitor (0): HistUpdater ========\n",
      "[10:56:01] BuildHistogram: 0.090847s, 2038 calls @ 90847us\n",
      "\n",
      "[10:56:01] EvaluateSplits: 0.056188s, 2638 calls @ 56188us\n",
      "\n",
      "[10:56:01] InitData: 0.012603s, 600 calls @ 12603us\n",
      "\n",
      "[10:56:01] InitRoot: 0.039337s, 600 calls @ 39337us\n",
      "\n",
      "[10:56:01] LeafPartition: 0.000147s, 600 calls @ 147us\n",
      "\n",
      "[10:56:01] UpdatePosition: 0.046227s, 2296 calls @ 46227us\n",
      "\n",
      "[10:56:01] UpdatePredictionCache: 0.007593s, 600 calls @ 7593us\n",
      "\n",
      "[10:56:01] UpdateTree: 0.263193s, 600 calls @ 263193us\n",
      "\n",
      "[10:56:01] DEBUG: C:\\buildkite-agent\\builds\\buildkite-windows-cpu-autoscaling-group-i-0cec3277c4d9d0165-1\\xgboost\\xgboost-ci-windows\\src\\gbm\\gbtree.cc:130: Using tree method: 0\n"
     ]
    },
    {
     "name": "stderr",
     "output_type": "stream",
     "text": [
      "[I 2023-12-11 10:56:01,568] Trial 2 finished with value: 0.625 and parameters: {'booster': 'dart', 'lambda': 0.5987838493551895, 'alpha': 0.5560399402936426, 'subsample': 0.17391639623406965, 'colsample_bytree': 0.40459448425147415}. Best is trial 0 with value: 0.425.\n"
     ]
    },
    {
     "name": "stdout",
     "output_type": "stream",
     "text": [
      "[10:56:01] ======== Monitor (0): HostSketchContainer ========\n",
      "[10:56:01] AllReduce: 0.000335s, 1 calls @ 335us\n",
      "\n",
      "[10:56:01] MakeCuts: 0.000403s, 1 calls @ 403us\n",
      "\n",
      "[10:56:01] DEBUG: C:\\buildkite-agent\\builds\\buildkite-windows-cpu-autoscaling-group-i-0cec3277c4d9d0165-1\\xgboost\\xgboost-ci-windows\\src\\gbm\\gbtree.cc:130: Using tree method: 0\n",
      "[0]\tvalidation_0-mlogloss:1.57428\n",
      "[1]\tvalidation_0-mlogloss:1.44757\n",
      "[2]\tvalidation_0-mlogloss:1.32995\n",
      "[3]\tvalidation_0-mlogloss:1.26783\n",
      "[4]\tvalidation_0-mlogloss:1.22027\n",
      "[5]\tvalidation_0-mlogloss:1.18273\n",
      "[6]\tvalidation_0-mlogloss:1.14200\n",
      "[7]\tvalidation_0-mlogloss:1.11849\n",
      "[8]\tvalidation_0-mlogloss:1.09716\n",
      "[9]\tvalidation_0-mlogloss:1.08835\n",
      "[10]\tvalidation_0-mlogloss:1.07333\n",
      "[11]\tvalidation_0-mlogloss:1.06824\n",
      "[12]\tvalidation_0-mlogloss:1.06374\n",
      "[13]\tvalidation_0-mlogloss:1.05422\n",
      "[14]\tvalidation_0-mlogloss:1.03888\n",
      "[15]\tvalidation_0-mlogloss:1.03514\n",
      "[16]\tvalidation_0-mlogloss:1.04087\n",
      "[17]\tvalidation_0-mlogloss:1.03322\n",
      "[18]\tvalidation_0-mlogloss:1.02774\n",
      "[19]\tvalidation_0-mlogloss:1.02783\n",
      "[20]\tvalidation_0-mlogloss:1.01934\n",
      "[21]\tvalidation_0-mlogloss:1.02207\n",
      "[22]\tvalidation_0-mlogloss:1.01668\n",
      "[23]\tvalidation_0-mlogloss:1.01363\n",
      "[24]\tvalidation_0-mlogloss:1.00977\n",
      "[25]\tvalidation_0-mlogloss:1.01438\n",
      "[26]\tvalidation_0-mlogloss:1.01625\n",
      "[27]\tvalidation_0-mlogloss:1.00717\n",
      "[28]\tvalidation_0-mlogloss:1.01441\n",
      "[29]\tvalidation_0-mlogloss:1.01505\n",
      "[30]\tvalidation_0-mlogloss:1.00868\n",
      "[31]\tvalidation_0-mlogloss:1.01102\n",
      "[32]\tvalidation_0-mlogloss:1.01289\n",
      "[33]\tvalidation_0-mlogloss:1.00965\n",
      "[34]\tvalidation_0-mlogloss:1.01023\n",
      "[35]\tvalidation_0-mlogloss:1.00399\n",
      "[36]\tvalidation_0-mlogloss:1.00051\n",
      "[37]\tvalidation_0-mlogloss:0.99949\n",
      "[38]\tvalidation_0-mlogloss:0.99597\n",
      "[39]\tvalidation_0-mlogloss:1.00207\n",
      "[40]\tvalidation_0-mlogloss:0.99434\n",
      "[41]\tvalidation_0-mlogloss:1.00001\n",
      "[42]\tvalidation_0-mlogloss:0.99805\n",
      "[43]\tvalidation_0-mlogloss:1.00121\n",
      "[44]\tvalidation_0-mlogloss:1.00462\n",
      "[45]\tvalidation_0-mlogloss:1.00489\n",
      "[46]\tvalidation_0-mlogloss:1.00267\n",
      "[47]\tvalidation_0-mlogloss:1.00253\n",
      "[48]\tvalidation_0-mlogloss:0.99939\n",
      "[49]\tvalidation_0-mlogloss:0.99156\n",
      "[50]\tvalidation_0-mlogloss:0.99486\n",
      "[51]\tvalidation_0-mlogloss:0.99992\n",
      "[52]\tvalidation_0-mlogloss:0.99469\n",
      "[53]\tvalidation_0-mlogloss:1.00376\n",
      "[54]\tvalidation_0-mlogloss:1.00636\n",
      "[55]\tvalidation_0-mlogloss:1.00331\n",
      "[56]\tvalidation_0-mlogloss:1.00200\n",
      "[57]\tvalidation_0-mlogloss:0.99949\n",
      "[58]\tvalidation_0-mlogloss:1.00339\n",
      "[59]\tvalidation_0-mlogloss:1.00408\n",
      "[60]\tvalidation_0-mlogloss:1.00408\n",
      "[61]\tvalidation_0-mlogloss:1.00623\n",
      "[62]\tvalidation_0-mlogloss:1.00376\n",
      "[63]\tvalidation_0-mlogloss:1.00542\n",
      "[64]\tvalidation_0-mlogloss:0.99960\n",
      "[65]\tvalidation_0-mlogloss:0.99617\n",
      "[66]\tvalidation_0-mlogloss:1.00099\n",
      "[67]\tvalidation_0-mlogloss:1.01043\n",
      "[68]\tvalidation_0-mlogloss:1.01012\n",
      "[69]\tvalidation_0-mlogloss:1.00947\n",
      "[70]\tvalidation_0-mlogloss:1.00898\n",
      "[71]\tvalidation_0-mlogloss:1.00882\n",
      "[72]\tvalidation_0-mlogloss:1.01788\n",
      "[73]\tvalidation_0-mlogloss:1.01580\n",
      "[74]\tvalidation_0-mlogloss:1.01775\n",
      "[75]\tvalidation_0-mlogloss:1.01208\n",
      "[76]\tvalidation_0-mlogloss:1.01209\n",
      "[77]\tvalidation_0-mlogloss:1.01268\n",
      "[78]\tvalidation_0-mlogloss:1.00942\n",
      "[79]\tvalidation_0-mlogloss:1.00653\n",
      "[80]\tvalidation_0-mlogloss:1.01064\n",
      "[81]\tvalidation_0-mlogloss:1.01106\n",
      "[82]\tvalidation_0-mlogloss:1.00934\n",
      "[83]\tvalidation_0-mlogloss:1.00492\n",
      "[84]\tvalidation_0-mlogloss:1.01024\n",
      "[85]\tvalidation_0-mlogloss:1.01424\n",
      "[86]\tvalidation_0-mlogloss:1.01176\n",
      "[87]\tvalidation_0-mlogloss:1.01436\n",
      "[88]\tvalidation_0-mlogloss:1.01339\n",
      "[89]\tvalidation_0-mlogloss:1.01538\n",
      "[90]\tvalidation_0-mlogloss:1.02163\n",
      "[91]\tvalidation_0-mlogloss:1.02231\n",
      "[92]\tvalidation_0-mlogloss:1.02136\n",
      "[93]\tvalidation_0-mlogloss:1.01692\n",
      "[94]\tvalidation_0-mlogloss:1.00876\n",
      "[95]\tvalidation_0-mlogloss:1.00754\n",
      "[96]\tvalidation_0-mlogloss:1.00818\n",
      "[97]\tvalidation_0-mlogloss:1.00855\n",
      "[98]\tvalidation_0-mlogloss:1.01460\n",
      "[99]\tvalidation_0-mlogloss:1.01125\n",
      "[10:56:02] ======== Monitor (0): Learner ========\n",
      "[10:56:02] Configure: 0.000653s, 1 calls @ 653us\n",
      "\n",
      "[10:56:02] EvalOneIter: 0.025503s, 100 calls @ 25503us\n",
      "\n",
      "[10:56:02] GetGradient: 0.024132s, 100 calls @ 24132us\n",
      "\n",
      "[10:56:02] PredictRaw: 0.000378s, 100 calls @ 378us\n",
      "\n",
      "[10:56:02] UpdateOneIter: 0.339596s, 100 calls @ 339596us\n",
      "\n",
      "[10:56:02] ======== Monitor (0): GBTree ========\n",
      "[10:56:02] BoostNewTrees: 0.312769s, 100 calls @ 312769us\n",
      "\n",
      "[10:56:02] CommitModel: 0.000155s, 100 calls @ 155us\n",
      "\n",
      "[10:56:02] ======== Monitor (0): HistUpdater ========\n",
      "[10:56:02] BuildHistogram: 0.092413s, 1977 calls @ 92413us\n",
      "\n",
      "[10:56:02] EvaluateSplits: 0.05478s, 2577 calls @ 54780us\n",
      "\n",
      "[10:56:02] InitData: 0.017097s, 600 calls @ 17097us\n",
      "\n",
      "[10:56:02] InitRoot: 0.043214s, 600 calls @ 43214us\n",
      "\n",
      "[10:56:02] LeafPartition: 0.000136s, 600 calls @ 136us\n",
      "\n",
      "[10:56:02] UpdatePosition: 0.052685s, 2211 calls @ 52685us\n",
      "\n",
      "[10:56:02] UpdatePredictionCache: 0.008125s, 600 calls @ 8125us\n",
      "\n",
      "[10:56:02] UpdateTree: 0.278081s, 600 calls @ 278081us\n",
      "\n",
      "[10:56:02] DEBUG: C:\\buildkite-agent\\builds\\buildkite-windows-cpu-autoscaling-group-i-0cec3277c4d9d0165-1\\xgboost\\xgboost-ci-windows\\src\\gbm\\gbtree.cc:130: Using tree method: 0\n"
     ]
    },
    {
     "name": "stderr",
     "output_type": "stream",
     "text": [
      "[I 2023-12-11 10:56:02,236] Trial 3 finished with value: 0.615625 and parameters: {'booster': 'gbtree', 'lambda': 0.5921736586558574, 'alpha': 0.8911296102918199, 'subsample': 0.16125027393040747, 'colsample_bytree': 0.2927708424315192}. Best is trial 0 with value: 0.425.\n"
     ]
    },
    {
     "name": "stdout",
     "output_type": "stream",
     "text": [
      "[10:56:02] ======== Monitor (0): HostSketchContainer ========\n",
      "[10:56:02] AllReduce: 0.000372s, 1 calls @ 372us\n",
      "\n",
      "[10:56:02] MakeCuts: 0.000433s, 1 calls @ 433us\n",
      "\n",
      "[10:56:02] DEBUG: C:\\buildkite-agent\\builds\\buildkite-windows-cpu-autoscaling-group-i-0cec3277c4d9d0165-1\\xgboost\\xgboost-ci-windows\\src\\gbm\\gbtree.cc:130: Using tree method: 0\n",
      "[0]\tvalidation_0-mlogloss:1.58882\n",
      "[1]\tvalidation_0-mlogloss:1.45412\n",
      "[2]\tvalidation_0-mlogloss:1.33974\n",
      "[3]\tvalidation_0-mlogloss:1.27031\n",
      "[4]\tvalidation_0-mlogloss:1.22171\n",
      "[5]\tvalidation_0-mlogloss:1.18433\n",
      "[6]\tvalidation_0-mlogloss:1.16134\n",
      "[7]\tvalidation_0-mlogloss:1.13384\n",
      "[8]\tvalidation_0-mlogloss:1.11310\n",
      "[9]\tvalidation_0-mlogloss:1.10353\n",
      "[10]\tvalidation_0-mlogloss:1.08692\n",
      "[11]\tvalidation_0-mlogloss:1.08290\n",
      "[12]\tvalidation_0-mlogloss:1.07810\n",
      "[13]\tvalidation_0-mlogloss:1.06392\n",
      "[14]\tvalidation_0-mlogloss:1.05652\n",
      "[15]\tvalidation_0-mlogloss:1.05027\n",
      "[16]\tvalidation_0-mlogloss:1.05208\n",
      "[17]\tvalidation_0-mlogloss:1.04100\n",
      "[18]\tvalidation_0-mlogloss:1.03601\n",
      "[19]\tvalidation_0-mlogloss:1.04003\n",
      "[20]\tvalidation_0-mlogloss:1.03631\n",
      "[21]\tvalidation_0-mlogloss:1.03946\n",
      "[22]\tvalidation_0-mlogloss:1.03342\n",
      "[23]\tvalidation_0-mlogloss:1.02815\n",
      "[24]\tvalidation_0-mlogloss:1.01636\n",
      "[25]\tvalidation_0-mlogloss:1.00934\n",
      "[26]\tvalidation_0-mlogloss:1.00726\n",
      "[27]\tvalidation_0-mlogloss:1.00319\n",
      "[28]\tvalidation_0-mlogloss:1.01069\n",
      "[29]\tvalidation_0-mlogloss:1.01597\n",
      "[30]\tvalidation_0-mlogloss:1.01709\n",
      "[31]\tvalidation_0-mlogloss:1.01734\n",
      "[32]\tvalidation_0-mlogloss:1.02045\n",
      "[33]\tvalidation_0-mlogloss:1.01797\n",
      "[34]\tvalidation_0-mlogloss:1.01961\n",
      "[35]\tvalidation_0-mlogloss:1.02997\n",
      "[36]\tvalidation_0-mlogloss:1.02515\n",
      "[37]\tvalidation_0-mlogloss:1.02053\n",
      "[38]\tvalidation_0-mlogloss:1.02842\n",
      "[39]\tvalidation_0-mlogloss:1.03321\n",
      "[40]\tvalidation_0-mlogloss:1.03393\n",
      "[41]\tvalidation_0-mlogloss:1.02879\n",
      "[42]\tvalidation_0-mlogloss:1.02872\n",
      "[43]\tvalidation_0-mlogloss:1.02550\n",
      "[44]\tvalidation_0-mlogloss:1.02482\n",
      "[45]\tvalidation_0-mlogloss:1.02520\n",
      "[46]\tvalidation_0-mlogloss:1.02270\n",
      "[47]\tvalidation_0-mlogloss:1.02230\n",
      "[48]\tvalidation_0-mlogloss:1.02592\n",
      "[49]\tvalidation_0-mlogloss:1.03234\n",
      "[50]\tvalidation_0-mlogloss:1.03430\n",
      "[51]\tvalidation_0-mlogloss:1.02859\n",
      "[52]\tvalidation_0-mlogloss:1.02838\n",
      "[53]\tvalidation_0-mlogloss:1.02843\n",
      "[54]\tvalidation_0-mlogloss:1.03163\n",
      "[55]\tvalidation_0-mlogloss:1.02897\n",
      "[56]\tvalidation_0-mlogloss:1.02627\n",
      "[57]\tvalidation_0-mlogloss:1.03407\n",
      "[58]\tvalidation_0-mlogloss:1.03756\n",
      "[59]\tvalidation_0-mlogloss:1.03672\n",
      "[60]\tvalidation_0-mlogloss:1.03710\n",
      "[61]\tvalidation_0-mlogloss:1.03838\n",
      "[62]\tvalidation_0-mlogloss:1.03521\n",
      "[63]\tvalidation_0-mlogloss:1.03576\n",
      "[64]\tvalidation_0-mlogloss:1.03315\n",
      "[65]\tvalidation_0-mlogloss:1.03279\n",
      "[66]\tvalidation_0-mlogloss:1.03315\n",
      "[67]\tvalidation_0-mlogloss:1.03282\n",
      "[68]\tvalidation_0-mlogloss:1.03105\n",
      "[69]\tvalidation_0-mlogloss:1.02997\n",
      "[70]\tvalidation_0-mlogloss:1.03130\n",
      "[71]\tvalidation_0-mlogloss:1.03100\n",
      "[72]\tvalidation_0-mlogloss:1.03939\n",
      "[73]\tvalidation_0-mlogloss:1.04269\n",
      "[74]\tvalidation_0-mlogloss:1.04740\n",
      "[75]\tvalidation_0-mlogloss:1.04555\n",
      "[76]\tvalidation_0-mlogloss:1.05002\n",
      "[77]\tvalidation_0-mlogloss:1.04937\n",
      "[78]\tvalidation_0-mlogloss:1.05279\n",
      "[79]\tvalidation_0-mlogloss:1.05257\n",
      "[80]\tvalidation_0-mlogloss:1.05736\n",
      "[81]\tvalidation_0-mlogloss:1.06214\n",
      "[82]\tvalidation_0-mlogloss:1.06256\n",
      "[83]\tvalidation_0-mlogloss:1.06593\n",
      "[84]\tvalidation_0-mlogloss:1.06646\n",
      "[85]\tvalidation_0-mlogloss:1.06818\n",
      "[86]\tvalidation_0-mlogloss:1.07152\n",
      "[87]\tvalidation_0-mlogloss:1.07504\n",
      "[88]\tvalidation_0-mlogloss:1.07552\n",
      "[89]\tvalidation_0-mlogloss:1.07905\n",
      "[90]\tvalidation_0-mlogloss:1.08435\n",
      "[91]\tvalidation_0-mlogloss:1.08624\n",
      "[92]\tvalidation_0-mlogloss:1.08436\n",
      "[93]\tvalidation_0-mlogloss:1.08442\n",
      "[94]\tvalidation_0-mlogloss:1.08547\n",
      "[95]\tvalidation_0-mlogloss:1.08364\n",
      "[96]\tvalidation_0-mlogloss:1.08378\n",
      "[97]\tvalidation_0-mlogloss:1.08773\n",
      "[98]\tvalidation_0-mlogloss:1.08741\n",
      "[99]\tvalidation_0-mlogloss:1.08806\n",
      "[10:56:02] ======== Monitor (0): Learner ========\n",
      "[10:56:02] Configure: 0.000747s, 1 calls @ 747us\n",
      "\n",
      "[10:56:02] EvalOneIter: 0.025095s, 100 calls @ 25095us\n",
      "\n",
      "[10:56:02] GetGradient: 0.023971s, 100 calls @ 23971us\n",
      "\n",
      "[10:56:02] PredictRaw: 0.000398s, 100 calls @ 398us\n",
      "\n",
      "[10:56:02] UpdateOneIter: 0.355521s, 100 calls @ 355521us\n",
      "\n",
      "[10:56:02] ======== Monitor (0): GBTree ========\n",
      "[10:56:02] BoostNewTrees: 0.328809s, 100 calls @ 328809us\n",
      "\n",
      "[10:56:02] CommitModel: 0.000155s, 100 calls @ 155us\n",
      "\n",
      "[10:56:02] ======== Monitor (0): HistUpdater ========\n",
      "[10:56:02] BuildHistogram: 0.100054s, 2141 calls @ 100054us\n",
      "\n",
      "[10:56:02] EvaluateSplits: 0.0531s, 2741 calls @ 53100us\n",
      "\n",
      "[10:56:02] InitData: 0.017275s, 600 calls @ 17275us\n",
      "\n",
      "[10:56:02] InitRoot: 0.041436s, 600 calls @ 41436us\n",
      "\n",
      "[10:56:02] LeafPartition: 0.000132s, 600 calls @ 132us\n",
      "\n",
      "[10:56:02] UpdatePosition: 0.058411s, 2440 calls @ 58411us\n",
      "\n",
      "[10:56:02] UpdatePredictionCache: 0.00865s, 600 calls @ 8650us\n",
      "\n",
      "[10:56:02] UpdateTree: 0.293259s, 600 calls @ 293259us\n",
      "\n",
      "[10:56:02] DEBUG: C:\\buildkite-agent\\builds\\buildkite-windows-cpu-autoscaling-group-i-0cec3277c4d9d0165-1\\xgboost\\xgboost-ci-windows\\src\\gbm\\gbtree.cc:130: Using tree method: 0\n"
     ]
    },
    {
     "name": "stderr",
     "output_type": "stream",
     "text": [
      "[I 2023-12-11 10:56:02,919] Trial 4 finished with value: 0.63125 and parameters: {'booster': 'gbtree', 'lambda': 0.9404501512536786, 'alpha': 0.2798003372154153, 'subsample': 0.22494059031941294, 'colsample_bytree': 0.18695569378804333}. Best is trial 0 with value: 0.425.\n"
     ]
    },
    {
     "name": "stdout",
     "output_type": "stream",
     "text": [
      "[0]\tvalidation_0-mlogloss:1.32063\n",
      "[1]\tvalidation_0-mlogloss:1.26576\n",
      "[2]\tvalidation_0-mlogloss:1.24117\n",
      "[3]\tvalidation_0-mlogloss:1.22676\n",
      "[4]\tvalidation_0-mlogloss:1.21676\n",
      "[5]\tvalidation_0-mlogloss:1.21004\n",
      "[6]\tvalidation_0-mlogloss:1.20579\n",
      "[7]\tvalidation_0-mlogloss:1.20316\n",
      "[8]\tvalidation_0-mlogloss:1.20148\n",
      "[9]\tvalidation_0-mlogloss:1.20031\n",
      "[10]\tvalidation_0-mlogloss:1.20014\n",
      "[11]\tvalidation_0-mlogloss:1.20038\n",
      "[12]\tvalidation_0-mlogloss:1.20076\n",
      "[13]\tvalidation_0-mlogloss:1.20146\n",
      "[14]\tvalidation_0-mlogloss:1.20221\n",
      "[15]\tvalidation_0-mlogloss:1.20296\n",
      "[16]\tvalidation_0-mlogloss:1.20357\n",
      "[17]\tvalidation_0-mlogloss:1.20409\n",
      "[18]\tvalidation_0-mlogloss:1.20449\n",
      "[19]\tvalidation_0-mlogloss:1.20481\n",
      "[20]\tvalidation_0-mlogloss:1.20513\n",
      "[21]\tvalidation_0-mlogloss:1.20540\n",
      "[22]\tvalidation_0-mlogloss:1.20567\n",
      "[23]\tvalidation_0-mlogloss:1.20590\n",
      "[24]\tvalidation_0-mlogloss:1.20610\n",
      "[25]\tvalidation_0-mlogloss:1.20627\n",
      "[26]\tvalidation_0-mlogloss:1.20641\n",
      "[27]\tvalidation_0-mlogloss:1.20654\n",
      "[28]\tvalidation_0-mlogloss:1.20665\n",
      "[29]\tvalidation_0-mlogloss:1.20674\n",
      "[30]\tvalidation_0-mlogloss:1.20682\n",
      "[31]\tvalidation_0-mlogloss:1.20689\n",
      "[32]\tvalidation_0-mlogloss:1.20695\n",
      "[33]\tvalidation_0-mlogloss:1.20700\n",
      "[34]\tvalidation_0-mlogloss:1.20704\n",
      "[35]\tvalidation_0-mlogloss:1.20708\n",
      "[36]\tvalidation_0-mlogloss:1.20712\n",
      "[37]\tvalidation_0-mlogloss:1.20715\n",
      "[38]\tvalidation_0-mlogloss:1.20717\n",
      "[39]\tvalidation_0-mlogloss:1.20719\n",
      "[40]\tvalidation_0-mlogloss:1.20721\n",
      "[41]\tvalidation_0-mlogloss:1.20723\n",
      "[42]\tvalidation_0-mlogloss:1.20724\n",
      "[43]\tvalidation_0-mlogloss:1.20725\n",
      "[44]\tvalidation_0-mlogloss:1.20725\n",
      "[45]\tvalidation_0-mlogloss:1.20726\n",
      "[46]\tvalidation_0-mlogloss:1.20726\n",
      "[47]\tvalidation_0-mlogloss:1.20726\n",
      "[48]\tvalidation_0-mlogloss:1.20726\n",
      "[49]\tvalidation_0-mlogloss:1.20726\n",
      "[50]\tvalidation_0-mlogloss:1.20725\n",
      "[51]\tvalidation_0-mlogloss:1.20725\n",
      "[52]\tvalidation_0-mlogloss:1.20724\n",
      "[53]\tvalidation_0-mlogloss:1.20724\n",
      "[54]\tvalidation_0-mlogloss:1.20723\n",
      "[55]\tvalidation_0-mlogloss:1.20722\n",
      "[56]\tvalidation_0-mlogloss:1.20721\n",
      "[57]\tvalidation_0-mlogloss:1.20720\n"
     ]
    },
    {
     "name": "stderr",
     "output_type": "stream",
     "text": [
      "C:\\Users\\ASUS ZenBook\\AppData\\Local\\Programs\\Python\\Python310\\lib\\site-packages\\xgboost\\core.py:160: UserWarning: [10:56:02] WARNING: C:\\buildkite-agent\\builds\\buildkite-windows-cpu-autoscaling-group-i-0cec3277c4d9d0165-1\\xgboost\\xgboost-ci-windows\\src\\learner.cc:742: \n",
      "Parameters: { \"colsample_bytree\", \"subsample\" } are not used.\n",
      "\n",
      "  warnings.warn(smsg, UserWarning)\n"
     ]
    },
    {
     "name": "stdout",
     "output_type": "stream",
     "text": [
      "[58]\tvalidation_0-mlogloss:1.20719\n",
      "[59]\tvalidation_0-mlogloss:1.20718\n",
      "[60]\tvalidation_0-mlogloss:1.20717\n",
      "[61]\tvalidation_0-mlogloss:1.20715\n",
      "[62]\tvalidation_0-mlogloss:1.20714\n",
      "[63]\tvalidation_0-mlogloss:1.20713\n",
      "[64]\tvalidation_0-mlogloss:1.20712\n",
      "[65]\tvalidation_0-mlogloss:1.20711\n",
      "[66]\tvalidation_0-mlogloss:1.20709\n",
      "[67]\tvalidation_0-mlogloss:1.20708\n",
      "[68]\tvalidation_0-mlogloss:1.20707\n",
      "[69]\tvalidation_0-mlogloss:1.20705\n",
      "[70]\tvalidation_0-mlogloss:1.20704\n",
      "[71]\tvalidation_0-mlogloss:1.20703\n",
      "[72]\tvalidation_0-mlogloss:1.20702\n",
      "[73]\tvalidation_0-mlogloss:1.20700\n",
      "[74]\tvalidation_0-mlogloss:1.20699\n",
      "[75]\tvalidation_0-mlogloss:1.20698\n",
      "[76]\tvalidation_0-mlogloss:1.20697\n",
      "[77]\tvalidation_0-mlogloss:1.20695\n",
      "[78]\tvalidation_0-mlogloss:1.20694\n",
      "[79]\tvalidation_0-mlogloss:1.20693\n",
      "[80]\tvalidation_0-mlogloss:1.20692\n",
      "[81]\tvalidation_0-mlogloss:1.20691\n",
      "[82]\tvalidation_0-mlogloss:1.20690\n",
      "[83]\tvalidation_0-mlogloss:1.20688\n",
      "[84]\tvalidation_0-mlogloss:1.20687\n",
      "[85]\tvalidation_0-mlogloss:1.20686\n",
      "[86]\tvalidation_0-mlogloss:1.20685\n",
      "[87]\tvalidation_0-mlogloss:1.20684\n",
      "[88]\tvalidation_0-mlogloss:1.20683\n",
      "[89]\tvalidation_0-mlogloss:1.20682\n",
      "[90]\tvalidation_0-mlogloss:1.20681\n",
      "[91]\tvalidation_0-mlogloss:1.20680\n",
      "[92]\tvalidation_0-mlogloss:1.20679\n",
      "[93]\tvalidation_0-mlogloss:1.20678\n",
      "[94]\tvalidation_0-mlogloss:1.20677\n",
      "[95]\tvalidation_0-mlogloss:1.20676\n",
      "[96]\tvalidation_0-mlogloss:1.20676\n",
      "[97]\tvalidation_0-mlogloss:1.20675\n",
      "[98]\tvalidation_0-mlogloss:1.20674\n",
      "[99]\tvalidation_0-mlogloss:1.20673\n",
      "[10:56:03] ======== Monitor (0): Learner ========\n"
     ]
    },
    {
     "name": "stderr",
     "output_type": "stream",
     "text": [
      "[I 2023-12-11 10:56:03,238] Trial 5 finished with value: 0.4375 and parameters: {'booster': 'gblinear', 'lambda': 0.40427018095646644, 'alpha': 0.31342326626471156, 'subsample': 0.1598500585886185, 'colsample_bytree': 0.13551906529917154}. Best is trial 0 with value: 0.425.\n"
     ]
    },
    {
     "name": "stdout",
     "output_type": "stream",
     "text": [
      "[10:56:03] Configure: 0.001058s, 1 calls @ 1058us\n",
      "\n",
      "[10:56:03] EvalOneIter: 0.013198s, 100 calls @ 13198us\n",
      "\n",
      "[10:56:03] GetGradient: 0.024438s, 100 calls @ 24438us\n",
      "\n",
      "[10:56:03] PredictRaw: 0.00672s, 100 calls @ 6720us\n",
      "\n",
      "[10:56:03] UpdateOneIter: 0.082702s, 100 calls @ 82702us\n",
      "\n",
      "[10:56:03] ======== Monitor (0): GBLinear ========\n",
      "[10:56:03] DoBoost: 0.04916s, 100 calls @ 49160us\n",
      "\n",
      "[10:56:03] PredictBatch: 0.009056s, 200 calls @ 9056us\n",
      "\n",
      "[10:56:03] PredictBatchInternal: 0.008729s, 200 calls @ 8729us\n",
      "\n",
      "[0]\tvalidation_0-mlogloss:1.41141\n",
      "[1]\tvalidation_0-mlogloss:1.31761\n",
      "[2]\tvalidation_0-mlogloss:1.27198\n",
      "[3]\tvalidation_0-mlogloss:1.24646\n",
      "[4]\tvalidation_0-mlogloss:1.23198\n",
      "[5]\tvalidation_0-mlogloss:1.22263\n",
      "[6]\tvalidation_0-mlogloss:1.21591\n",
      "[7]\tvalidation_0-mlogloss:1.21144\n",
      "[8]\tvalidation_0-mlogloss:1.20889\n",
      "[9]\tvalidation_0-mlogloss:1.20775\n",
      "[10]\tvalidation_0-mlogloss:1.20750\n",
      "[11]\tvalidation_0-mlogloss:1.20776\n",
      "[12]\tvalidation_0-mlogloss:1.20826\n",
      "[13]\tvalidation_0-mlogloss:1.20884\n",
      "[14]\tvalidation_0-mlogloss:1.20940\n",
      "[15]\tvalidation_0-mlogloss:1.20990\n",
      "[16]\tvalidation_0-mlogloss:1.21031\n",
      "[17]\tvalidation_0-mlogloss:1.21064\n",
      "[18]\tvalidation_0-mlogloss:1.21089\n",
      "[19]\tvalidation_0-mlogloss:1.21107\n",
      "[20]\tvalidation_0-mlogloss:1.21121\n",
      "[21]\tvalidation_0-mlogloss:1.21129\n",
      "[22]\tvalidation_0-mlogloss:1.21135\n",
      "[23]\tvalidation_0-mlogloss:1.21139\n",
      "[24]\tvalidation_0-mlogloss:1.21140\n",
      "[25]\tvalidation_0-mlogloss:1.21141\n",
      "[26]\tvalidation_0-mlogloss:1.21140\n",
      "[27]\tvalidation_0-mlogloss:1.21139\n",
      "[28]\tvalidation_0-mlogloss:1.21138\n",
      "[29]\tvalidation_0-mlogloss:1.21136\n",
      "[30]\tvalidation_0-mlogloss:1.21134\n",
      "[31]\tvalidation_0-mlogloss:1.21132\n",
      "[32]\tvalidation_0-mlogloss:1.21131\n",
      "[33]\tvalidation_0-mlogloss:1.21129\n",
      "[34]\tvalidation_0-mlogloss:1.21127\n",
      "[35]\tvalidation_0-mlogloss:1.21125\n",
      "[36]\tvalidation_0-mlogloss:1.21124\n",
      "[37]\tvalidation_0-mlogloss:1.21122\n",
      "[38]\tvalidation_0-mlogloss:1.21121\n",
      "[39]\tvalidation_0-mlogloss:1.21119\n",
      "[40]\tvalidation_0-mlogloss:1.21118\n",
      "[41]\tvalidation_0-mlogloss:1.21117\n",
      "[42]\tvalidation_0-mlogloss:1.21116\n",
      "[43]\tvalidation_0-mlogloss:1.21115\n",
      "[44]\tvalidation_0-mlogloss:1.21114\n",
      "[45]\tvalidation_0-mlogloss:1.21113\n",
      "[46]\tvalidation_0-mlogloss:1.21112\n",
      "[47]\tvalidation_0-mlogloss:1.21111\n",
      "[48]\tvalidation_0-mlogloss:1.21110\n",
      "[49]\tvalidation_0-mlogloss:1.21110\n",
      "[50]\tvalidation_0-mlogloss:1.21109\n",
      "[51]\tvalidation_0-mlogloss:1.21109\n",
      "[52]\tvalidation_0-mlogloss:1.21108\n",
      "[53]\tvalidation_0-mlogloss:1.21108\n",
      "[54]\tvalidation_0-mlogloss:1.21107\n",
      "[55]\tvalidation_0-mlogloss:1.21107\n",
      "[56]\tvalidation_0-mlogloss:1.21106\n",
      "[57]\tvalidation_0-mlogloss:1.21106\n"
     ]
    },
    {
     "name": "stderr",
     "output_type": "stream",
     "text": [
      "C:\\Users\\ASUS ZenBook\\AppData\\Local\\Programs\\Python\\Python310\\lib\\site-packages\\xgboost\\core.py:160: UserWarning: [10:56:03] WARNING: C:\\buildkite-agent\\builds\\buildkite-windows-cpu-autoscaling-group-i-0cec3277c4d9d0165-1\\xgboost\\xgboost-ci-windows\\src\\learner.cc:742: \n",
      "Parameters: { \"colsample_bytree\", \"subsample\" } are not used.\n",
      "\n",
      "  warnings.warn(smsg, UserWarning)\n"
     ]
    },
    {
     "name": "stdout",
     "output_type": "stream",
     "text": [
      "[58]\tvalidation_0-mlogloss:1.21105\n",
      "[59]\tvalidation_0-mlogloss:1.21105\n",
      "[60]\tvalidation_0-mlogloss:1.21105\n",
      "[61]\tvalidation_0-mlogloss:1.21104\n",
      "[62]\tvalidation_0-mlogloss:1.21104\n",
      "[63]\tvalidation_0-mlogloss:1.21104\n",
      "[64]\tvalidation_0-mlogloss:1.21104\n",
      "[65]\tvalidation_0-mlogloss:1.21103\n",
      "[66]\tvalidation_0-mlogloss:1.21103\n",
      "[67]\tvalidation_0-mlogloss:1.21103\n",
      "[68]\tvalidation_0-mlogloss:1.21103\n",
      "[69]\tvalidation_0-mlogloss:1.21103\n",
      "[70]\tvalidation_0-mlogloss:1.21103\n",
      "[71]\tvalidation_0-mlogloss:1.21102\n",
      "[72]\tvalidation_0-mlogloss:1.21102\n",
      "[73]\tvalidation_0-mlogloss:1.21102\n",
      "[74]\tvalidation_0-mlogloss:1.21102\n",
      "[75]\tvalidation_0-mlogloss:1.21102\n",
      "[76]\tvalidation_0-mlogloss:1.21102\n",
      "[77]\tvalidation_0-mlogloss:1.21102\n",
      "[78]\tvalidation_0-mlogloss:1.21102\n",
      "[79]\tvalidation_0-mlogloss:1.21101\n",
      "[80]\tvalidation_0-mlogloss:1.21101\n",
      "[81]\tvalidation_0-mlogloss:1.21101\n",
      "[82]\tvalidation_0-mlogloss:1.21101\n",
      "[83]\tvalidation_0-mlogloss:1.21101\n",
      "[84]\tvalidation_0-mlogloss:1.21101\n",
      "[85]\tvalidation_0-mlogloss:1.21101\n",
      "[86]\tvalidation_0-mlogloss:1.21101\n",
      "[87]\tvalidation_0-mlogloss:1.21101\n",
      "[88]\tvalidation_0-mlogloss:1.21101\n",
      "[89]\tvalidation_0-mlogloss:1.21101\n",
      "[90]\tvalidation_0-mlogloss:1.21101\n",
      "[91]\tvalidation_0-mlogloss:1.21101\n",
      "[92]\tvalidation_0-mlogloss:1.21101\n",
      "[93]\tvalidation_0-mlogloss:1.21101\n",
      "[94]\tvalidation_0-mlogloss:1.21101\n",
      "[95]\tvalidation_0-mlogloss:1.21101\n",
      "[96]\tvalidation_0-mlogloss:1.21101\n",
      "[97]\tvalidation_0-mlogloss:1.21101\n",
      "[98]\tvalidation_0-mlogloss:1.21101\n",
      "[99]\tvalidation_0-mlogloss:1.21100\n",
      "[10:56:03] ======== Monitor (0): Learner ========\n",
      "[10:56:03] Configure: 0.001384s, 1 calls @ 1384us\n",
      "\n",
      "[10:56:03] EvalOneIter: 0.012728s, 100 calls @ 12728us\n",
      "\n",
      "[10:56:03] GetGradient: 0.02432s, 100 calls @ 24320us\n",
      "\n",
      "[10:56:03] PredictRaw: 0.006607s, 100 calls @ 6607us\n",
      "\n",
      "[10:56:03] UpdateOneIter: 0.07997s, 100 calls @ 79970us\n",
      "\n",
      "[10:56:03] ======== Monitor (0): GBLinear ========\n",
      "[10:56:03] DoBoost: 0.046415s, 100 calls @ 46415us\n",
      "\n",
      "[10:56:03] PredictBatch: 0.008856s, 200 calls @ 8856us\n",
      "\n",
      "[10:56:03] PredictBatchInternal: 0.008525s, 200 calls @ 8525us\n",
      "\n"
     ]
    },
    {
     "name": "stderr",
     "output_type": "stream",
     "text": [
      "[I 2023-12-11 10:56:03,554] Trial 6 finished with value: 0.425 and parameters: {'booster': 'gblinear', 'lambda': 0.005542564223782347, 'alpha': 0.9835560061921342, 'subsample': 0.33053028704008636, 'colsample_bytree': 0.29795728141893074}. Best is trial 0 with value: 0.425.\n"
     ]
    },
    {
     "name": "stdout",
     "output_type": "stream",
     "text": [
      "[0]\tvalidation_0-mlogloss:1.33251\n",
      "[1]\tvalidation_0-mlogloss:1.27455\n",
      "[2]\tvalidation_0-mlogloss:1.24738\n",
      "[3]\tvalidation_0-mlogloss:1.23183\n",
      "[4]\tvalidation_0-mlogloss:1.22009\n",
      "[5]\tvalidation_0-mlogloss:1.21327\n",
      "[6]\tvalidation_0-mlogloss:1.20857\n",
      "[7]\tvalidation_0-mlogloss:1.20567\n",
      "[8]\tvalidation_0-mlogloss:1.20371\n",
      "[9]\tvalidation_0-mlogloss:1.20211\n",
      "[10]\tvalidation_0-mlogloss:1.20143\n",
      "[11]\tvalidation_0-mlogloss:1.20093\n",
      "[12]\tvalidation_0-mlogloss:1.20146\n",
      "[13]\tvalidation_0-mlogloss:1.20181\n",
      "[14]\tvalidation_0-mlogloss:1.20244\n",
      "[15]\tvalidation_0-mlogloss:1.20302\n",
      "[16]\tvalidation_0-mlogloss:1.20358\n",
      "[17]\tvalidation_0-mlogloss:1.20416\n",
      "[18]\tvalidation_0-mlogloss:1.20473\n",
      "[19]\tvalidation_0-mlogloss:1.20523\n",
      "[20]\tvalidation_0-mlogloss:1.20567\n",
      "[21]\tvalidation_0-mlogloss:1.20606\n",
      "[22]\tvalidation_0-mlogloss:1.20639\n",
      "[23]\tvalidation_0-mlogloss:1.20668\n",
      "[24]\tvalidation_0-mlogloss:1.20693\n",
      "[25]\tvalidation_0-mlogloss:1.20715\n",
      "[26]\tvalidation_0-mlogloss:1.20735\n",
      "[27]\tvalidation_0-mlogloss:1.20752\n",
      "[28]\tvalidation_0-mlogloss:1.20767\n",
      "[29]\tvalidation_0-mlogloss:1.20781\n",
      "[30]\tvalidation_0-mlogloss:1.20794\n",
      "[31]\tvalidation_0-mlogloss:1.20806\n",
      "[32]\tvalidation_0-mlogloss:1.20816\n",
      "[33]\tvalidation_0-mlogloss:1.20826\n",
      "[34]\tvalidation_0-mlogloss:1.20834\n",
      "[35]\tvalidation_0-mlogloss:1.20842\n",
      "[36]\tvalidation_0-mlogloss:1.20850\n",
      "[37]\tvalidation_0-mlogloss:1.20856\n",
      "[38]\tvalidation_0-mlogloss:1.20863\n",
      "[39]\tvalidation_0-mlogloss:1.20868\n",
      "[40]\tvalidation_0-mlogloss:1.20873\n",
      "[41]\tvalidation_0-mlogloss:1.20878\n",
      "[42]\tvalidation_0-mlogloss:1.20882\n",
      "[43]\tvalidation_0-mlogloss:1.20886\n",
      "[44]\tvalidation_0-mlogloss:1.20889\n",
      "[45]\tvalidation_0-mlogloss:1.20893\n",
      "[46]\tvalidation_0-mlogloss:1.20895\n",
      "[47]\tvalidation_0-mlogloss:1.20898\n",
      "[48]\tvalidation_0-mlogloss:1.20900\n",
      "[49]\tvalidation_0-mlogloss:1.20902\n",
      "[50]\tvalidation_0-mlogloss:1.20904\n",
      "[51]\tvalidation_0-mlogloss:1.20906\n",
      "[52]\tvalidation_0-mlogloss:1.20907\n",
      "[53]\tvalidation_0-mlogloss:1.20909\n"
     ]
    },
    {
     "name": "stderr",
     "output_type": "stream",
     "text": [
      "C:\\Users\\ASUS ZenBook\\AppData\\Local\\Programs\\Python\\Python310\\lib\\site-packages\\xgboost\\core.py:160: UserWarning: [10:56:03] WARNING: C:\\buildkite-agent\\builds\\buildkite-windows-cpu-autoscaling-group-i-0cec3277c4d9d0165-1\\xgboost\\xgboost-ci-windows\\src\\learner.cc:742: \n",
      "Parameters: { \"colsample_bytree\", \"subsample\" } are not used.\n",
      "\n",
      "  warnings.warn(smsg, UserWarning)\n"
     ]
    },
    {
     "name": "stdout",
     "output_type": "stream",
     "text": [
      "[54]\tvalidation_0-mlogloss:1.20910\n",
      "[55]\tvalidation_0-mlogloss:1.20911\n",
      "[56]\tvalidation_0-mlogloss:1.20912\n",
      "[57]\tvalidation_0-mlogloss:1.20912\n",
      "[58]\tvalidation_0-mlogloss:1.20913\n",
      "[59]\tvalidation_0-mlogloss:1.20913\n",
      "[60]\tvalidation_0-mlogloss:1.20914\n",
      "[61]\tvalidation_0-mlogloss:1.20914\n",
      "[62]\tvalidation_0-mlogloss:1.20914\n",
      "[63]\tvalidation_0-mlogloss:1.20915\n",
      "[64]\tvalidation_0-mlogloss:1.20915\n",
      "[65]\tvalidation_0-mlogloss:1.20915\n",
      "[66]\tvalidation_0-mlogloss:1.20915\n",
      "[67]\tvalidation_0-mlogloss:1.20915\n",
      "[68]\tvalidation_0-mlogloss:1.20915\n",
      "[69]\tvalidation_0-mlogloss:1.20914\n",
      "[70]\tvalidation_0-mlogloss:1.20914\n",
      "[71]\tvalidation_0-mlogloss:1.20914\n",
      "[72]\tvalidation_0-mlogloss:1.20914\n",
      "[73]\tvalidation_0-mlogloss:1.20914\n",
      "[74]\tvalidation_0-mlogloss:1.20913\n",
      "[75]\tvalidation_0-mlogloss:1.20913\n",
      "[76]\tvalidation_0-mlogloss:1.20913\n",
      "[77]\tvalidation_0-mlogloss:1.20913\n",
      "[78]\tvalidation_0-mlogloss:1.20912\n",
      "[79]\tvalidation_0-mlogloss:1.20912\n",
      "[80]\tvalidation_0-mlogloss:1.20912\n",
      "[81]\tvalidation_0-mlogloss:1.20911\n",
      "[82]\tvalidation_0-mlogloss:1.20911\n",
      "[83]\tvalidation_0-mlogloss:1.20910\n",
      "[84]\tvalidation_0-mlogloss:1.20910\n",
      "[85]\tvalidation_0-mlogloss:1.20910\n",
      "[86]\tvalidation_0-mlogloss:1.20909\n",
      "[87]\tvalidation_0-mlogloss:1.20909\n",
      "[88]\tvalidation_0-mlogloss:1.20909\n",
      "[89]\tvalidation_0-mlogloss:1.20908\n",
      "[90]\tvalidation_0-mlogloss:1.20908\n",
      "[91]\tvalidation_0-mlogloss:1.20907\n",
      "[92]\tvalidation_0-mlogloss:1.20907\n",
      "[93]\tvalidation_0-mlogloss:1.20907\n",
      "[94]\tvalidation_0-mlogloss:1.20906\n",
      "[95]\tvalidation_0-mlogloss:1.20906\n",
      "[96]\tvalidation_0-mlogloss:1.20906\n",
      "[97]\tvalidation_0-mlogloss:1.20905\n",
      "[98]\tvalidation_0-mlogloss:1.20905\n",
      "[99]\tvalidation_0-mlogloss:1.20905\n",
      "[10:56:03] ======== Monitor (0): Learner ========\n",
      "[10:56:03] Configure: 0.001161s, 1 calls @ 1161us\n",
      "\n",
      "[10:56:03] EvalOneIter: 0.0136s, 100 calls @ 13600us\n",
      "\n",
      "[10:56:03] GetGradient: 0.024268s, 100 calls @ 24268us\n",
      "\n",
      "[10:56:03] PredictRaw: 0.006746s, 100 calls @ 6746us\n",
      "\n",
      "[10:56:03] UpdateOneIter: 0.083216s, 100 calls @ 83216us\n",
      "\n",
      "[10:56:03] ======== Monitor (0): GBLinear ========\n",
      "[10:56:03] DoBoost: 0.049626s, 100 calls @ 49626us\n",
      "\n",
      "[10:56:03] PredictBatch: 0.0092s, 200 calls @ 9200us\n",
      "\n",
      "[10:56:03] PredictBatchInternal: 0.008835s, 200 calls @ 8835us\n",
      "\n"
     ]
    },
    {
     "name": "stderr",
     "output_type": "stream",
     "text": [
      "[I 2023-12-11 10:56:03,879] Trial 7 finished with value: 0.428125 and parameters: {'booster': 'gblinear', 'lambda': 0.46597339512249597, 'alpha': 0.36742649437941366, 'subsample': 0.47223540475379056, 'colsample_bytree': 0.11331083657146963}. Best is trial 0 with value: 0.425.\n"
     ]
    },
    {
     "name": "stdout",
     "output_type": "stream",
     "text": [
      "[0]\tvalidation_0-mlogloss:1.28984\n",
      "[1]\tvalidation_0-mlogloss:1.24180\n",
      "[2]\tvalidation_0-mlogloss:1.22738\n",
      "[3]\tvalidation_0-mlogloss:1.21932\n",
      "[4]\tvalidation_0-mlogloss:1.21432\n",
      "[5]\tvalidation_0-mlogloss:1.20997\n",
      "[6]\tvalidation_0-mlogloss:1.20658\n",
      "[7]\tvalidation_0-mlogloss:1.20436\n",
      "[8]\tvalidation_0-mlogloss:1.20287\n",
      "[9]\tvalidation_0-mlogloss:1.20171\n",
      "[10]\tvalidation_0-mlogloss:1.20124\n",
      "[11]\tvalidation_0-mlogloss:1.20080\n",
      "[12]\tvalidation_0-mlogloss:1.20035\n",
      "[13]\tvalidation_0-mlogloss:1.19995\n",
      "[14]\tvalidation_0-mlogloss:1.19954\n",
      "[15]\tvalidation_0-mlogloss:1.19889\n",
      "[16]\tvalidation_0-mlogloss:1.19866\n",
      "[17]\tvalidation_0-mlogloss:1.19824\n",
      "[18]\tvalidation_0-mlogloss:1.19784\n",
      "[19]\tvalidation_0-mlogloss:1.19773\n",
      "[20]\tvalidation_0-mlogloss:1.19783\n",
      "[21]\tvalidation_0-mlogloss:1.19804\n",
      "[22]\tvalidation_0-mlogloss:1.19849\n",
      "[23]\tvalidation_0-mlogloss:1.19882\n",
      "[24]\tvalidation_0-mlogloss:1.19902\n",
      "[25]\tvalidation_0-mlogloss:1.19928\n",
      "[26]\tvalidation_0-mlogloss:1.19942\n",
      "[27]\tvalidation_0-mlogloss:1.19946\n",
      "[28]\tvalidation_0-mlogloss:1.19947\n",
      "[29]\tvalidation_0-mlogloss:1.19948\n",
      "[30]\tvalidation_0-mlogloss:1.19950\n",
      "[31]\tvalidation_0-mlogloss:1.19944\n",
      "[32]\tvalidation_0-mlogloss:1.19944\n",
      "[33]\tvalidation_0-mlogloss:1.19942\n",
      "[34]\tvalidation_0-mlogloss:1.19939\n",
      "[35]\tvalidation_0-mlogloss:1.19929\n",
      "[36]\tvalidation_0-mlogloss:1.19927\n",
      "[37]\tvalidation_0-mlogloss:1.19923\n",
      "[38]\tvalidation_0-mlogloss:1.19913\n",
      "[39]\tvalidation_0-mlogloss:1.19908\n",
      "[40]\tvalidation_0-mlogloss:1.19902\n",
      "[41]\tvalidation_0-mlogloss:1.19896\n",
      "[42]\tvalidation_0-mlogloss:1.19890\n",
      "[43]\tvalidation_0-mlogloss:1.19877\n",
      "[44]\tvalidation_0-mlogloss:1.19867\n",
      "[45]\tvalidation_0-mlogloss:1.19863\n",
      "[46]\tvalidation_0-mlogloss:1.19859\n",
      "[47]\tvalidation_0-mlogloss:1.19858\n",
      "[48]\tvalidation_0-mlogloss:1.19855\n",
      "[49]\tvalidation_0-mlogloss:1.19856\n",
      "[50]\tvalidation_0-mlogloss:1.19858\n",
      "[51]\tvalidation_0-mlogloss:1.19856\n",
      "[52]\tvalidation_0-mlogloss:1.19853\n",
      "[53]\tvalidation_0-mlogloss:1.19850\n",
      "[54]\tvalidation_0-mlogloss:1.19842\n",
      "[55]\tvalidation_0-mlogloss:1.19841\n"
     ]
    },
    {
     "name": "stderr",
     "output_type": "stream",
     "text": [
      "C:\\Users\\ASUS ZenBook\\AppData\\Local\\Programs\\Python\\Python310\\lib\\site-packages\\xgboost\\core.py:160: UserWarning: [10:56:03] WARNING: C:\\buildkite-agent\\builds\\buildkite-windows-cpu-autoscaling-group-i-0cec3277c4d9d0165-1\\xgboost\\xgboost-ci-windows\\src\\learner.cc:742: \n",
      "Parameters: { \"colsample_bytree\", \"subsample\" } are not used.\n",
      "\n",
      "  warnings.warn(smsg, UserWarning)\n"
     ]
    },
    {
     "name": "stdout",
     "output_type": "stream",
     "text": [
      "[56]\tvalidation_0-mlogloss:1.19836\n",
      "[57]\tvalidation_0-mlogloss:1.19832\n",
      "[58]\tvalidation_0-mlogloss:1.19827\n",
      "[59]\tvalidation_0-mlogloss:1.19823\n",
      "[60]\tvalidation_0-mlogloss:1.19818\n",
      "[61]\tvalidation_0-mlogloss:1.19814\n",
      "[62]\tvalidation_0-mlogloss:1.19809\n",
      "[63]\tvalidation_0-mlogloss:1.19804\n",
      "[64]\tvalidation_0-mlogloss:1.19799\n",
      "[65]\tvalidation_0-mlogloss:1.19795\n",
      "[66]\tvalidation_0-mlogloss:1.19789\n",
      "[67]\tvalidation_0-mlogloss:1.19785\n",
      "[68]\tvalidation_0-mlogloss:1.19780\n",
      "[69]\tvalidation_0-mlogloss:1.19775\n",
      "[70]\tvalidation_0-mlogloss:1.19770\n",
      "[71]\tvalidation_0-mlogloss:1.19767\n",
      "[72]\tvalidation_0-mlogloss:1.19762\n",
      "[73]\tvalidation_0-mlogloss:1.19755\n",
      "[74]\tvalidation_0-mlogloss:1.19752\n",
      "[75]\tvalidation_0-mlogloss:1.19749\n",
      "[76]\tvalidation_0-mlogloss:1.19743\n",
      "[77]\tvalidation_0-mlogloss:1.19740\n",
      "[78]\tvalidation_0-mlogloss:1.19736\n",
      "[79]\tvalidation_0-mlogloss:1.19730\n",
      "[80]\tvalidation_0-mlogloss:1.19726\n",
      "[81]\tvalidation_0-mlogloss:1.19721\n",
      "[82]\tvalidation_0-mlogloss:1.19718\n",
      "[83]\tvalidation_0-mlogloss:1.19713\n",
      "[84]\tvalidation_0-mlogloss:1.19709\n",
      "[85]\tvalidation_0-mlogloss:1.19705\n",
      "[86]\tvalidation_0-mlogloss:1.19701\n",
      "[87]\tvalidation_0-mlogloss:1.19697\n",
      "[88]\tvalidation_0-mlogloss:1.19694\n",
      "[89]\tvalidation_0-mlogloss:1.19690\n",
      "[90]\tvalidation_0-mlogloss:1.19687\n",
      "[91]\tvalidation_0-mlogloss:1.19683\n",
      "[92]\tvalidation_0-mlogloss:1.19679\n",
      "[93]\tvalidation_0-mlogloss:1.19676\n",
      "[94]\tvalidation_0-mlogloss:1.19673\n",
      "[95]\tvalidation_0-mlogloss:1.19669\n",
      "[96]\tvalidation_0-mlogloss:1.19666\n",
      "[97]\tvalidation_0-mlogloss:1.19663\n",
      "[98]\tvalidation_0-mlogloss:1.19660\n",
      "[99]\tvalidation_0-mlogloss:1.19657\n",
      "[10:56:04] ======== Monitor (0): Learner ========\n",
      "[10:56:04] Configure: 0.001111s, 1 calls @ 1111us\n",
      "\n",
      "[10:56:04] EvalOneIter: 0.012944s, 100 calls @ 12944us\n",
      "\n",
      "[10:56:04] GetGradient: 0.023683s, 100 calls @ 23683us\n",
      "\n",
      "[10:56:04] PredictRaw: 0.006571s, 100 calls @ 6571us\n",
      "\n",
      "[10:56:04] UpdateOneIter: 0.084573s, 100 calls @ 84573us\n",
      "\n",
      "[10:56:04] ======== Monitor (0): GBLinear ========\n",
      "[10:56:04] DoBoost: 0.051795s, 100 calls @ 51795us\n",
      "\n",
      "[10:56:04] PredictBatch: 0.009156s, 200 calls @ 9156us\n",
      "\n",
      "[10:56:04] PredictBatchInternal: 0.008806s, 200 calls @ 8806us\n",
      "\n"
     ]
    },
    {
     "name": "stderr",
     "output_type": "stream",
     "text": [
      "[I 2023-12-11 10:56:04,204] Trial 8 finished with value: 0.471875 and parameters: {'booster': 'gblinear', 'lambda': 0.49075292246829477, 'alpha': 0.16023201600762255, 'subsample': 0.31761817232783496, 'colsample_bytree': 0.30046319390111287}. Best is trial 0 with value: 0.425.\n"
     ]
    },
    {
     "name": "stdout",
     "output_type": "stream",
     "text": [
      "[0]\tvalidation_0-mlogloss:1.32455\n",
      "[1]\tvalidation_0-mlogloss:1.27340\n",
      "[2]\tvalidation_0-mlogloss:1.24808\n",
      "[3]\tvalidation_0-mlogloss:1.23014\n",
      "[4]\tvalidation_0-mlogloss:1.21928\n",
      "[5]\tvalidation_0-mlogloss:1.21204\n",
      "[6]\tvalidation_0-mlogloss:1.20801\n",
      "[7]\tvalidation_0-mlogloss:1.20532\n",
      "[8]\tvalidation_0-mlogloss:1.20354\n",
      "[9]\tvalidation_0-mlogloss:1.20248\n",
      "[10]\tvalidation_0-mlogloss:1.20187\n",
      "[11]\tvalidation_0-mlogloss:1.20173\n",
      "[12]\tvalidation_0-mlogloss:1.20200\n",
      "[13]\tvalidation_0-mlogloss:1.20247\n",
      "[14]\tvalidation_0-mlogloss:1.20305\n",
      "[15]\tvalidation_0-mlogloss:1.20364\n",
      "[16]\tvalidation_0-mlogloss:1.20413\n",
      "[17]\tvalidation_0-mlogloss:1.20463\n",
      "[18]\tvalidation_0-mlogloss:1.20514\n",
      "[19]\tvalidation_0-mlogloss:1.20562\n",
      "[20]\tvalidation_0-mlogloss:1.20606\n",
      "[21]\tvalidation_0-mlogloss:1.20644\n",
      "[22]\tvalidation_0-mlogloss:1.20678\n",
      "[23]\tvalidation_0-mlogloss:1.20707\n",
      "[24]\tvalidation_0-mlogloss:1.20733\n",
      "[25]\tvalidation_0-mlogloss:1.20755\n",
      "[26]\tvalidation_0-mlogloss:1.20775\n",
      "[27]\tvalidation_0-mlogloss:1.20793\n",
      "[28]\tvalidation_0-mlogloss:1.20809\n",
      "[29]\tvalidation_0-mlogloss:1.20824\n",
      "[30]\tvalidation_0-mlogloss:1.20837\n",
      "[31]\tvalidation_0-mlogloss:1.20849\n",
      "[32]\tvalidation_0-mlogloss:1.20860\n",
      "[33]\tvalidation_0-mlogloss:1.20870\n",
      "[34]\tvalidation_0-mlogloss:1.20879\n",
      "[35]\tvalidation_0-mlogloss:1.20888\n",
      "[36]\tvalidation_0-mlogloss:1.20896\n",
      "[37]\tvalidation_0-mlogloss:1.20903\n",
      "[38]\tvalidation_0-mlogloss:1.20910\n",
      "[39]\tvalidation_0-mlogloss:1.20916\n",
      "[40]\tvalidation_0-mlogloss:1.20921\n",
      "[41]\tvalidation_0-mlogloss:1.20926\n",
      "[42]\tvalidation_0-mlogloss:1.20931\n",
      "[43]\tvalidation_0-mlogloss:1.20935\n",
      "[44]\tvalidation_0-mlogloss:1.20939\n",
      "[45]\tvalidation_0-mlogloss:1.20943\n",
      "[46]\tvalidation_0-mlogloss:1.20946\n",
      "[47]\tvalidation_0-mlogloss:1.20949\n",
      "[48]\tvalidation_0-mlogloss:1.20952\n",
      "[49]\tvalidation_0-mlogloss:1.20955\n",
      "[50]\tvalidation_0-mlogloss:1.20957\n",
      "[51]\tvalidation_0-mlogloss:1.20959\n",
      "[52]\tvalidation_0-mlogloss:1.20961\n",
      "[53]\tvalidation_0-mlogloss:1.20963\n",
      "[54]\tvalidation_0-mlogloss:1.20964\n",
      "[55]\tvalidation_0-mlogloss:1.20966\n",
      "[56]\tvalidation_0-mlogloss:1.20967\n",
      "[57]\tvalidation_0-mlogloss:1.20968\n",
      "[58]\tvalidation_0-mlogloss:1.20969\n",
      "[59]\tvalidation_0-mlogloss:1.20970\n",
      "[60]\tvalidation_0-mlogloss:1.20971"
     ]
    },
    {
     "name": "stderr",
     "output_type": "stream",
     "text": [
      "C:\\Users\\ASUS ZenBook\\AppData\\Local\\Programs\\Python\\Python310\\lib\\site-packages\\xgboost\\core.py:160: UserWarning: [10:56:04] WARNING: C:\\buildkite-agent\\builds\\buildkite-windows-cpu-autoscaling-group-i-0cec3277c4d9d0165-1\\xgboost\\xgboost-ci-windows\\src\\learner.cc:742: \n",
      "Parameters: { \"colsample_bytree\", \"subsample\" } are not used.\n",
      "\n",
      "  warnings.warn(smsg, UserWarning)\n"
     ]
    },
    {
     "name": "stdout",
     "output_type": "stream",
     "text": [
      "\n",
      "[61]\tvalidation_0-mlogloss:1.20972\n",
      "[62]\tvalidation_0-mlogloss:1.20972\n",
      "[63]\tvalidation_0-mlogloss:1.20973\n",
      "[64]\tvalidation_0-mlogloss:1.20973\n",
      "[65]\tvalidation_0-mlogloss:1.20974\n",
      "[66]\tvalidation_0-mlogloss:1.20974\n",
      "[67]\tvalidation_0-mlogloss:1.20975\n",
      "[68]\tvalidation_0-mlogloss:1.20975\n",
      "[69]\tvalidation_0-mlogloss:1.20975\n",
      "[70]\tvalidation_0-mlogloss:1.20975\n",
      "[71]\tvalidation_0-mlogloss:1.20975\n",
      "[72]\tvalidation_0-mlogloss:1.20975\n",
      "[73]\tvalidation_0-mlogloss:1.20975\n",
      "[74]\tvalidation_0-mlogloss:1.20975\n",
      "[75]\tvalidation_0-mlogloss:1.20975\n",
      "[76]\tvalidation_0-mlogloss:1.20975\n",
      "[77]\tvalidation_0-mlogloss:1.20975\n",
      "[78]\tvalidation_0-mlogloss:1.20975\n",
      "[79]\tvalidation_0-mlogloss:1.20975\n",
      "[80]\tvalidation_0-mlogloss:1.20975\n",
      "[81]\tvalidation_0-mlogloss:1.20975\n",
      "[82]\tvalidation_0-mlogloss:1.20975\n",
      "[83]\tvalidation_0-mlogloss:1.20975\n",
      "[84]\tvalidation_0-mlogloss:1.20975\n",
      "[85]\tvalidation_0-mlogloss:1.20975\n",
      "[86]\tvalidation_0-mlogloss:1.20974\n",
      "[87]\tvalidation_0-mlogloss:1.20974\n",
      "[88]\tvalidation_0-mlogloss:1.20974\n",
      "[89]\tvalidation_0-mlogloss:1.20974\n",
      "[90]\tvalidation_0-mlogloss:1.20974\n",
      "[91]\tvalidation_0-mlogloss:1.20974\n",
      "[92]\tvalidation_0-mlogloss:1.20973\n",
      "[93]\tvalidation_0-mlogloss:1.20973\n",
      "[94]\tvalidation_0-mlogloss:1.20973\n",
      "[95]\tvalidation_0-mlogloss:1.20973\n",
      "[96]\tvalidation_0-mlogloss:1.20973\n",
      "[97]\tvalidation_0-mlogloss:1.20972\n",
      "[98]\tvalidation_0-mlogloss:1.20972\n",
      "[99]\tvalidation_0-mlogloss:1.20972\n",
      "[10:56:04] ======== Monitor (0): Learner ========\n",
      "[10:56:04] Configure: 0.001141s, 1 calls @ 1141us\n",
      "\n",
      "[10:56:04] EvalOneIter: 0.013144s, 100 calls @ 13144us\n",
      "\n",
      "[10:56:04] GetGradient: 0.023859s, 100 calls @ 23859us\n",
      "\n",
      "[10:56:04] PredictRaw: 0.006803s, 100 calls @ 6803us\n",
      "\n",
      "[10:56:04] UpdateOneIter: 0.082442s, 100 calls @ 82442us\n",
      "\n",
      "[10:56:04] ======== Monitor (0): GBLinear ========\n",
      "[10:56:04] DoBoost: 0.049382s, 100 calls @ 49382us\n",
      "\n",
      "[10:56:04] PredictBatch: 0.008974s, 200 calls @ 8974us\n",
      "\n",
      "[10:56:04] PredictBatchInternal: 0.00863s, 200 calls @ 8630us\n",
      "\n"
     ]
    },
    {
     "name": "stderr",
     "output_type": "stream",
     "text": [
      "[I 2023-12-11 10:56:04,521] Trial 9 finished with value: 0.43125 and parameters: {'booster': 'gblinear', 'lambda': 0.007229593330676158, 'alpha': 0.3837107194642187, 'subsample': 0.3156047327341532, 'colsample_bytree': 0.3509297622397781}. Best is trial 0 with value: 0.425.\n"
     ]
    }
   ],
   "source": [
    "xgb_classification_oputuna.optimize(objective_classification , n_trials = 10 )"
   ]
  },
  {
   "cell_type": "code",
   "execution_count": 76,
   "id": "5bb46cb2-3b15-4194-a236-73b24dc7c959",
   "metadata": {},
   "outputs": [
    {
     "data": {
      "text/plain": [
       "{'booster': 'gblinear',\n",
       " 'lambda': 0.17381138712122818,\n",
       " 'alpha': 0.5580885938421619,\n",
       " 'subsample': 0.26742684992125043,\n",
       " 'colsample_bytree': 0.4724951900256583}"
      ]
     },
     "execution_count": 76,
     "metadata": {},
     "output_type": "execute_result"
    }
   ],
   "source": [
    "xgb_classification_oputuna.best_params"
   ]
  },
  {
   "cell_type": "code",
   "execution_count": 77,
   "id": "9329453c-5506-4ad3-b1ba-a74b1c7d113c",
   "metadata": {},
   "outputs": [],
   "source": [
    "param = xgb_classification_oputuna.best_trial.params"
   ]
  },
  {
   "cell_type": "code",
   "execution_count": 78,
   "id": "d56a82a6-c958-4f92-9969-f45e8d992d9a",
   "metadata": {},
   "outputs": [],
   "source": [
    "xgb_final_clas = xgboost.XGBClassifier(**param)"
   ]
  },
  {
   "cell_type": "code",
   "execution_count": 80,
   "id": "5f7deb5c-fb2e-46b9-b5c3-b399f7ee3a08",
   "metadata": {},
   "outputs": [
    {
     "name": "stderr",
     "output_type": "stream",
     "text": [
      "C:\\Users\\ASUS ZenBook\\AppData\\Local\\Programs\\Python\\Python310\\lib\\site-packages\\xgboost\\core.py:160: UserWarning: [10:57:30] WARNING: C:\\buildkite-agent\\builds\\buildkite-windows-cpu-autoscaling-group-i-0cec3277c4d9d0165-1\\xgboost\\xgboost-ci-windows\\src\\learner.cc:742: \n",
      "Parameters: { \"colsample_bytree\", \"subsample\" } are not used.\n",
      "\n",
      "  warnings.warn(smsg, UserWarning)\n"
     ]
    },
    {
     "data": {
      "text/html": [
       "<style>#sk-container-id-4 {color: black;}#sk-container-id-4 pre{padding: 0;}#sk-container-id-4 div.sk-toggleable {background-color: white;}#sk-container-id-4 label.sk-toggleable__label {cursor: pointer;display: block;width: 100%;margin-bottom: 0;padding: 0.3em;box-sizing: border-box;text-align: center;}#sk-container-id-4 label.sk-toggleable__label-arrow:before {content: \"▸\";float: left;margin-right: 0.25em;color: #696969;}#sk-container-id-4 label.sk-toggleable__label-arrow:hover:before {color: black;}#sk-container-id-4 div.sk-estimator:hover label.sk-toggleable__label-arrow:before {color: black;}#sk-container-id-4 div.sk-toggleable__content {max-height: 0;max-width: 0;overflow: hidden;text-align: left;background-color: #f0f8ff;}#sk-container-id-4 div.sk-toggleable__content pre {margin: 0.2em;color: black;border-radius: 0.25em;background-color: #f0f8ff;}#sk-container-id-4 input.sk-toggleable__control:checked~div.sk-toggleable__content {max-height: 200px;max-width: 100%;overflow: auto;}#sk-container-id-4 input.sk-toggleable__control:checked~label.sk-toggleable__label-arrow:before {content: \"▾\";}#sk-container-id-4 div.sk-estimator input.sk-toggleable__control:checked~label.sk-toggleable__label {background-color: #d4ebff;}#sk-container-id-4 div.sk-label input.sk-toggleable__control:checked~label.sk-toggleable__label {background-color: #d4ebff;}#sk-container-id-4 input.sk-hidden--visually {border: 0;clip: rect(1px 1px 1px 1px);clip: rect(1px, 1px, 1px, 1px);height: 1px;margin: -1px;overflow: hidden;padding: 0;position: absolute;width: 1px;}#sk-container-id-4 div.sk-estimator {font-family: monospace;background-color: #f0f8ff;border: 1px dotted black;border-radius: 0.25em;box-sizing: border-box;margin-bottom: 0.5em;}#sk-container-id-4 div.sk-estimator:hover {background-color: #d4ebff;}#sk-container-id-4 div.sk-parallel-item::after {content: \"\";width: 100%;border-bottom: 1px solid gray;flex-grow: 1;}#sk-container-id-4 div.sk-label:hover label.sk-toggleable__label {background-color: #d4ebff;}#sk-container-id-4 div.sk-serial::before {content: \"\";position: absolute;border-left: 1px solid gray;box-sizing: border-box;top: 0;bottom: 0;left: 50%;z-index: 0;}#sk-container-id-4 div.sk-serial {display: flex;flex-direction: column;align-items: center;background-color: white;padding-right: 0.2em;padding-left: 0.2em;position: relative;}#sk-container-id-4 div.sk-item {position: relative;z-index: 1;}#sk-container-id-4 div.sk-parallel {display: flex;align-items: stretch;justify-content: center;background-color: white;position: relative;}#sk-container-id-4 div.sk-item::before, #sk-container-id-4 div.sk-parallel-item::before {content: \"\";position: absolute;border-left: 1px solid gray;box-sizing: border-box;top: 0;bottom: 0;left: 50%;z-index: -1;}#sk-container-id-4 div.sk-parallel-item {display: flex;flex-direction: column;z-index: 1;position: relative;background-color: white;}#sk-container-id-4 div.sk-parallel-item:first-child::after {align-self: flex-end;width: 50%;}#sk-container-id-4 div.sk-parallel-item:last-child::after {align-self: flex-start;width: 50%;}#sk-container-id-4 div.sk-parallel-item:only-child::after {width: 0;}#sk-container-id-4 div.sk-dashed-wrapped {border: 1px dashed gray;margin: 0 0.4em 0.5em 0.4em;box-sizing: border-box;padding-bottom: 0.4em;background-color: white;}#sk-container-id-4 div.sk-label label {font-family: monospace;font-weight: bold;display: inline-block;line-height: 1.2em;}#sk-container-id-4 div.sk-label-container {text-align: center;}#sk-container-id-4 div.sk-container {/* jupyter's `normalize.less` sets `[hidden] { display: none; }` but bootstrap.min.css set `[hidden] { display: none !important; }` so we also need the `!important` here to be able to override the default hidden behavior on the sphinx rendered scikit-learn.org. See: https://github.com/scikit-learn/scikit-learn/issues/21755 */display: inline-block !important;position: relative;}#sk-container-id-4 div.sk-text-repr-fallback {display: none;}</style><div id=\"sk-container-id-4\" class=\"sk-top-container\"><div class=\"sk-text-repr-fallback\"><pre>XGBClassifier(alpha=0.5580885938421619, base_score=None, booster=&#x27;gblinear&#x27;,\n",
       "              callbacks=None, colsample_bylevel=None, colsample_bynode=None,\n",
       "              colsample_bytree=0.4724951900256583, device=None,\n",
       "              early_stopping_rounds=None, enable_categorical=False,\n",
       "              eval_metric=None, feature_types=None, gamma=None,\n",
       "              grow_policy=None, importance_type=None,\n",
       "              interaction_constraints=None, lambda=0.17381138712122818,\n",
       "              learning_rate=None, max_bin=None, max_cat_threshold=None,\n",
       "              max_cat_to_onehot=None, max_delta_step=None, max_depth=None,\n",
       "              max_leaves=None, min_child_weight=None, missing=nan,\n",
       "              monotone_constraints=None, multi_strategy=None, n_estimators=None,\n",
       "              n_jobs=None, ...)</pre><b>In a Jupyter environment, please rerun this cell to show the HTML representation or trust the notebook. <br />On GitHub, the HTML representation is unable to render, please try loading this page with nbviewer.org.</b></div><div class=\"sk-container\" hidden><div class=\"sk-item\"><div class=\"sk-estimator sk-toggleable\"><input class=\"sk-toggleable__control sk-hidden--visually\" id=\"sk-estimator-id-6\" type=\"checkbox\" checked><label for=\"sk-estimator-id-6\" class=\"sk-toggleable__label sk-toggleable__label-arrow\">XGBClassifier</label><div class=\"sk-toggleable__content\"><pre>XGBClassifier(alpha=0.5580885938421619, base_score=None, booster=&#x27;gblinear&#x27;,\n",
       "              callbacks=None, colsample_bylevel=None, colsample_bynode=None,\n",
       "              colsample_bytree=0.4724951900256583, device=None,\n",
       "              early_stopping_rounds=None, enable_categorical=False,\n",
       "              eval_metric=None, feature_types=None, gamma=None,\n",
       "              grow_policy=None, importance_type=None,\n",
       "              interaction_constraints=None, lambda=0.17381138712122818,\n",
       "              learning_rate=None, max_bin=None, max_cat_threshold=None,\n",
       "              max_cat_to_onehot=None, max_delta_step=None, max_depth=None,\n",
       "              max_leaves=None, min_child_weight=None, missing=nan,\n",
       "              monotone_constraints=None, multi_strategy=None, n_estimators=None,\n",
       "              n_jobs=None, ...)</pre></div></div></div></div></div>"
      ],
      "text/plain": [
       "XGBClassifier(alpha=0.5580885938421619, base_score=None, booster='gblinear',\n",
       "              callbacks=None, colsample_bylevel=None, colsample_bynode=None,\n",
       "              colsample_bytree=0.4724951900256583, device=None,\n",
       "              early_stopping_rounds=None, enable_categorical=False,\n",
       "              eval_metric=None, feature_types=None, gamma=None,\n",
       "              grow_policy=None, importance_type=None,\n",
       "              interaction_constraints=None, lambda=0.17381138712122818,\n",
       "              learning_rate=None, max_bin=None, max_cat_threshold=None,\n",
       "              max_cat_to_onehot=None, max_delta_step=None, max_depth=None,\n",
       "              max_leaves=None, min_child_weight=None, missing=nan,\n",
       "              monotone_constraints=None, multi_strategy=None, n_estimators=None,\n",
       "              n_jobs=None, ...)"
      ]
     },
     "execution_count": 80,
     "metadata": {},
     "output_type": "execute_result"
    }
   ],
   "source": [
    "xgb_final_clas.fit(x_train , y_train)"
   ]
  },
  {
   "cell_type": "code",
   "execution_count": 81,
   "id": "6800f8da-36b6-4587-8792-243dabeb90bc",
   "metadata": {},
   "outputs": [
    {
     "data": {
      "text/plain": [
       "0.446875"
      ]
     },
     "execution_count": 81,
     "metadata": {},
     "output_type": "execute_result"
    }
   ],
   "source": [
    "xgb_final_clas.score(x_test,y_test)"
   ]
  },
  {
   "cell_type": "code",
   "execution_count": null,
   "id": "a327a191",
   "metadata": {},
   "outputs": [],
   "source": []
  }
 ],
 "metadata": {
  "kernelspec": {
   "display_name": "Python 3 (ipykernel)",
   "language": "python",
   "name": "python3"
  },
  "language_info": {
   "codemirror_mode": {
    "name": "ipython",
    "version": 3
   },
   "file_extension": ".py",
   "mimetype": "text/x-python",
   "name": "python",
   "nbconvert_exporter": "python",
   "pygments_lexer": "ipython3",
   "version": "3.11.5"
  }
 },
 "nbformat": 4,
 "nbformat_minor": 5
}
